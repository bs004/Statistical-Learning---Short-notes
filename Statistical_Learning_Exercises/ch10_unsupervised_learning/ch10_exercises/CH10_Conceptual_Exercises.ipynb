{
 "cells": [
  {
   "cell_type": "markdown",
   "metadata": {},
   "source": [
    "## Exercise 1: Part of the argument that the $K$-means clustering algorithm 10.1 reaches a local optimum"
   ]
  },
  {
   "cell_type": "markdown",
   "metadata": {},
   "source": [
    "## a. Proving identity (10.12)"
   ]
  },
  {
   "cell_type": "markdown",
   "metadata": {},
   "source": [
    "We'll prove this for the case $p = 1$, from which the result follows easily by induction. \n",
    "\n",
    "Starting with the left-hand side of (10.12), we have\n",
    "\n",
    "$$\n",
    "\\begin{align}\n",
    "\\frac{1}{|C_k|}\\sum_{i, i' \\in C_k} (x_i - x_{i'})^2 &= \\frac{1}{|C_k|}\\sum_{i \\neq i' \\in C_k} (x_i - x_{i'})^2\\\\\n",
    "& = \\frac{2}{|C_k|}\\sum_{i < i'} (x_i - x_{i'})^2\n",
    "\\end{align}\n",
    "$$\n",
    "\n",
    "Now, we work with the right-hand side. \n",
    "\n",
    "$$\n",
    "\\begin{align}\n",
    "2\\sum_{i  \\in C_k} (x_i - \\overline{x}_k)^2 &= 2 \\sum_{i  \\in C_k} \\left(x_i - \\frac{1}{|C_k|}\\sum_{i' \\in C_k} x_{i'}\\right)^2\\\\\n",
    "&= \\frac{2}{N^2} \\sum_{i } \\left((N - 1)x_i - \\sum_{i' \\neq i} x_{i'}\\right)^2\\\\\n",
    "\\end{align}\n",
    "$$\n",
    "\n",
    "Where we have let $N = |C_k|$ for readability.\n",
    "\n",
    "Furthermore\n",
    "\n",
    "$$\n",
    "\\begin{align}\n",
    "& \\left((N - 1)x_i - \\sum_{i' \\neq i} x_{i'}\\right)^2 \\\\\n",
    "&= (N - 1)^2 x_i^2 - \\sum_{i' \\neq i} 2(N - 1)x_ix_{i'} + \\sum_{i' \\neq i} x_{i'}^2 + \\sum_{i', i''\\neq i} 2 x_{i'} x_{i''}\n",
    "\\end{align}\n",
    "$$\n",
    "\n",
    "Thus (4) becomes\n",
    "\n",
    "$$\n",
    "\\begin{align}\n",
    "& \\frac{2}{N^2}\\sum_i \\left((N - 1)^2 x_i^2 + \\sum_{i' \\neq i} 2(N - 1)x_ix_{i'} + \\sum_{i' \\neq i} x_{i'}^2 + \\sum_{i', i''\\neq i} 2 x_{i'}\n",
    "x_{i''}\\right)\\\\\n",
    "&= \\frac{2}{N^2}\\sum_{i < i'}\\Bigg((N - 1)^2 x_i^2  - 2(N - 1)x_ix_{i'} + (N - 1) x_i^2 + 2x_i x_{i'}\\Bigg)\\\\\n",
    "&= \\frac{2}{N^2}\\sum_{i < i'} \\Bigg(N(N - 1)x_{i}^2 - 2Nx_ix_{i'}\\Bigg)\\\\\n",
    "&= \\frac{2}{N^2}\\sum_{i < i'} \\Bigg(N x_{i}^2 - 2Nx_ix_{i'} + Nx_{i'}^2\\Bigg)\\\\\n",
    "&= \\frac{2}{N^2}(N)\\sum_{i < i'} \\Bigg(x_{i}^2 - 2x_ix_{i'} + x_{i'}^2\\Bigg)\\\\\n",
    "&= \\frac{2}{|C_k|}\\sum_{i < i'} \\left(x_{i} - x_{i'}\\right)^2\n",
    "\\end{align}\n",
    "$$\n",
    "\n",
    "And (12) is the same as (2)"
   ]
  },
  {
   "cell_type": "markdown",
   "metadata": {},
   "source": [
    "## b. Arguing the algorithm decreases the objective"
   ]
  },
  {
   "cell_type": "markdown",
   "metadata": {},
   "source": [
    "The identity (10.12) shows that the objective (10.11) is equal to \n",
    "\n",
    "$$\n",
    "\\begin{equation}\n",
    "\\sum_{k =1}^K \\left(2\\sum_{i\\in C_k} ||x_i - \\mu_{k}||^2\\right)\n",
    "\\end{equation}\n",
    "$$\n",
    "\n",
    "where $\\mu_k = (\\overline{x}_{k1}, \\dots, \\overline{x}_{kp})$ is the $k$-th cluster centroid.\n",
    "\n",
    "At each iteration of the algorithm, observations $x_i$ are reassigned to the cluster $k$ whose centroid is closest, i.e. such that $|| x_i - \\mu_k ||^2$ is minimal over $k$. That is, if $k_m$ denotes the cluster assigned to observation $x_i$ on iteration $m$, and $\\mu_{k_m}$ the centroid of cluster $x_m$ then \n",
    "\n",
    "$$ || x_i - \\mu_{k_{m + 1}} ||^2 \\leqslant || x_i - \\mu_{k_{m}} ||^2 $$\n",
    "\n",
    "for all $i$. Thus (1) decreases at each iteration."
   ]
  },
  {
   "cell_type": "markdown",
   "metadata": {},
   "source": [
    "## Exercise 2: Sketching a dendrogram"
   ]
  },
  {
   "cell_type": "markdown",
   "metadata": {},
   "source": [
    "## a. Complete linkage dendrogram"
   ]
  },
  {
   "cell_type": "code",
   "execution_count": 1,
   "metadata": {},
   "outputs": [],
   "source": [
    "%matplotlib inline\n",
    "from matplotlib import pyplot as plt\n",
    "from scipy.cluster.hierarchy import dendrogram, linkage\n",
    "from scipy.spatial.distance import squareform\n",
    "import numpy as np"
   ]
  },
  {
   "cell_type": "code",
   "execution_count": 2,
   "metadata": {},
   "outputs": [],
   "source": [
    "dist_sq = np.array([[0, 0.3, 0.4, 0.7], [0.3, 0, 0.5, 0.8],\n",
    "                       [0.4, 0.5, 0, 0.45], [0.7, 0.8, 0.45, 0]])\n",
    "y = squareform(dist_sq)"
   ]
  },
  {
   "cell_type": "code",
   "execution_count": 3,
   "metadata": {},
   "outputs": [
    {
     "data": {
      "text/plain": [
       "{'icoord': [[5.0, 5.0, 15.0, 15.0],\n",
       "  [25.0, 25.0, 35.0, 35.0],\n",
       "  [10.0, 10.0, 30.0, 30.0]],\n",
       " 'dcoord': [[0.0, 0.3, 0.3, 0.0],\n",
       "  [0.0, 0.45, 0.45, 0.0],\n",
       "  [0.3, 0.8, 0.8, 0.45]],\n",
       " 'ivl': ['x1', 'x2', 'x3', 'x4'],\n",
       " 'leaves': [0, 1, 2, 3],\n",
       " 'color_list': ['g', 'r', 'b']}"
      ]
     },
     "execution_count": 3,
     "metadata": {},
     "output_type": "execute_result"
    },
    {
     "data": {
      "image/png": "[encoded data removed]",
      "text/plain": [
       "<Figure size 432x288 with 1 Axes>"
      ]
     },
     "metadata": {
      "needs_background": "light"
     },
     "output_type": "display_data"
    }
   ],
   "source": [
    "Z = linkage(y, method='complete', metric='Euclidean')\n",
    "plt.title('Complete Linkage Dendrogram')\n",
    "plt.xlabel('sample')\n",
    "plt.ylabel('Euclidean Distance')\n",
    "dendrogram(Z, labels=['x1', 'x2', 'x3', 'x4'], leaf_rotation=45)"
   ]
  },
  {
   "cell_type": "markdown",
   "metadata": {},
   "source": [
    "## b. Single linkage dendrogram"
   ]
  },
  {
   "cell_type": "code",
   "execution_count": 4,
   "metadata": {},
   "outputs": [
    {
     "data": {
      "text/plain": [
       "{'icoord': [[25.0, 25.0, 35.0, 35.0],\n",
       "  [15.0, 15.0, 30.0, 30.0],\n",
       "  [5.0, 5.0, 22.5, 22.5]],\n",
       " 'dcoord': [[0.0, 0.3, 0.3, 0.0],\n",
       "  [0.0, 0.4, 0.4, 0.3],\n",
       "  [0.0, 0.45, 0.45, 0.4]],\n",
       " 'ivl': ['x4', 'x3', 'x1', 'x2'],\n",
       " 'leaves': [3, 2, 0, 1],\n",
       " 'color_list': ['g', 'b', 'b']}"
      ]
     },
     "execution_count": 4,
     "metadata": {},
     "output_type": "execute_result"
    },
    {
     "data": {
      "image/png": "[encoded data removed]",
      "text/plain": [
       "<Figure size 432x288 with 1 Axes>"
      ]
     },
     "metadata": {
      "needs_background": "light"
     },
     "output_type": "display_data"
    }
   ],
   "source": [
    "Z = linkage(y, method='single', metric='Euclidean')\n",
    "plt.title('Single Linkage Dendrogram')\n",
    "plt.xlabel('sample')\n",
    "plt.ylabel('Euclidean Distance')\n",
    "dendrogram(Z, labels=['x1', 'x2', 'x3', 'x4'], leaf_rotation=90)"
   ]
  },
  {
   "cell_type": "markdown",
   "metadata": {},
   "source": [
    "## c.  Clusters from the complete linkage dendrogram"
   ]
  },
  {
   "cell_type": "markdown",
   "metadata": {},
   "source": [
    "The clusters are\n",
    "\n",
    "$$\\{x_1, x_2\\}, \\{x_3, x_4\\}$$"
   ]
  },
  {
   "cell_type": "markdown",
   "metadata": {},
   "source": [
    "## d. "
   ]
  },
  {
   "cell_type": "markdown",
   "metadata": {},
   "source": [
    "The clusters are\n",
    "\n",
    "$$\\{x_1, x_2, x_3\\}, \\{x_4\\}$$"
   ]
  },
  {
   "cell_type": "markdown",
   "metadata": {},
   "source": [
    "## e. "
   ]
  },
  {
   "cell_type": "markdown",
   "metadata": {},
   "source": [
    "Just exchange $ x_1 \\mapsto x_3, x_2 \\mapsto x_4$ in the diagram in part [a.](#a.-Complete-linkage-dendrogram)"
   ]
  },
  {
   "cell_type": "markdown",
   "metadata": {},
   "source": [
    "## Exercise 3: Manual example of $K$-means clustering for $K=2$, $n=6$, $p=2$. "
   ]
  },
  {
   "cell_type": "markdown",
   "metadata": {},
   "source": []
  },
  {
   "cell_type": "code",
   "execution_count": 5,
   "metadata": {},
   "outputs": [
    {
     "data": {
      "text/html": [
       "<div>\n",
       "<style scoped>\n",
       "    .dataframe tbody tr th:only-of-type {\n",
       "        vertical-align: middle;\n",
       "    }\n",
       "\n",
       "    .dataframe tbody tr th {\n",
       "        vertical-align: top;\n",
       "    }\n",
       "\n",
       "    .dataframe thead th {\n",
       "        text-align: right;\n",
       "    }\n",
       "</style>\n",
       "<table border=\"1\" class=\"dataframe\">\n",
       "  <thead>\n",
       "    <tr style=\"text-align: right;\">\n",
       "      <th></th>\n",
       "      <th>X1</th>\n",
       "      <th>X2</th>\n",
       "    </tr>\n",
       "  </thead>\n",
       "  <tbody>\n",
       "    <tr>\n",
       "      <th>1</th>\n",
       "      <td>1</td>\n",
       "      <td>4</td>\n",
       "    </tr>\n",
       "    <tr>\n",
       "      <th>2</th>\n",
       "      <td>1</td>\n",
       "      <td>3</td>\n",
       "    </tr>\n",
       "    <tr>\n",
       "      <th>3</th>\n",
       "      <td>0</td>\n",
       "      <td>4</td>\n",
       "    </tr>\n",
       "    <tr>\n",
       "      <th>4</th>\n",
       "      <td>5</td>\n",
       "      <td>1</td>\n",
       "    </tr>\n",
       "    <tr>\n",
       "      <th>5</th>\n",
       "      <td>6</td>\n",
       "      <td>2</td>\n",
       "    </tr>\n",
       "    <tr>\n",
       "      <th>6</th>\n",
       "      <td>4</td>\n",
       "      <td>0</td>\n",
       "    </tr>\n",
       "  </tbody>\n",
       "</table>\n",
       "</div>"
      ],
      "text/plain": [
       "   X1  X2\n",
       "1   1   4\n",
       "2   1   3\n",
       "3   0   4\n",
       "4   5   1\n",
       "5   6   2\n",
       "6   4   0"
      ]
     },
     "execution_count": 5,
     "metadata": {},
     "output_type": "execute_result"
    }
   ],
   "source": [
    "import pandas as pd\n",
    "import seaborn as sns; sns.set_style('whitegrid')\n",
    "\n",
    "df = pd.DataFrame({'X1': [1, 1, 0, 5, 6, 4], 'X2': [4, 3, 4, 1, 2, 0]},\n",
    "                    index=range(1, 7))\n",
    "df"
   ]
  },
  {
   "cell_type": "markdown",
   "metadata": {},
   "source": [
    "### a. Plot the observations"
   ]
  },
  {
   "cell_type": "code",
   "execution_count": 6,
   "metadata": {},
   "outputs": [
    {
     "data": {
      "text/plain": [
       "<matplotlib.axes._subplots.AxesSubplot at 0x8168b3d30>"
      ]
     },
     "execution_count": 6,
     "metadata": {},
     "output_type": "execute_result"
    },
    {
     "data": {
      "image/png": "[encoded data removed]",
      "text/plain": [
       "<Figure size 432x288 with 1 Axes>"
      ]
     },
     "metadata": {},
     "output_type": "display_data"
    }
   ],
   "source": [
    "sns.scatterplot(x='X1', y='X2', data=df, color='r')"
   ]
  },
  {
   "cell_type": "markdown",
   "metadata": {},
   "source": [
    "### b. Initialize with random cluster assignment"
   ]
  },
  {
   "cell_type": "code",
   "execution_count": 7,
   "metadata": {},
   "outputs": [
    {
     "data": {
      "text/plain": [
       "1    1\n",
       "2    2\n",
       "3    1\n",
       "4    1\n",
       "5    1\n",
       "6    2\n",
       "Name: cluster, dtype: int64"
      ]
     },
     "execution_count": 7,
     "metadata": {},
     "output_type": "execute_result"
    }
   ],
   "source": [
    "np.random.seed(33)\n",
    "df['cluster'] = np.random.choice([1, 2], replace=True, size=6)\n",
    "df['cluster']"
   ]
  },
  {
   "cell_type": "code",
   "execution_count": 8,
   "metadata": {},
   "outputs": [
    {
     "data": {
      "text/plain": [
       "<matplotlib.axes._subplots.AxesSubplot at 0x8168bad68>"
      ]
     },
     "execution_count": 8,
     "metadata": {},
     "output_type": "execute_result"
    },
    {
     "data": {
      "image/png": "[encoded data removed]",
      "text/plain": [
       "<Figure size 432x288 with 1 Axes>"
      ]
     },
     "metadata": {},
     "output_type": "display_data"
    }
   ],
   "source": [
    "sns.scatterplot(x='X1', y='X2', data=df, hue='cluster', legend='full', \n",
    "                palette=sns.color_palette(n_colors=2))"
   ]
  },
  {
   "cell_type": "markdown",
   "metadata": {},
   "source": [
    "### c. Compute the centroid for each cluster"
   ]
  },
  {
   "cell_type": "code",
   "execution_count": 9,
   "metadata": {},
   "outputs": [],
   "source": [
    "def get_centroids(df):\n",
    "    # compute centroids\n",
    "    c1, c2 = df[df['cluster'] == 1], df[df['cluster'] == 2]\n",
    "    cent_1 = [c1['X1'].mean(), c1['X2'].mean()]\n",
    "    cent_2 = [c2['X1'].mean(), c2['X2'].mean()]\n",
    "\n",
    "    return (cent_1, cent_2)"
   ]
  },
  {
   "cell_type": "code",
   "execution_count": 10,
   "metadata": {},
   "outputs": [],
   "source": [
    "cent_1, cent_2 = get_centroids(df)"
   ]
  },
  {
   "cell_type": "markdown",
   "metadata": {},
   "source": [
    "### d. Assign observations to clusters by centroid"
   ]
  },
  {
   "cell_type": "code",
   "execution_count": 11,
   "metadata": {},
   "outputs": [],
   "source": [
    "def d_cent(cent):\n",
    "    def f(x):\n",
    "        return np.linalg.norm(x - cent)\n",
    "    return f\n",
    "\n",
    "\n",
    "def assign_to_centroid(cent_1, cent_2):\n",
    "    def f(x):\n",
    "        d_1, d_2 = d_cent(cent_1)(x), d_cent(cent_2)(x)\n",
    "        return 1 if d_1 < d_2 else 2\n",
    "    return f\n",
    "\n",
    "def assign_to_clusters(df):\n",
    "    cent_1, cent_2 = get_centroids(df)\n",
    "    df = df.drop(columns=['cluster'])\n",
    "    return df.apply(assign_to_centroid(cent_1, cent_2), axis=1)"
   ]
  },
  {
   "cell_type": "code",
   "execution_count": 12,
   "metadata": {
    "scrolled": true
   },
   "outputs": [
    {
     "data": {
      "text/plain": [
       "1    1\n",
       "2    1\n",
       "3    1\n",
       "4    2\n",
       "5    1\n",
       "6    2\n",
       "dtype: int64"
      ]
     },
     "execution_count": 12,
     "metadata": {},
     "output_type": "execute_result"
    }
   ],
   "source": [
    "assign_to_clusters(df)"
   ]
  },
  {
   "cell_type": "markdown",
   "metadata": {},
   "source": [
    "### e. Iterate (c), (d) until cluster assignments are stable"
   ]
  },
  {
   "cell_type": "code",
   "execution_count": 13,
   "metadata": {},
   "outputs": [],
   "source": [
    "def get_final_clusters(df):\n",
    "    cl_before, cl_after = df['cluster'], assign_to_clusters(df)\n",
    "    while not (cl_before == cl_after).any():\n",
    "        df.loc[:, 'cluster'] = cl_after\n",
    "        get_final_clusters(df)\n",
    "    return cl_after"
   ]
  },
  {
   "cell_type": "code",
   "execution_count": 14,
   "metadata": {},
   "outputs": [
    {
     "data": {
      "text/plain": [
       "1    1\n",
       "2    1\n",
       "3    1\n",
       "4    2\n",
       "5    1\n",
       "6    2\n",
       "dtype: int64"
      ]
     },
     "execution_count": 14,
     "metadata": {},
     "output_type": "execute_result"
    }
   ],
   "source": [
    "get_final_clusters(df)"
   ]
  },
  {
   "cell_type": "markdown",
   "metadata": {},
   "source": [
    "### f. Plot clusters"
   ]
  },
  {
   "cell_type": "code",
   "execution_count": 15,
   "metadata": {},
   "outputs": [
    {
     "data": {
      "text/plain": [
       "<matplotlib.axes._subplots.AxesSubplot at 0x1a191f0198>"
      ]
     },
     "execution_count": 15,
     "metadata": {},
     "output_type": "execute_result"
    },
    {
     "data": {
      "image/png": "[encoded data removed]",
      "text/plain": [
       "<Figure size 432x288 with 1 Axes>"
      ]
     },
     "metadata": {},
     "output_type": "display_data"
    }
   ],
   "source": [
    "sns.scatterplot(x='X1', y='X2', data=df, hue='cluster', legend='full',\n",
    "                palette=sns.color_palette(n_colors=2))"
   ]
  },
  {
   "cell_type": "markdown",
   "metadata": {},
   "source": [
    "## Exercise 4: Comparing single and complete linkage"
   ]
  },
  {
   "cell_type": "markdown",
   "metadata": {},
   "source": [
    "### a. For clusters $\\{1, 2, 3\\}$ and $\\{4, 5\\}$."
   ]
  },
  {
   "cell_type": "markdown",
   "metadata": {},
   "source": [
    "In both linkage diagrams, the clusters $A = \\{1, 2, 3\\}$ and $B = \\{4, 5\\}$ fuse when they are the most similar pair of clusters among all pairs at that height.\n",
    "\n",
    "In the simple linkage diagram, this occurs at the height $h_{sing}(A, B)$ when the *minimum* dissimilarity $d(a, b)$ over pairs $(a, b) \\in A \\times B$ is less than for any other clusters $C$.\n",
    "In the complete linkage diagram, this occurs at the height $h_{comp}(A, B)$ when the *maximum* dissimilarity over pairs $d(a, b) \\in A \\times B$ is less than for any other clusters $C$.\n",
    "\n",
    "It is possible to have the maximum over other clusters $C$ less than or equal to the minimum, and vice versa. In the former case, $h_{comp} <= h_{sing}$ and in the latter, $h_{comp} >= h_{sing}$. So there is not enough information to tell.\n",
    "\n",
    "To make this argument a bit more concrete here are some examples:"
   ]
  },
  {
   "cell_type": "markdown",
   "metadata": {},
   "source": [
    "#### An example of $h_{comp} < h_{sing}$"
   ]
  },
  {
   "cell_type": "markdown",
   "metadata": {},
   "source": [
    "Consider the following possible subset of observations. Suppose all other observations are far away."
   ]
  },
  {
   "cell_type": "code",
   "execution_count": 90,
   "metadata": {
    "scrolled": true
   },
   "outputs": [
    {
     "data": {
      "text/html": [
       "<div>\n",
       "<style scoped>\n",
       "    .dataframe tbody tr th:only-of-type {\n",
       "        vertical-align: middle;\n",
       "    }\n",
       "\n",
       "    .dataframe tbody tr th {\n",
       "        vertical-align: top;\n",
       "    }\n",
       "\n",
       "    .dataframe thead th {\n",
       "        text-align: right;\n",
       "    }\n",
       "</style>\n",
       "<table border=\"1\" class=\"dataframe\">\n",
       "  <thead>\n",
       "    <tr style=\"text-align: right;\">\n",
       "      <th></th>\n",
       "      <th>X1</th>\n",
       "      <th>X2</th>\n",
       "    </tr>\n",
       "  </thead>\n",
       "  <tbody>\n",
       "    <tr>\n",
       "      <th>1</th>\n",
       "      <td>0</td>\n",
       "      <td>0</td>\n",
       "    </tr>\n",
       "    <tr>\n",
       "      <th>2</th>\n",
       "      <td>0</td>\n",
       "      <td>1</td>\n",
       "    </tr>\n",
       "    <tr>\n",
       "      <th>3</th>\n",
       "      <td>0</td>\n",
       "      <td>2</td>\n",
       "    </tr>\n",
       "    <tr>\n",
       "      <th>4</th>\n",
       "      <td>4</td>\n",
       "      <td>1</td>\n",
       "    </tr>\n",
       "    <tr>\n",
       "      <th>5</th>\n",
       "      <td>4</td>\n",
       "      <td>2</td>\n",
       "    </tr>\n",
       "    <tr>\n",
       "      <th>6</th>\n",
       "      <td>7</td>\n",
       "      <td>2</td>\n",
       "    </tr>\n",
       "    <tr>\n",
       "      <th>7</th>\n",
       "      <td>11</td>\n",
       "      <td>2</td>\n",
       "    </tr>\n",
       "  </tbody>\n",
       "</table>\n",
       "</div>"
      ],
      "text/plain": [
       "   X1  X2\n",
       "1   0   0\n",
       "2   0   1\n",
       "3   0   2\n",
       "4   4   1\n",
       "5   4   2\n",
       "6   7   2\n",
       "7  11   2"
      ]
     },
     "execution_count": 90,
     "metadata": {},
     "output_type": "execute_result"
    }
   ],
   "source": [
    "array = np.array([[0, 0], [0, 1], [0, 2], \n",
    "                  [4, 1], [4, 2], \n",
    "                  [7, 2], [11, 2]])\n",
    "df1 = pd.DataFrame(array, columns=['X1', 'X2'], index=range(1, 8))\n",
    "df1"
   ]
  },
  {
   "cell_type": "code",
   "execution_count": 83,
   "metadata": {
    "scrolled": true
   },
   "outputs": [
    {
     "data": {
      "text/plain": [
       "<matplotlib.axes._subplots.AxesSubplot at 0x1a1b1abc88>"
      ]
     },
     "execution_count": 83,
     "metadata": {},
     "output_type": "execute_result"
    },
    {
     "data": {
      "image/png": "[encoded data removed]",
      "text/plain": [
       "<Figure size 432x288 with 1 Axes>"
      ]
     },
     "metadata": {},
     "output_type": "display_data"
    }
   ],
   "source": [
    "sns.scatterplot(x='X1', y='X2', data=df1)"
   ]
  },
  {
   "cell_type": "code",
   "execution_count": 96,
   "metadata": {},
   "outputs": [
    {
     "data": {
      "image/png": "[encoded data removed]",
      "text/plain": [
       "<Figure size 720x432 with 2 Axes>"
      ]
     },
     "metadata": {},
     "output_type": "display_data"
    }
   ],
   "source": [
    "fig, ax = plt.subplots(1, 2, figsize=(10, 6))\n",
    "\n",
    "# plot single linkage dendrogram\n",
    "plt.subplot(1, 2, 1)\n",
    "Z = linkage(df1[['X1', 'X2']], method='single', metric='Euclidean')\n",
    "plt.title('Single Linkage Dendrogram')\n",
    "plt.xlabel('sample')\n",
    "plt.ylabel('Euclidean Distance')\n",
    "dendrogram(Z, labels=['x'+str(i) for i in range(1, 8)], leaf_rotation=45)\n",
    "\n",
    "# plot complete linkage dendrogram\n",
    "plt.subplot(1, 2, 2)\n",
    "Z = linkage(df1[['X1', 'X2']], method='complete', metric='Euclidean')\n",
    "plt.title('Complete Linkage Dendrogram')\n",
    "plt.xlabel('sample')\n",
    "plt.ylabel('Euclidean Distance')\n",
    "dendrogram(Z, labels=['x'+str(i) for i in range(1, 8)], leaf_rotation=45)\n",
    "\n",
    "fig.tight_layout()"
   ]
  },
  {
   "cell_type": "markdown",
   "metadata": {},
   "source": [
    "In this example, $A = {1, 2, 3}$ and $B ={4, 5}$ are indeed both clusters -- they are formed at height 1 in the simple linkage dendrogram and at height 2 in the complete linkage dendrogram. \n",
    "\n",
    "But in this case the height that they are fused is greater for the complete linkage than for the single linkage\n",
    "\n",
    "$$h_{comp}(A, B) = 11 > h_{sing}(A, B) = 4$$"
   ]
  },
  {
   "cell_type": "markdown",
   "metadata": {},
   "source": [
    "#### An example of $h_{comp} < h_{sing}$"
   ]
  },
  {
   "cell_type": "markdown",
   "metadata": {},
   "source": [
    "We use the same observations from the last example, except the $x_7$ point changes $[11, 2] \\mapsto [9, 2]$"
   ]
  },
  {
   "cell_type": "code",
   "execution_count": 91,
   "metadata": {
    "scrolled": true
   },
   "outputs": [
    {
     "data": {
      "text/html": [
       "<div>\n",
       "<style scoped>\n",
       "    .dataframe tbody tr th:only-of-type {\n",
       "        vertical-align: middle;\n",
       "    }\n",
       "\n",
       "    .dataframe tbody tr th {\n",
       "        vertical-align: top;\n",
       "    }\n",
       "\n",
       "    .dataframe thead th {\n",
       "        text-align: right;\n",
       "    }\n",
       "</style>\n",
       "<table border=\"1\" class=\"dataframe\">\n",
       "  <thead>\n",
       "    <tr style=\"text-align: right;\">\n",
       "      <th></th>\n",
       "      <th>X1</th>\n",
       "      <th>X2</th>\n",
       "    </tr>\n",
       "  </thead>\n",
       "  <tbody>\n",
       "    <tr>\n",
       "      <th>1</th>\n",
       "      <td>0</td>\n",
       "      <td>0</td>\n",
       "    </tr>\n",
       "    <tr>\n",
       "      <th>2</th>\n",
       "      <td>0</td>\n",
       "      <td>1</td>\n",
       "    </tr>\n",
       "    <tr>\n",
       "      <th>3</th>\n",
       "      <td>0</td>\n",
       "      <td>2</td>\n",
       "    </tr>\n",
       "    <tr>\n",
       "      <th>4</th>\n",
       "      <td>4</td>\n",
       "      <td>1</td>\n",
       "    </tr>\n",
       "    <tr>\n",
       "      <th>5</th>\n",
       "      <td>4</td>\n",
       "      <td>2</td>\n",
       "    </tr>\n",
       "    <tr>\n",
       "      <th>6</th>\n",
       "      <td>7</td>\n",
       "      <td>2</td>\n",
       "    </tr>\n",
       "    <tr>\n",
       "      <th>7</th>\n",
       "      <td>9</td>\n",
       "      <td>2</td>\n",
       "    </tr>\n",
       "  </tbody>\n",
       "</table>\n",
       "</div>"
      ],
      "text/plain": [
       "   X1  X2\n",
       "1   0   0\n",
       "2   0   1\n",
       "3   0   2\n",
       "4   4   1\n",
       "5   4   2\n",
       "6   7   2\n",
       "7   9   2"
      ]
     },
     "execution_count": 91,
     "metadata": {},
     "output_type": "execute_result"
    }
   ],
   "source": [
    "df1.loc[7, 'X1'] = 9\n",
    "df1"
   ]
  },
  {
   "cell_type": "code",
   "execution_count": 95,
   "metadata": {},
   "outputs": [
    {
     "data": {
      "image/png": "[encoded data removed]",
      "text/plain": [
       "<Figure size 720x432 with 2 Axes>"
      ]
     },
     "metadata": {},
     "output_type": "display_data"
    }
   ],
   "source": [
    "fig, ax = plt.subplots(1, 2, figsize=(10, 6))\n",
    "\n",
    "# plot single linkage dendrogram\n",
    "plt.subplot(1, 2, 1)\n",
    "Z = linkage(df1[['X1', 'X2']], method='single', metric='Euclidean')\n",
    "plt.title('Single Linkage Dendrogram')\n",
    "plt.xlabel('sample')\n",
    "plt.ylabel('Euclidean Distance')\n",
    "dendrogram(Z, labels=['x'+str(i) for i in range(1, 8)], leaf_rotation=45)\n",
    "\n",
    "# plot complete linkage dendrogram\n",
    "plt.subplot(1, 2, 2)\n",
    "Z = linkage(df1[['X1', 'X2']], method='complete', metric='Euclidean')\n",
    "plt.title('Complete Linkage Dendrogram')\n",
    "plt.xlabel('sample')\n",
    "plt.ylabel('Euclidean Distance')\n",
    "dendrogram(Z, labels=['x'+str(i) for i in range(1, 8)], leaf_rotation=45)\n",
    "\n",
    "fig.tight_layout()"
   ]
  },
  {
   "cell_type": "markdown",
   "metadata": {},
   "source": [
    "Again in this example, $A = {1, 2, 3}$ and $B ={4, 5}$ are indeed both clusters -- again they are formed at height 1 in the simple linkage dendrogram and at height 2 in the complete linkage dendrogram. \n",
    "\n",
    "But in this case the height that they are fused is greater for the single linkage than for the complete linkage\n",
    "\n",
    "$$h_{comp}(A, B) = 2 < h_{sing}(A, B) = 4$$"
   ]
  },
  {
   "cell_type": "markdown",
   "metadata": {},
   "source": [
    "## b. For clusters $\\{5\\}$, $\\{6\\}$"
   ]
  },
  {
   "cell_type": "markdown",
   "metadata": {},
   "source": [
    "In this case, with singleton clusters $A = \\{5\\}$, $B = \\{6\\}$\n",
    "\n",
    "$$d_{sing}(A, B) = d_{comp}(A, B) = d(5, 6)$$\n",
    "\n",
    "so $A, B$ are fused when in the single linkage diagram when \n",
    "\n",
    "$$d(5, 6) \\leqslant \\underset{clusters\\ C}{\\min}\\{\\min{d(5, c)} | c \\in C\\}$$\n",
    "\n",
    "and in the complete linkage diagram when \n",
    "\n",
    "$$d(5, 6) \\leqslant \\underset{clusters\\ C}{\\min}\\{\\max{d(5, c)} | c \\in C\\}$$\n",
    "\n",
    "so necessarily\n",
    "\n",
    "$$h_{comp}(A, B) \\geqslant h_{sing}(A, B)$$"
   ]
  },
  {
   "cell_type": "markdown",
   "metadata": {},
   "source": [
    "## Exercise 5: $K$-means clustering in fig 10.14"
   ]
  },
  {
   "cell_type": "markdown",
   "metadata": {},
   "source": [
    "For the left-hand scaling, we would expect the orange customer in a cluster by themselves, and the other 7 customers in the other. The orange customer has a minimum distance of 3 from any other customer, and all other 7 customers are a distance one away from some other customer in that group.\n",
    "\n",
    "For the middle scaling, we would expect to see the customers that bought computers (yellow, blue, red, magenta) in one cluster and the others in the other.\n",
    "\n",
    "For the right-hand scaling, we would expect to see the same as for the middle scaling.\n",
    "\n",
    "We can verify these expectations with a computation"
   ]
  },
  {
   "cell_type": "markdown",
   "metadata": {},
   "source": [
    "### Left-hand scaling"
   ]
  },
  {
   "cell_type": "code",
   "execution_count": 142,
   "metadata": {},
   "outputs": [
    {
     "data": {
      "text/html": [
       "<div>\n",
       "<style scoped>\n",
       "    .dataframe tbody tr th:only-of-type {\n",
       "        vertical-align: middle;\n",
       "    }\n",
       "\n",
       "    .dataframe tbody tr th {\n",
       "        vertical-align: top;\n",
       "    }\n",
       "\n",
       "    .dataframe thead th {\n",
       "        text-align: right;\n",
       "    }\n",
       "</style>\n",
       "<table border=\"1\" class=\"dataframe\">\n",
       "  <thead>\n",
       "    <tr style=\"text-align: right;\">\n",
       "      <th></th>\n",
       "      <th>socks</th>\n",
       "      <th>computers</th>\n",
       "    </tr>\n",
       "  </thead>\n",
       "  <tbody>\n",
       "    <tr>\n",
       "      <th>black</th>\n",
       "      <td>8</td>\n",
       "      <td>0</td>\n",
       "    </tr>\n",
       "    <tr>\n",
       "      <th>orange</th>\n",
       "      <td>11</td>\n",
       "      <td>0</td>\n",
       "    </tr>\n",
       "    <tr>\n",
       "      <th>lt_blue</th>\n",
       "      <td>7</td>\n",
       "      <td>0</td>\n",
       "    </tr>\n",
       "    <tr>\n",
       "      <th>green</th>\n",
       "      <td>6</td>\n",
       "      <td>0</td>\n",
       "    </tr>\n",
       "    <tr>\n",
       "      <th>yellow</th>\n",
       "      <td>5</td>\n",
       "      <td>1</td>\n",
       "    </tr>\n",
       "    <tr>\n",
       "      <th>dk_blue</th>\n",
       "      <td>6</td>\n",
       "      <td>1</td>\n",
       "    </tr>\n",
       "    <tr>\n",
       "      <th>red</th>\n",
       "      <td>7</td>\n",
       "      <td>1</td>\n",
       "    </tr>\n",
       "    <tr>\n",
       "      <th>magenta</th>\n",
       "      <td>8</td>\n",
       "      <td>1</td>\n",
       "    </tr>\n",
       "  </tbody>\n",
       "</table>\n",
       "</div>"
      ],
      "text/plain": [
       "         socks  computers\n",
       "black        8          0\n",
       "orange      11          0\n",
       "lt_blue      7          0\n",
       "green        6          0\n",
       "yellow       5          1\n",
       "dk_blue      6          1\n",
       "red          7          1\n",
       "magenta      8          1"
      ]
     },
     "execution_count": 142,
     "metadata": {},
     "output_type": "execute_result"
    }
   ],
   "source": [
    "customers = ['black', 'orange', 'lt_blue', 'green', 'yellow', 'dk_blue',\n",
    "             'red', 'magenta']\n",
    "purchases = [[8, 0], [11, 0], [7, 0], [6, 0], [5, 1], [6, 1], [7, 1], \n",
    "               [8, 1]]\n",
    "df_left = pd.DataFrame(purchases, columns=['socks', 'computers'], index=customers)\n",
    "df_left"
   ]
  },
  {
   "cell_type": "code",
   "execution_count": 132,
   "metadata": {},
   "outputs": [
    {
     "data": {
      "image/png": "[encoded data removed]",
      "text/plain": [
       "<Figure size 720x432 with 2 Axes>"
      ]
     },
     "metadata": {},
     "output_type": "display_data"
    }
   ],
   "source": [
    "fig, ax = plt.subplots(1, 2, figsize=(10, 6))\n",
    "\n",
    "# plot single linkage dendrogram\n",
    "plt.subplot(1, 2, 1)\n",
    "Z = linkage(df_left, method='single', metric='Euclidean')\n",
    "plt.title('Single Linkage Dendrogram')\n",
    "plt.xlabel('sample')\n",
    "plt.ylabel('Euclidean Distance')\n",
    "dendrogram(Z, labels=customers, leaf_rotation=45)\n",
    "\n",
    "# plot complete linkage dendrogram\n",
    "plt.subplot(1, 2, 2)\n",
    "Z = linkage(df_left, method='complete', metric='Euclidean')\n",
    "plt.title('Complete Linkage Dendrogram')\n",
    "plt.xlabel('sample')\n",
    "plt.ylabel('Euclidean Distance')\n",
    "dendrogram(Z, labels=customers, leaf_rotation=45)\n",
    "\n",
    "fig.tight_layout()"
   ]
  },
  {
   "cell_type": "markdown",
   "metadata": {},
   "source": [
    "For both single and complete linkages, the clusters were as expected"
   ]
  },
  {
   "cell_type": "markdown",
   "metadata": {},
   "source": [
    "### Middle scaling"
   ]
  },
  {
   "cell_type": "markdown",
   "metadata": {},
   "source": [
    "We don't get the same plot as the book whether we scale by the standard deviation (or the variance) so we'll code this by hand again (with a bit of guesswork)"
   ]
  },
  {
   "cell_type": "code",
   "execution_count": 133,
   "metadata": {},
   "outputs": [
    {
     "data": {
      "text/html": [
       "<div>\n",
       "<style scoped>\n",
       "    .dataframe tbody tr th:only-of-type {\n",
       "        vertical-align: middle;\n",
       "    }\n",
       "\n",
       "    .dataframe tbody tr th {\n",
       "        vertical-align: top;\n",
       "    }\n",
       "\n",
       "    .dataframe thead th {\n",
       "        text-align: right;\n",
       "    }\n",
       "</style>\n",
       "<table border=\"1\" class=\"dataframe\">\n",
       "  <thead>\n",
       "    <tr style=\"text-align: right;\">\n",
       "      <th></th>\n",
       "      <th>socks</th>\n",
       "      <th>computers</th>\n",
       "    </tr>\n",
       "  </thead>\n",
       "  <tbody>\n",
       "    <tr>\n",
       "      <th>black</th>\n",
       "      <td>1.00</td>\n",
       "      <td>0.0</td>\n",
       "    </tr>\n",
       "    <tr>\n",
       "      <th>orange</th>\n",
       "      <td>1.40</td>\n",
       "      <td>0.0</td>\n",
       "    </tr>\n",
       "    <tr>\n",
       "      <th>lt_blue</th>\n",
       "      <td>0.90</td>\n",
       "      <td>0.0</td>\n",
       "    </tr>\n",
       "    <tr>\n",
       "      <th>green</th>\n",
       "      <td>0.78</td>\n",
       "      <td>0.0</td>\n",
       "    </tr>\n",
       "    <tr>\n",
       "      <th>yellow</th>\n",
       "      <td>0.62</td>\n",
       "      <td>1.4</td>\n",
       "    </tr>\n",
       "    <tr>\n",
       "      <th>dk_blue</th>\n",
       "      <td>0.78</td>\n",
       "      <td>1.4</td>\n",
       "    </tr>\n",
       "    <tr>\n",
       "      <th>red</th>\n",
       "      <td>0.90</td>\n",
       "      <td>1.4</td>\n",
       "    </tr>\n",
       "    <tr>\n",
       "      <th>magenta</th>\n",
       "      <td>1.00</td>\n",
       "      <td>1.4</td>\n",
       "    </tr>\n",
       "  </tbody>\n",
       "</table>\n",
       "</div>"
      ],
      "text/plain": [
       "         socks  computers\n",
       "black     1.00        0.0\n",
       "orange    1.40        0.0\n",
       "lt_blue   0.90        0.0\n",
       "green     0.78        0.0\n",
       "yellow    0.62        1.4\n",
       "dk_blue   0.78        1.4\n",
       "red       0.90        1.4\n",
       "magenta   1.00        1.4"
      ]
     },
     "execution_count": 133,
     "metadata": {},
     "output_type": "execute_result"
    }
   ],
   "source": [
    "df_mid = df/df.std()\n",
    "df_mid.loc[:, 'socks'] = [1.0, 1.4, 0.9, 0.78, 0.62, 0.78, 0.9, 1.0]\n",
    "df_mid.loc[:, 'computers'] = [0, 0, 0, 0, 1.4, 1.4, 1.4, 1.4]\n",
    "df_mid"
   ]
  },
  {
   "cell_type": "code",
   "execution_count": 134,
   "metadata": {},
   "outputs": [
    {
     "data": {
      "image/png": "[encoded data removed]",
      "text/plain": [
       "<Figure size 720x432 with 2 Axes>"
      ]
     },
     "metadata": {},
     "output_type": "display_data"
    }
   ],
   "source": [
    "fig, ax = plt.subplots(1, 2, figsize=(10, 6))\n",
    "\n",
    "# plot single linkage dendrogram\n",
    "plt.subplot(1, 2, 1)\n",
    "Z = linkage(df_mid, method='single', metric='Euclidean')\n",
    "plt.title('Single Linkage Dendrogram')\n",
    "plt.xlabel('sample')\n",
    "plt.ylabel('Euclidean Distance')\n",
    "dendrogram(Z, labels=customers, leaf_rotation=45)\n",
    "\n",
    "# plot complete linkage dendrogram\n",
    "plt.subplot(1, 2, 2)\n",
    "Z = linkage(df_mid, method='complete', metric='Euclidean')\n",
    "plt.title('Complete Linkage Dendrogram')\n",
    "plt.xlabel('sample')\n",
    "plt.ylabel('Euclidean Distance')\n",
    "dendrogram(Z, labels=customers, leaf_rotation=45)\n",
    "\n",
    "fig.tight_layout()"
   ]
  },
  {
   "cell_type": "markdown",
   "metadata": {},
   "source": [
    "For both single and complete linkages, the clusters were again as expected"
   ]
  },
  {
   "cell_type": "markdown",
   "metadata": {},
   "source": [
    "### Right-hand scaling"
   ]
  },
  {
   "cell_type": "markdown",
   "metadata": {},
   "source": [
    "We'll assume $\\$2$ per pair of socks, and $\\$2000$ per computer"
   ]
  },
  {
   "cell_type": "code",
   "execution_count": 144,
   "metadata": {},
   "outputs": [
    {
     "data": {
      "text/html": [
       "<div>\n",
       "<style scoped>\n",
       "    .dataframe tbody tr th:only-of-type {\n",
       "        vertical-align: middle;\n",
       "    }\n",
       "\n",
       "    .dataframe tbody tr th {\n",
       "        vertical-align: top;\n",
       "    }\n",
       "\n",
       "    .dataframe thead th {\n",
       "        text-align: right;\n",
       "    }\n",
       "</style>\n",
       "<table border=\"1\" class=\"dataframe\">\n",
       "  <thead>\n",
       "    <tr style=\"text-align: right;\">\n",
       "      <th></th>\n",
       "      <th>socks</th>\n",
       "      <th>computers</th>\n",
       "    </tr>\n",
       "  </thead>\n",
       "  <tbody>\n",
       "    <tr>\n",
       "      <th>black</th>\n",
       "      <td>16</td>\n",
       "      <td>0</td>\n",
       "    </tr>\n",
       "    <tr>\n",
       "      <th>orange</th>\n",
       "      <td>22</td>\n",
       "      <td>0</td>\n",
       "    </tr>\n",
       "    <tr>\n",
       "      <th>lt_blue</th>\n",
       "      <td>14</td>\n",
       "      <td>0</td>\n",
       "    </tr>\n",
       "    <tr>\n",
       "      <th>green</th>\n",
       "      <td>12</td>\n",
       "      <td>0</td>\n",
       "    </tr>\n",
       "    <tr>\n",
       "      <th>yellow</th>\n",
       "      <td>10</td>\n",
       "      <td>2000</td>\n",
       "    </tr>\n",
       "    <tr>\n",
       "      <th>dk_blue</th>\n",
       "      <td>12</td>\n",
       "      <td>2000</td>\n",
       "    </tr>\n",
       "    <tr>\n",
       "      <th>red</th>\n",
       "      <td>14</td>\n",
       "      <td>2000</td>\n",
       "    </tr>\n",
       "    <tr>\n",
       "      <th>magenta</th>\n",
       "      <td>16</td>\n",
       "      <td>2000</td>\n",
       "    </tr>\n",
       "  </tbody>\n",
       "</table>\n",
       "</div>"
      ],
      "text/plain": [
       "         socks  computers\n",
       "black       16          0\n",
       "orange      22          0\n",
       "lt_blue     14          0\n",
       "green       12          0\n",
       "yellow      10       2000\n",
       "dk_blue     12       2000\n",
       "red         14       2000\n",
       "magenta     16       2000"
      ]
     },
     "execution_count": 144,
     "metadata": {},
     "output_type": "execute_result"
    }
   ],
   "source": [
    "df_right = df_left.copy()\n",
    "df_right.loc[:, 'socks'] = 2 * df_right['socks']\n",
    "df_right.loc[:, 'computers'] = 2000 * df_right['computers']\n",
    "df_right"
   ]
  },
  {
   "cell_type": "code",
   "execution_count": 145,
   "metadata": {},
   "outputs": [
    {
     "data": {
      "image/png": "[encoded data removed]",
      "text/plain": [
       "<Figure size 720x432 with 2 Axes>"
      ]
     },
     "metadata": {},
     "output_type": "display_data"
    }
   ],
   "source": [
    "fig, ax = plt.subplots(1, 2, figsize=(10, 6))\n",
    "\n",
    "# plot single linkage dendrogram\n",
    "plt.subplot(1, 2, 1)\n",
    "Z = linkage(df_right, method='single', metric='Euclidean')\n",
    "plt.title('Single Linkage Dendrogram')\n",
    "plt.xlabel('sample')\n",
    "plt.ylabel('Euclidean Distance')\n",
    "dendrogram(Z, labels=customers, leaf_rotation=45)\n",
    "\n",
    "# plot complete linkage dendrogram\n",
    "plt.subplot(1, 2, 2)\n",
    "Z = linkage(df_right, method='complete', metric='Euclidean')\n",
    "plt.title('Complete Linkage Dendrogram')\n",
    "plt.xlabel('sample')\n",
    "plt.ylabel('Euclidean Distance')\n",
    "dendrogram(Z, labels=customers, leaf_rotation=45)\n",
    "\n",
    "fig.tight_layout()"
   ]
  },
  {
   "cell_type": "markdown",
   "metadata": {},
   "source": [
    "Again for both single and complete linkages, the clusters were as expected"
   ]
  },
  {
   "cell_type": "markdown",
   "metadata": {},
   "source": [
    "## Exercise 6: A case of PCA"
   ]
  },
  {
   "cell_type": "markdown",
   "metadata": {},
   "source": [
    "### a."
   ]
  },
  {
   "cell_type": "markdown",
   "metadata": {},
   "source": [
    "This means that the proportion of variance explained by the first principal component is 0.10. That is, the ratio of the (sample) variance of the first component to the total (sample) variance is 0.10"
   ]
  }
 ],
 "metadata": {
  "kernelspec": {
   "display_name": "Python 3",
   "language": "python",
   "name": "python3"
  },
  "language_info": {
   "codemirror_mode": {
    "name": "ipython",
    "version": 3
   },
   "file_extension": ".py",
   "mimetype": "text/x-python",
   "name": "python",
   "nbconvert_exporter": "python",
   "pygments_lexer": "ipython3",
   "version": "3.7.1"
  },
  "toc": {
   "base_numbering": 1,
   "nav_menu": {},
   "number_sections": false,
   "sideBar": false,
   "skip_h1_title": true,
   "title_cell": "Table of Contents",
   "title_sidebar": "Contents",
   "toc_cell": false,
   "toc_position": {
    "height": "47px",
    "left": "816.641px",
    "top": "134px",
    "width": "159.359px"
   },
   "toc_section_display": false,
   "toc_window_display": true
  }
 },
 "nbformat": 4,
 "nbformat_minor": 2
}
