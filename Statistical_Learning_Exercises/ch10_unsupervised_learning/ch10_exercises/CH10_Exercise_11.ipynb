{
 "cells": [
  {
   "cell_type": "markdown",
   "metadata": {},
   "source": [
    "# Hierarchical clustering on gene expression dataset"
   ]
  },
  {
   "cell_type": "markdown",
   "metadata": {
    "heading_collapsed": true
   },
   "source": [
    "## a. Preparing the data"
   ]
  },
  {
   "cell_type": "code",
   "execution_count": 35,
   "metadata": {
    "hidden": true
   },
   "outputs": [],
   "source": [
    "%matplotlib inline\n",
    "import matplotlib.pyplot as plt\n",
    "import pandas as pd\n",
    "import numpy as np\n",
    "import seaborn as sns; sns.set_style('whitegrid')"
   ]
  },
  {
   "cell_type": "code",
   "execution_count": 44,
   "metadata": {
    "hidden": true
   },
   "outputs": [
    {
     "data": {
      "text/html": [
       "<div>\n",
       "<style scoped>\n",
       "    .dataframe tbody tr th:only-of-type {\n",
       "        vertical-align: middle;\n",
       "    }\n",
       "\n",
       "    .dataframe tbody tr th {\n",
       "        vertical-align: top;\n",
       "    }\n",
       "\n",
       "    .dataframe thead th {\n",
       "        text-align: right;\n",
       "    }\n",
       "</style>\n",
       "<table border=\"1\" class=\"dataframe\">\n",
       "  <thead>\n",
       "    <tr style=\"text-align: right;\">\n",
       "      <th></th>\n",
       "      <th>0</th>\n",
       "      <th>1</th>\n",
       "      <th>2</th>\n",
       "      <th>3</th>\n",
       "      <th>4</th>\n",
       "      <th>5</th>\n",
       "      <th>6</th>\n",
       "      <th>7</th>\n",
       "      <th>8</th>\n",
       "      <th>9</th>\n",
       "      <th>...</th>\n",
       "      <th>30</th>\n",
       "      <th>31</th>\n",
       "      <th>32</th>\n",
       "      <th>33</th>\n",
       "      <th>34</th>\n",
       "      <th>35</th>\n",
       "      <th>36</th>\n",
       "      <th>37</th>\n",
       "      <th>38</th>\n",
       "      <th>39</th>\n",
       "    </tr>\n",
       "  </thead>\n",
       "  <tbody>\n",
       "    <tr>\n",
       "      <th>0</th>\n",
       "      <td>-0.961933</td>\n",
       "      <td>0.441803</td>\n",
       "      <td>-0.975005</td>\n",
       "      <td>1.417504</td>\n",
       "      <td>0.818815</td>\n",
       "      <td>0.316294</td>\n",
       "      <td>-0.024967</td>\n",
       "      <td>-0.063966</td>\n",
       "      <td>0.031497</td>\n",
       "      <td>-0.350311</td>\n",
       "      <td>...</td>\n",
       "      <td>-0.509591</td>\n",
       "      <td>-0.216726</td>\n",
       "      <td>-0.055506</td>\n",
       "      <td>-0.484449</td>\n",
       "      <td>-0.521581</td>\n",
       "      <td>1.949135</td>\n",
       "      <td>1.324335</td>\n",
       "      <td>0.468147</td>\n",
       "      <td>1.061100</td>\n",
       "      <td>1.655970</td>\n",
       "    </tr>\n",
       "    <tr>\n",
       "      <th>1</th>\n",
       "      <td>-0.292526</td>\n",
       "      <td>-1.139267</td>\n",
       "      <td>0.195837</td>\n",
       "      <td>-1.281121</td>\n",
       "      <td>-0.251439</td>\n",
       "      <td>2.511997</td>\n",
       "      <td>-0.922206</td>\n",
       "      <td>0.059543</td>\n",
       "      <td>-1.409645</td>\n",
       "      <td>-0.656712</td>\n",
       "      <td>...</td>\n",
       "      <td>1.700708</td>\n",
       "      <td>0.007290</td>\n",
       "      <td>0.099062</td>\n",
       "      <td>0.563853</td>\n",
       "      <td>-0.257275</td>\n",
       "      <td>-0.581781</td>\n",
       "      <td>-0.169887</td>\n",
       "      <td>-0.542304</td>\n",
       "      <td>0.312939</td>\n",
       "      <td>-1.284377</td>\n",
       "    </tr>\n",
       "    <tr>\n",
       "      <th>2</th>\n",
       "      <td>0.258788</td>\n",
       "      <td>-0.972845</td>\n",
       "      <td>0.588486</td>\n",
       "      <td>-0.800258</td>\n",
       "      <td>-1.820398</td>\n",
       "      <td>-2.058924</td>\n",
       "      <td>-0.064764</td>\n",
       "      <td>1.592124</td>\n",
       "      <td>-0.173117</td>\n",
       "      <td>-0.121087</td>\n",
       "      <td>...</td>\n",
       "      <td>-0.615472</td>\n",
       "      <td>0.009999</td>\n",
       "      <td>0.945810</td>\n",
       "      <td>-0.318521</td>\n",
       "      <td>-0.117889</td>\n",
       "      <td>0.621366</td>\n",
       "      <td>-0.070764</td>\n",
       "      <td>0.401682</td>\n",
       "      <td>-0.016227</td>\n",
       "      <td>-0.526553</td>\n",
       "    </tr>\n",
       "    <tr>\n",
       "      <th>3</th>\n",
       "      <td>-1.152132</td>\n",
       "      <td>-2.213168</td>\n",
       "      <td>-0.861525</td>\n",
       "      <td>0.630925</td>\n",
       "      <td>0.951772</td>\n",
       "      <td>-1.165724</td>\n",
       "      <td>-0.391559</td>\n",
       "      <td>1.063619</td>\n",
       "      <td>-0.350009</td>\n",
       "      <td>-1.489058</td>\n",
       "      <td>...</td>\n",
       "      <td>-0.284277</td>\n",
       "      <td>0.198946</td>\n",
       "      <td>-0.091833</td>\n",
       "      <td>0.349628</td>\n",
       "      <td>-0.298910</td>\n",
       "      <td>1.513696</td>\n",
       "      <td>0.671185</td>\n",
       "      <td>0.010855</td>\n",
       "      <td>-1.043689</td>\n",
       "      <td>1.625275</td>\n",
       "    </tr>\n",
       "    <tr>\n",
       "      <th>4</th>\n",
       "      <td>0.195783</td>\n",
       "      <td>0.593306</td>\n",
       "      <td>0.282992</td>\n",
       "      <td>0.247147</td>\n",
       "      <td>1.978668</td>\n",
       "      <td>-0.871018</td>\n",
       "      <td>-0.989715</td>\n",
       "      <td>-1.032253</td>\n",
       "      <td>-1.109654</td>\n",
       "      <td>-0.385142</td>\n",
       "      <td>...</td>\n",
       "      <td>-0.692998</td>\n",
       "      <td>-0.845707</td>\n",
       "      <td>-0.177497</td>\n",
       "      <td>-0.166491</td>\n",
       "      <td>1.483155</td>\n",
       "      <td>-1.687946</td>\n",
       "      <td>-0.141430</td>\n",
       "      <td>0.200778</td>\n",
       "      <td>-0.675942</td>\n",
       "      <td>2.220611</td>\n",
       "    </tr>\n",
       "  </tbody>\n",
       "</table>\n",
       "<p>5 rows × 40 columns</p>\n",
       "</div>"
      ],
      "text/plain": [
       "         0         1         2         3         4         5         6   \\\n",
       "0 -0.961933  0.441803 -0.975005  1.417504  0.818815  0.316294 -0.024967   \n",
       "1 -0.292526 -1.139267  0.195837 -1.281121 -0.251439  2.511997 -0.922206   \n",
       "2  0.258788 -0.972845  0.588486 -0.800258 -1.820398 -2.058924 -0.064764   \n",
       "3 -1.152132 -2.213168 -0.861525  0.630925  0.951772 -1.165724 -0.391559   \n",
       "4  0.195783  0.593306  0.282992  0.247147  1.978668 -0.871018 -0.989715   \n",
       "\n",
       "         7         8         9   ...        30        31        32        33  \\\n",
       "0 -0.063966  0.031497 -0.350311  ... -0.509591 -0.216726 -0.055506 -0.484449   \n",
       "1  0.059543 -1.409645 -0.656712  ...  1.700708  0.007290  0.099062  0.563853   \n",
       "2  1.592124 -0.173117 -0.121087  ... -0.615472  0.009999  0.945810 -0.318521   \n",
       "3  1.063619 -0.350009 -1.489058  ... -0.284277  0.198946 -0.091833  0.349628   \n",
       "4 -1.032253 -1.109654 -0.385142  ... -0.692998 -0.845707 -0.177497 -0.166491   \n",
       "\n",
       "         34        35        36        37        38        39  \n",
       "0 -0.521581  1.949135  1.324335  0.468147  1.061100  1.655970  \n",
       "1 -0.257275 -0.581781 -0.169887 -0.542304  0.312939 -1.284377  \n",
       "2 -0.117889  0.621366 -0.070764  0.401682 -0.016227 -0.526553  \n",
       "3 -0.298910  1.513696  0.671185  0.010855 -1.043689  1.625275  \n",
       "4  1.483155 -1.687946 -0.141430  0.200778 -0.675942  2.220611  \n",
       "\n",
       "[5 rows x 40 columns]"
      ]
     },
     "execution_count": 44,
     "metadata": {},
     "output_type": "execute_result"
    }
   ],
   "source": [
    "genes = pd.read_csv('../../datasets/Ch10Ex11.csv', header=None)\n",
    "genes.head()"
   ]
  },
  {
   "cell_type": "code",
   "execution_count": 45,
   "metadata": {
    "hidden": true,
    "scrolled": false
   },
   "outputs": [
    {
     "name": "stdout",
     "output_type": "stream",
     "text": [
      "<class 'pandas.core.frame.DataFrame'>\n",
      "RangeIndex: 1000 entries, 0 to 999\n",
      "Data columns (total 40 columns):\n",
      "0     1000 non-null float64\n",
      "1     1000 non-null float64\n",
      "2     1000 non-null float64\n",
      "3     1000 non-null float64\n",
      "4     1000 non-null float64\n",
      "5     1000 non-null float64\n",
      "6     1000 non-null float64\n",
      "7     1000 non-null float64\n",
      "8     1000 non-null float64\n",
      "9     1000 non-null float64\n",
      "10    1000 non-null float64\n",
      "11    1000 non-null float64\n",
      "12    1000 non-null float64\n",
      "13    1000 non-null float64\n",
      "14    1000 non-null float64\n",
      "15    1000 non-null float64\n",
      "16    1000 non-null float64\n",
      "17    1000 non-null float64\n",
      "18    1000 non-null float64\n",
      "19    1000 non-null float64\n",
      "20    1000 non-null float64\n",
      "21    1000 non-null float64\n",
      "22    1000 non-null float64\n",
      "23    1000 non-null float64\n",
      "24    1000 non-null float64\n",
      "25    1000 non-null float64\n",
      "26    1000 non-null float64\n",
      "27    1000 non-null float64\n",
      "28    1000 non-null float64\n",
      "29    1000 non-null float64\n",
      "30    1000 non-null float64\n",
      "31    1000 non-null float64\n",
      "32    1000 non-null float64\n",
      "33    1000 non-null float64\n",
      "34    1000 non-null float64\n",
      "35    1000 non-null float64\n",
      "36    1000 non-null float64\n",
      "37    1000 non-null float64\n",
      "38    1000 non-null float64\n",
      "39    1000 non-null float64\n",
      "dtypes: float64(40)\n",
      "memory usage: 312.6 KB\n"
     ]
    }
   ],
   "source": [
    "genes.info()"
   ]
  },
  {
   "cell_type": "markdown",
   "metadata": {},
   "source": [
    "## b. Hierarchical clustering"
   ]
  },
  {
   "cell_type": "markdown",
   "metadata": {},
   "source": [
    "Since we are interested in seeing whether the genes separate the tissue samples into health and diseased classes, the observations are the tissue samples, while the genes are the variables (i.e. we have 40 points in $\\mathbb{R}^{1000}$ not 1000 points in $\\mathbb{R}^{40}$). Thus we want to work with the transpose of the `gene` matrix.\n",
    "\n",
    "Note we do not scale the gene variables by their standard deviation, since they are all measured in the same units"
   ]
  },
  {
   "cell_type": "code",
   "execution_count": 99,
   "metadata": {},
   "outputs": [
    {
     "data": {
      "text/plain": [
       "(40, 1000)"
      ]
     },
     "execution_count": 99,
     "metadata": {},
     "output_type": "execute_result"
    }
   ],
   "source": [
    "tissues = genes.transpose()\n",
    "tissues.shape"
   ]
  },
  {
   "cell_type": "markdown",
   "metadata": {},
   "source": [
    "Standard python library clustering methods (e.g. `sklearn` and `scipy`) don't have correlation-based distance built-in. We might recall (see [exercise 7](CH10_Exercise_07.ipynb)) that for data with zero mean and standard deviation 1, $d_{Eucl}(x_i, x_j) \\propto d_{corr}(x_i, x_j)$. But in this case we are not standardizing the data (see above) so we don't want to use the Euclidean distance.\n",
    "\n",
    "A better alternative is to precompute the [correlation based distance](https://www.datanovia.com/en/lessons/clustering-distance-measures/)\n",
    "$d_{corr}(x_i, x_j) = 1 - \\text{corr}(x_i, x_j)$ since `scipy`'s linkage will accept a dissimilarity (distance) matrix as input."
   ]
  },
  {
   "cell_type": "markdown",
   "metadata": {},
   "source": [
    "### Clustering with precomputed correlation distance"
   ]
  },
  {
   "cell_type": "code",
   "execution_count": 102,
   "metadata": {},
   "outputs": [],
   "source": [
    "from scipy.cluster.hierarchy import linkage, dendrogram\n",
    "from scipy.spatial.distance import squareform\n",
    "\n",
    "# pandas.DataFrame.corr() gives correlation of columns but we want correlation of rows (genes)\n",
    "corr_dist_matrix = squareform(1 - tissues.transpose().corr())"
   ]
  },
  {
   "cell_type": "code",
   "execution_count": 101,
   "metadata": {},
   "outputs": [
    {
     "data": {
      "text/plain": [
       "(780,)"
      ]
     },
     "execution_count": 101,
     "metadata": {},
     "output_type": "execute_result"
    }
   ],
   "source": [
    "corr_dist_matrix.shape"
   ]
  },
  {
   "cell_type": "markdown",
   "metadata": {},
   "source": [
    "#### Single linkage"
   ]
  },
  {
   "cell_type": "code",
   "execution_count": 103,
   "metadata": {
    "scrolled": false
   },
   "outputs": [
    {
     "data": {
      "image/png": "[encoded data removed]",
      "text/plain": [
       "<Figure size 1080x720 with 1 Axes>"
      ]
     },
     "metadata": {},
     "output_type": "display_data"
    }
   ],
   "source": [
    "plt.figure(figsize=(15, 10))\n",
    "single_linkage = linkage(corr_dist_matrix, method='single')\n",
    "d_single = dendrogram(single_linkage, labels=tissues.index, leaf_rotation=90)"
   ]
  },
  {
   "cell_type": "markdown",
   "metadata": {},
   "source": [
    "Here single linkage has managed to clearly separate the classes perfectly"
   ]
  },
  {
   "cell_type": "code",
   "execution_count": 104,
   "metadata": {},
   "outputs": [
    {
     "data": {
      "text/plain": [
       "[0, 1, 2, 3, 4, 5, 6, 7, 8, 9, 10, 11, 12, 13, 14, 15, 16, 17, 18, 19]"
      ]
     },
     "execution_count": 104,
     "metadata": {},
     "output_type": "execute_result"
    }
   ],
   "source": [
    "# cluster 1\n",
    "sorted(d_single['ivl'][ : d_single['ivl'].index(3) + 1])"
   ]
  },
  {
   "cell_type": "code",
   "execution_count": 70,
   "metadata": {},
   "outputs": [
    {
     "name": "stdout",
     "output_type": "stream",
     "text": [
      "Pretty printing has been turned OFF\n"
     ]
    }
   ],
   "source": [
    "%pprint"
   ]
  },
  {
   "cell_type": "code",
   "execution_count": 105,
   "metadata": {
    "scrolled": true
   },
   "outputs": [
    {
     "data": {
      "text/plain": [
       "[20, 21, 22, 23, 24, 25, 26, 27, 28, 29, 30, 31, 32, 33, 34, 35, 36, 37, 38, 39]"
      ]
     },
     "execution_count": 105,
     "metadata": {},
     "output_type": "execute_result"
    }
   ],
   "source": [
    "# cluster 2\n",
    "sorted(d_single['ivl'][d_single['ivl'].index(3) + 1 : ])"
   ]
  },
  {
   "cell_type": "markdown",
   "metadata": {},
   "source": [
    "#### Complete linkage"
   ]
  },
  {
   "cell_type": "code",
   "execution_count": 106,
   "metadata": {
    "scrolled": false
   },
   "outputs": [
    {
     "data": {
      "image/png": "[encoded data removed]",
      "text/plain": [
       "<Figure size 1080x720 with 1 Axes>"
      ]
     },
     "metadata": {},
     "output_type": "display_data"
    }
   ],
   "source": [
    "plt.figure(figsize=(15, 10))\n",
    "complete_linkage = linkage(corr_dist_matrix, method='complete')\n",
    "d_complete = dendrogram(complete_linkage, labels=tissues.index, leaf_rotation=90)"
   ]
  },
  {
   "cell_type": "markdown",
   "metadata": {},
   "source": [
    "Here complete linkage has not managed to clearly separate the classes perfectly. If we cut the dendrogram to get two classes we get clusters"
   ]
  },
  {
   "cell_type": "code",
   "execution_count": 107,
   "metadata": {},
   "outputs": [
    {
     "data": {
      "text/plain": [
       "[1, 4, 6, 8, 9, 12, 15, 16, 17, 18, 20, 21, 22, 23, 24, 25, 26, 27, 28, 29, 30, 31, 32, 33, 34, 35, 36, 37, 38, 39]"
      ]
     },
     "execution_count": 107,
     "metadata": {},
     "output_type": "execute_result"
    }
   ],
   "source": [
    "# cluster 1\n",
    "sorted(d_complete['ivl'][ : d_complete['ivl'].index(17) + 1])"
   ]
  },
  {
   "cell_type": "code",
   "execution_count": 70,
   "metadata": {},
   "outputs": [
    {
     "name": "stdout",
     "output_type": "stream",
     "text": [
      "Pretty printing has been turned OFF\n"
     ]
    }
   ],
   "source": [
    "%pprint"
   ]
  },
  {
   "cell_type": "code",
   "execution_count": 108,
   "metadata": {
    "scrolled": true
   },
   "outputs": [
    {
     "data": {
      "text/plain": [
       "[0, 2, 3, 5, 7, 10, 11, 13, 14, 19]"
      ]
     },
     "execution_count": 108,
     "metadata": {},
     "output_type": "execute_result"
    }
   ],
   "source": [
    "# cluster 2\n",
    "sorted(d_complete['ivl'][d_complete['ivl'].index(17) + 1 : ])"
   ]
  },
  {
   "cell_type": "markdown",
   "metadata": {},
   "source": [
    "Note however, that if we cut to get three clusters, and merge the two that were not merged, we do get perfect class separation"
   ]
  },
  {
   "cell_type": "code",
   "execution_count": 109,
   "metadata": {},
   "outputs": [
    {
     "data": {
      "text/plain": [
       "[20, 21, 22, 23, 24, 25, 26, 27, 28, 29, 30, 31, 32, 33, 34, 35, 36, 37, 38, 39]"
      ]
     },
     "execution_count": 109,
     "metadata": {},
     "output_type": "execute_result"
    }
   ],
   "source": [
    "# cluster 1\n",
    "sorted(d_complete['ivl'][ : d_complete['ivl'].index(33) + 1])"
   ]
  },
  {
   "cell_type": "code",
   "execution_count": 110,
   "metadata": {},
   "outputs": [
    {
     "data": {
      "text/plain": [
       "[0, 1, 2, 3, 4, 5, 6, 7, 8, 9, 10, 11, 12, 13, 14, 15, 16, 17, 18, 19]"
      ]
     },
     "execution_count": 110,
     "metadata": {},
     "output_type": "execute_result"
    }
   ],
   "source": [
    "# cluster 1\n",
    "sorted(d_complete['ivl'][d_complete['ivl'].index(33) + 1 : ])"
   ]
  },
  {
   "cell_type": "markdown",
   "metadata": {},
   "source": [
    "#### Average linkage"
   ]
  },
  {
   "cell_type": "code",
   "execution_count": 111,
   "metadata": {
    "scrolled": false
   },
   "outputs": [
    {
     "data": {
      "image/png": "[encoded data removed]",
      "text/plain": [
       "<Figure size 1080x720 with 1 Axes>"
      ]
     },
     "metadata": {},
     "output_type": "display_data"
    }
   ],
   "source": [
    "plt.figure(figsize=(15, 10))\n",
    "avg_linkage = linkage(corr_dist_matrix, method='average')\n",
    "d_avg = dendrogram(avg_linkage, labels=tissues.index, leaf_rotation=90)"
   ]
  },
  {
   "cell_type": "markdown",
   "metadata": {},
   "source": [
    "Average linkage does a poorer job of separating the classes"
   ]
  },
  {
   "cell_type": "markdown",
   "metadata": {},
   "source": [
    "#### Centroid linkage"
   ]
  },
  {
   "cell_type": "code",
   "execution_count": 115,
   "metadata": {
    "scrolled": false
   },
   "outputs": [
    {
     "data": {
      "image/png": "[encoded data removed]",
      "text/plain": [
       "<Figure size 1080x720 with 1 Axes>"
      ]
     },
     "metadata": {},
     "output_type": "display_data"
    }
   ],
   "source": [
    "plt.figure(figsize=(15, 10))\n",
    "cent_linkage = linkage(corr_dist_matrix, method='centroid')\n",
    "d_cent = dendrogram(cent_linkage, labels=tissues.index, leaf_rotation=90)"
   ]
  },
  {
   "cell_type": "markdown",
   "metadata": {},
   "source": [
    "Centroid linkage separates the classes perfectly"
   ]
  },
  {
   "cell_type": "code",
   "execution_count": 119,
   "metadata": {},
   "outputs": [
    {
     "data": {
      "text/plain": [
       "[0, 1, 2, 3, 4, 5, 6, 7, 8, 9, 10, 11, 12, 13, 14, 15, 16, 17, 18, 19]"
      ]
     },
     "execution_count": 119,
     "metadata": {},
     "output_type": "execute_result"
    }
   ],
   "source": [
    "# cluster 1\n",
    "sorted(d_cent['ivl'][ : d_cent['ivl'].index(3) + 1])"
   ]
  },
  {
   "cell_type": "code",
   "execution_count": 120,
   "metadata": {
    "scrolled": true
   },
   "outputs": [
    {
     "data": {
      "text/plain": [
       "[20, 21, 22, 23, 24, 25, 26, 27, 28, 29, 30, 31, 32, 33, 34, 35, 36, 37, 38, 39]"
      ]
     },
     "execution_count": 120,
     "metadata": {},
     "output_type": "execute_result"
    }
   ],
   "source": [
    "# cluster 2\n",
    "sorted(d_cent['ivl'][d_cent['ivl'].index(3) + 1 : ])"
   ]
  },
  {
   "cell_type": "markdown",
   "metadata": {},
   "source": [
    "## c. Which genes differ the most across the two groups?"
   ]
  },
  {
   "cell_type": "markdown",
   "metadata": {},
   "source": [
    "We could answer this question using classical statistical inference. For example, we could do confidence intervals or  hypothesis tests for the difference of means of the expression each gene across the healthy and diseased tissue samples. However, it seems likely the authors intended us to use the techniques of this chapter.\n",
    "\n",
    "Recall that the first principal component is the direction along which the data has the greatest variance. The loadings $\\phi_{1, j}$ are the weights of the variables $X_j$ along this direction, so the magnitude of $\\phi_{1, j}$ can be taken as a measure of the degree to which the variable $X_j$ varies across the dataset.\n",
    "\n",
    "To answer the question of which genes $X_j$ differ across the two groups we can:\n",
    "- Find $\\phi_{1, j}$ the first PCA component loading for the full dataset, and take this as the degree to which the gene $X_j$ varies across all tissue samples.\n",
    "- Find $\\phi^{h}_{1, j}, \\phi^{d}_{1, j}$ the first PCA component loadings for the healthy and diseased datasets, respectively, and take each as the degree to which the gene $X_j$ varies within the health and diseased groups, respectively.\n",
    "- Reason that a high magnitude for $\\phi_{1, j}$ will indicate large variance across all tissue samples, while low magnitudes for $\\phi^{h}_{1, j}$, $\\phi^{d}_{1, j}$ will indicate low variances within the respective tissue sample groups, and conclude that such a $X_j$ differs in its expression across the two groups.\n",
    "-  Calculate some quantity which allows us to rank $X_j$ in this fashion. We choose\n",
    "$$ |\\phi_{1, j}| - \\max\\{|\\phi^{h}_{1, j}|, |\\phi^{c}_{1, j}|\\}$$\n"
   ]
  },
  {
   "cell_type": "code",
   "execution_count": 127,
   "metadata": {},
   "outputs": [
    {
     "data": {
      "text/plain": [
       "PCA(copy=True, iterated_power='auto', n_components=None, random_state=None,\n",
       "  svd_solver='auto', tol=0.0, whiten=False)"
      ]
     },
     "execution_count": 127,
     "metadata": {},
     "output_type": "execute_result"
    }
   ],
   "source": [
    "from sklearn.decomposition import PCA\n",
    "\n",
    "pca_full, pca_h, pca_c = PCA(), PCA(), PCA()\n",
    "\n",
    "pca_full.fit(tissues)\n",
    "pca_h.fit(tissues.loc[:19, :])\n",
    "pca_d.fit(tissues.loc[20:, :])\n",
    "\n",
    "phi_full = pca_full.components_.transpose()\n",
    "phi_h = pca_h.components_transpose()\n",
    "phi_d = pca_d.components_transpose()\n",
    "\n",
    "diff_rank = np.abs(phi_full, phi_h, phi_c)"
   ]
  }
 ],
 "metadata": {
  "kernelspec": {
   "display_name": "Python 3",
   "language": "python",
   "name": "python3"
  },
  "language_info": {
   "codemirror_mode": {
    "name": "ipython",
    "version": 3
   },
   "file_extension": ".py",
   "mimetype": "text/x-python",
   "name": "python",
   "nbconvert_exporter": "python",
   "pygments_lexer": "ipython3",
   "version": "3.7.1"
  },
  "toc": {
   "base_numbering": 1,
   "nav_menu": {},
   "number_sections": false,
   "sideBar": false,
   "skip_h1_title": true,
   "title_cell": "Table of Contents",
   "title_sidebar": "Contents",
   "toc_cell": false,
   "toc_position": {
    "height": "47px",
    "left": "1082px",
    "top": "110px",
    "width": "159.359px"
   },
   "toc_section_display": false,
   "toc_window_display": true
  }
 },
 "nbformat": 4,
 "nbformat_minor": 2
}
