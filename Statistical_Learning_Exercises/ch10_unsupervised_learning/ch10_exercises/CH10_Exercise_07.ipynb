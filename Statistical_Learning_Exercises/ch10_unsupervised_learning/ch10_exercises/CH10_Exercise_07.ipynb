{
 "cells": [
  {
   "cell_type": "markdown",
   "metadata": {},
   "source": [
    "# Comparison of correlation based distance and Euclidean distance on `USArrests` dataset."
   ]
  },
  {
   "cell_type": "markdown",
   "metadata": {},
   "source": [
    "For this exercise, we'll just show the proportionality holds in general.\n",
    "\n",
    "The authors mention (p397) that \"this is an unusual use of correlation, which is normally computed between variables; here it is computed between observation profiles\". It [appears](https://www.datanovia.com/en/lessons/clustering-distance-measures/) the authors intended that for observations $x_i, x_j \\in \\mathbb{R}^p$, \n",
    "\n",
    "$$\n",
    "\\begin{align}\n",
    "r_{ij} &= \\frac{\\sum_{k = 1}^p (x_{ik} - \\overline{x}_i)(x_{jk} - \\overline{x}_j)}{\\sqrt{\\sum_{k = 1}^p(x_{ik} - \\overline{x}_i)^2 \\sum_{k = 1}^p(x_{jk} - \\overline{x}_j)^2}}\\\\\n",
    "&= \\frac{(x_i - \\overline{x}_i)^\\top (x_j - \\overline{x}_j)}{||x_i - \\overline{x}_i||^2||x_j - \\overline{x}_j||^2}\n",
    "\\end{align}\n",
    "$$\n",
    "\n",
    "where $\\overline{x}_i = \\frac{1}{p}\\sum_{k = 1}^p x_{ik}$ is the mean over the features. This can be seen the correlation of the pairs $(x_{ik}, x_{jk})$, $k = 1, \\dots, p$, (hence the use of the word \"unusual\" - the feature index has become a sample index).\n",
    "\n",
    "If the data has been standardized then \n",
    "\n",
    "$$\\overline{x}_i = \\overline{x}_j = 0$$\n",
    "\n",
    "and \n",
    "\n",
    "$$||x_i - \\overline{x}_i||^2 = ||x_j - \\overline{x}_j||^2 = 1$$\n",
    "\n",
    "so the correlation\n",
    "\n",
    "$$r_{ij} = \\sum_{k = 1}^p x_{ik}x_{jk} = x_i^\\top x_j $$\n",
    "\n",
    "and the squared euclidean distance is\n",
    "\n",
    "$$\n",
    "\\begin{align}\n",
    "||x_i - x_j||^2 &= x_i^\\top x_i - 2x_i^\\top x_j + x_j^\\top x_j \\\\\n",
    "&= 2(1 - x_i^\\top x_j)\\\\\n",
    "&= 2(1 - r_{ij})\n",
    "\\end{align}\n",
    "$$\n",
    "\n",
    "Hence\n",
    "\n",
    "$$1 - r_{ij} \\propto ||x_i - x_j||^2$$\n",
    "\n",
    "as claimed."
   ]
  }
 ],
 "metadata": {
  "kernelspec": {
   "display_name": "Python 3",
   "language": "python",
   "name": "python3"
  },
  "language_info": {
   "codemirror_mode": {
    "name": "ipython",
    "version": 3
   },
   "file_extension": ".py",
   "mimetype": "text/x-python",
   "name": "python",
   "nbconvert_exporter": "python",
   "pygments_lexer": "ipython3",
   "version": "3.7.1"
  },
  "toc": {
   "base_numbering": 1,
   "nav_menu": {},
   "number_sections": false,
   "sideBar": false,
   "skip_h1_title": true,
   "title_cell": "Table of Contents",
   "title_sidebar": "Contents",
   "toc_cell": false,
   "toc_position": {
    "height": "622px",
    "left": "760px",
    "top": "160px",
    "width": "194.391px"
   },
   "toc_section_display": false,
   "toc_window_display": true
  }
 },
 "nbformat": 4,
 "nbformat_minor": 2
}
