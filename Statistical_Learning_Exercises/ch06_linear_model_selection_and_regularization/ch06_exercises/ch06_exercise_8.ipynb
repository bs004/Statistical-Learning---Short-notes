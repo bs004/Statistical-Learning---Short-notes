{
 "cells": [
  {
   "cell_type": "markdown",
   "metadata": {},
   "source": [
    "# Feature Selection on Simulated Data "
   ]
  },
  {
   "cell_type": "markdown",
   "metadata": {},
   "source": [
    "## a. Generate predictor and noise"
   ]
  },
  {
   "cell_type": "code",
   "execution_count": 2,
   "metadata": {},
   "outputs": [],
   "source": [
    "import numpy as np\n",
    "\n",
    "X, e = np.random.normal(size=100), np.random.normal(size=100)"
   ]
  },
  {
   "cell_type": "code",
   "execution_count": 3,
   "metadata": {},
   "outputs": [
    {
     "data": {
      "text/plain": [
       "(100,)"
      ]
     },
     "execution_count": 3,
     "metadata": {},
     "output_type": "execute_result"
    }
   ],
   "source": [
    "X.shape"
   ]
  },
  {
   "cell_type": "markdown",
   "metadata": {},
   "source": [
    "## b. Generate response"
   ]
  },
  {
   "cell_type": "code",
   "execution_count": 2,
   "metadata": {},
   "outputs": [],
   "source": [
    "(beta_0, beta_1, beta_2, beta_3) = 1, 1, 1, 1\n",
    "\n",
    "y = beta_0*np.array(100*[1]) + beta_1*X + beta_2*X**2 + beta_2*X**3 + e"
   ]
  },
  {
   "cell_type": "code",
   "execution_count": 3,
   "metadata": {},
   "outputs": [
    {
     "data": {
      "text/plain": [
       "<matplotlib.axes._subplots.AxesSubplot at 0x1a186bed68>"
      ]
     },
     "execution_count": 3,
     "metadata": {},
     "output_type": "execute_result"
    },
    {
     "data": {
      "image/png": "[encoded data removed]",
      "text/plain": [
       "<Figure size 432x288 with 1 Axes>"
      ]
     },
     "metadata": {},
     "output_type": "display_data"
    }
   ],
   "source": [
    "import matplotlib.pyplot as plt\n",
    "import seaborn as sns\n",
    "\n",
    "%matplotlib inline\n",
    "sns.set()\n",
    "\n",
    "sns.scatterplot(x=X, y=y)"
   ]
  },
  {
   "cell_type": "markdown",
   "metadata": {},
   "source": [
    "## c. Best Subset Selection"
   ]
  },
  {
   "cell_type": "markdown",
   "metadata": {},
   "source": [
    "First we generate the predictors $X^2, \\dots, X^{10}$ and assemble all data in a dataframe"
   ]
  },
  {
   "cell_type": "code",
   "execution_count": 4,
   "metadata": {},
   "outputs": [
    {
     "data": {
      "text/html": [
       "<div>\n",
       "<style scoped>\n",
       "    .dataframe tbody tr th:only-of-type {\n",
       "        vertical-align: middle;\n",
       "    }\n",
       "\n",
       "    .dataframe tbody tr th {\n",
       "        vertical-align: top;\n",
       "    }\n",
       "\n",
       "    .dataframe thead th {\n",
       "        text-align: right;\n",
       "    }\n",
       "</style>\n",
       "<table border=\"1\" class=\"dataframe\">\n",
       "  <thead>\n",
       "    <tr style=\"text-align: right;\">\n",
       "      <th></th>\n",
       "      <th>X^0</th>\n",
       "      <th>X^1</th>\n",
       "      <th>X^2</th>\n",
       "      <th>X^3</th>\n",
       "      <th>X^4</th>\n",
       "      <th>X^5</th>\n",
       "      <th>X^6</th>\n",
       "      <th>X^7</th>\n",
       "      <th>X^8</th>\n",
       "      <th>X^9</th>\n",
       "      <th>X^10</th>\n",
       "      <th>y</th>\n",
       "    </tr>\n",
       "  </thead>\n",
       "  <tbody>\n",
       "    <tr>\n",
       "      <th>0</th>\n",
       "      <td>1.0</td>\n",
       "      <td>0.115404</td>\n",
       "      <td>0.013318</td>\n",
       "      <td>0.001537</td>\n",
       "      <td>0.000177</td>\n",
       "      <td>0.000020</td>\n",
       "      <td>0.000002</td>\n",
       "      <td>2.726196e-07</td>\n",
       "      <td>3.146150e-08</td>\n",
       "      <td>3.630796e-09</td>\n",
       "      <td>4.190099e-10</td>\n",
       "      <td>1.914734</td>\n",
       "    </tr>\n",
       "    <tr>\n",
       "      <th>1</th>\n",
       "      <td>1.0</td>\n",
       "      <td>-0.594583</td>\n",
       "      <td>0.353530</td>\n",
       "      <td>-0.210203</td>\n",
       "      <td>0.124983</td>\n",
       "      <td>-0.074313</td>\n",
       "      <td>0.044185</td>\n",
       "      <td>-2.627180e-02</td>\n",
       "      <td>1.562078e-02</td>\n",
       "      <td>-9.287856e-03</td>\n",
       "      <td>5.522406e-03</td>\n",
       "      <td>0.848536</td>\n",
       "    </tr>\n",
       "    <tr>\n",
       "      <th>2</th>\n",
       "      <td>1.0</td>\n",
       "      <td>1.751695</td>\n",
       "      <td>3.068436</td>\n",
       "      <td>5.374965</td>\n",
       "      <td>9.415301</td>\n",
       "      <td>16.492737</td>\n",
       "      <td>28.890250</td>\n",
       "      <td>5.060691e+01</td>\n",
       "      <td>8.864789e+01</td>\n",
       "      <td>1.552841e+02</td>\n",
       "      <td>2.720104e+02</td>\n",
       "      <td>11.091760</td>\n",
       "    </tr>\n",
       "    <tr>\n",
       "      <th>3</th>\n",
       "      <td>1.0</td>\n",
       "      <td>-0.662284</td>\n",
       "      <td>0.438620</td>\n",
       "      <td>-0.290491</td>\n",
       "      <td>0.192387</td>\n",
       "      <td>-0.127415</td>\n",
       "      <td>0.084385</td>\n",
       "      <td>-5.588676e-02</td>\n",
       "      <td>3.701289e-02</td>\n",
       "      <td>-2.451304e-02</td>\n",
       "      <td>1.623459e-02</td>\n",
       "      <td>1.893104</td>\n",
       "    </tr>\n",
       "    <tr>\n",
       "      <th>4</th>\n",
       "      <td>1.0</td>\n",
       "      <td>-1.921016</td>\n",
       "      <td>3.690302</td>\n",
       "      <td>-7.089130</td>\n",
       "      <td>13.618332</td>\n",
       "      <td>-26.161034</td>\n",
       "      <td>50.255764</td>\n",
       "      <td>-9.654213e+01</td>\n",
       "      <td>1.854590e+02</td>\n",
       "      <td>-3.562696e+02</td>\n",
       "      <td>6.843997e+02</td>\n",
       "      <td>-4.628707</td>\n",
       "    </tr>\n",
       "  </tbody>\n",
       "</table>\n",
       "</div>"
      ],
      "text/plain": [
       "   X^0       X^1       X^2       X^3        X^4        X^5        X^6  \\\n",
       "0  1.0  0.115404  0.013318  0.001537   0.000177   0.000020   0.000002   \n",
       "1  1.0 -0.594583  0.353530 -0.210203   0.124983  -0.074313   0.044185   \n",
       "2  1.0  1.751695  3.068436  5.374965   9.415301  16.492737  28.890250   \n",
       "3  1.0 -0.662284  0.438620 -0.290491   0.192387  -0.127415   0.084385   \n",
       "4  1.0 -1.921016  3.690302 -7.089130  13.618332 -26.161034  50.255764   \n",
       "\n",
       "            X^7           X^8           X^9          X^10          y  \n",
       "0  2.726196e-07  3.146150e-08  3.630796e-09  4.190099e-10   1.914734  \n",
       "1 -2.627180e-02  1.562078e-02 -9.287856e-03  5.522406e-03   0.848536  \n",
       "2  5.060691e+01  8.864789e+01  1.552841e+02  2.720104e+02  11.091760  \n",
       "3 -5.588676e-02  3.701289e-02 -2.451304e-02  1.623459e-02   1.893104  \n",
       "4 -9.654213e+01  1.854590e+02 -3.562696e+02  6.843997e+02  -4.628707  "
      ]
     },
     "execution_count": 4,
     "metadata": {},
     "output_type": "execute_result"
    }
   ],
   "source": [
    "import pandas as pd\n",
    "\n",
    "data = pd.DataFrame({'X^' + str(i): X**i for i in range(11)})\n",
    "data['y'] = y\n",
    "data.head()"
   ]
  },
  {
   "cell_type": "markdown",
   "metadata": {},
   "source": [
    "The `mlxtend` library has [exhaustive feature selection](http://rasbt.github.io/mlxtend/user_guide/feature_selection/ExhaustiveFeatureSelector/#api)"
   ]
  },
  {
   "cell_type": "code",
   "execution_count": 5,
   "metadata": {},
   "outputs": [
    {
     "data": {
      "text/plain": [
       "{1: (3,),\n",
       " 2: (2, 3),\n",
       " 3: (1, 2, 3),\n",
       " 4: (1, 2, 3, 7),\n",
       " 5: (1, 2, 3, 9, 10),\n",
       " 6: (1, 2, 3, 6, 8, 9),\n",
       " 7: (1, 2, 3, 6, 7, 9, 10),\n",
       " 8: (1, 2, 3, 4, 6, 8, 9, 10),\n",
       " 9: (1, 2, 4, 5, 6, 7, 8, 9, 10),\n",
       " 10: (1, 2, 3, 4, 5, 6, 7, 8, 9, 10),\n",
       " 11: (0, 1, 2, 3, 4, 5, 6, 7, 8, 9, 10)}"
      ]
     },
     "execution_count": 5,
     "metadata": {},
     "output_type": "execute_result"
    }
   ],
   "source": [
    "from sklearn.linear_model import LinearRegression\n",
    "from sklearn.metrics import mean_squared_error\n",
    "from mlxtend.feature_selection import ExhaustiveFeatureSelector as EFS\n",
    "\n",
    "# dict for results\n",
    "bss = {}\n",
    "\n",
    "for k in range(1, 12):\n",
    "    reg = LinearRegression()\n",
    "    efs = EFS(reg, \n",
    "               min_features=k,\n",
    "               max_features=k,\n",
    "               scoring='neg_mean_squared_error',\n",
    "               print_progress=False,\n",
    "               cv=None)\n",
    "    efs = efs.fit(data.drop(columns=['y']), data['y'])\n",
    "    bss[k] = efs.best_idx_\n",
    "\n",
    "bss"
   ]
  },
  {
   "cell_type": "markdown",
   "metadata": {},
   "source": [
    "Now we'll calculate $AIC, BIC$ and adjusted $R^2$ for each subset size and plot (We'll use $AIC$ instead of $C_p$ since they're proportional).\n",
    "\n",
    "First some helper functions for $AIC, BIC$ and adjusted $R^2$"
   ]
  },
  {
   "cell_type": "code",
   "execution_count": 6,
   "metadata": {},
   "outputs": [],
   "source": [
    "from math import log\n",
    "\n",
    "def AIC(n, rss, d, var_e):\n",
    "    return (1 / (n * var_e)) * (rss + 2 * d * var_e)\n",
    "\n",
    "def BIC(n, rss, d, var_e):\n",
    "    return (1 / (n * var_e)) * (rss + log(n) * d * var_e)\n",
    "\n",
    "def adj_r2(n, rss, tss, d):\n",
    "    return 1 - ((rss / (n - d - 1)) / (tss / (n - 1)))"
   ]
  },
  {
   "cell_type": "markdown",
   "metadata": {},
   "source": [
    "Then calculate"
   ]
  },
  {
   "cell_type": "code",
   "execution_count": 7,
   "metadata": {},
   "outputs": [],
   "source": [
    "def mse_estimates(X, y, bss):\n",
    "    n, results = X.shape[1], {}\n",
    "    for k in bss:\n",
    "        model_fit = LinearRegression().fit(X[:, bss[k]], y)\n",
    "        y_pred = model_fit.predict(X[:, bss[k]])\n",
    "        \n",
    "        errors = y - y_pred\n",
    "        rss = np.dot(errors, errors)\n",
    "        var_e = np.var(errors)\n",
    "        tss = np.dot((y - np.mean(y)), (y - np.mean(y)))\n",
    "        \n",
    "        results[k] = dict(AIC=AIC(n, rss, k, var_e), BIC=BIC(n, rss, k, var_e),\n",
    "                          adj_r2=adj_r2(n, rss, rss, k))\n",
    "    return results"
   ]
  },
  {
   "cell_type": "code",
   "execution_count": 8,
   "metadata": {},
   "outputs": [
    {
     "name": "stderr",
     "output_type": "stream",
     "text": [
      "/Users/home/anaconda3/lib/python3.6/site-packages/ipykernel_launcher.py:10: RuntimeWarning: divide by zero encountered in double_scalars\n",
      "  # Remove the CWD from sys.path while we load stuff.\n"
     ]
    },
    {
     "data": {
      "text/plain": [
       "{1: {'AIC': 9.272727272727272,\n",
       "  'BIC': 9.308899570254397,\n",
       "  'adj_r2': -0.11111111111111094},\n",
       " 2: {'AIC': 9.454545454545455, 'BIC': 9.526890049599706, 'adj_r2': -0.25},\n",
       " 3: {'AIC': 9.636363636363633,\n",
       "  'BIC': 9.744880528945009,\n",
       "  'adj_r2': -0.4285714285714284},\n",
       " 4: {'AIC': 9.81818181818182,\n",
       "  'BIC': 9.962871008290318,\n",
       "  'adj_r2': -0.6666666666666665},\n",
       " 5: {'AIC': 10.0, 'BIC': 10.180861487635624, 'adj_r2': -1.0},\n",
       " 6: {'AIC': 10.181818181818185, 'BIC': 10.398851966980931, 'adj_r2': -1.5},\n",
       " 7: {'AIC': 10.363636363636365,\n",
       "  'BIC': 10.616842446326237,\n",
       "  'adj_r2': -2.3333333333333335},\n",
       " 8: {'AIC': 10.545454545454545, 'BIC': 10.834832925671542, 'adj_r2': -4.0},\n",
       " 9: {'AIC': 10.727272727272727, 'BIC': 11.05282340501685, 'adj_r2': -9.0},\n",
       " 10: {'AIC': 10.909090909090908, 'BIC': 11.270813884362154, 'adj_r2': -inf},\n",
       " 11: {'AIC': 11.090909090909093, 'BIC': 11.488804363707464, 'adj_r2': 11.0}}"
      ]
     },
     "execution_count": 8,
     "metadata": {},
     "output_type": "execute_result"
    }
   ],
   "source": [
    "X, y = data.drop(columns=['y']).values, data['y'].values\n",
    "mses = mse_estimates(X, y, bss)\n",
    "mses"
   ]
  },
  {
   "cell_type": "code",
   "execution_count": 9,
   "metadata": {},
   "outputs": [],
   "source": [
    "AICs = np.array([mses[k]['AIC'] for k in mses])\n",
    "BICs = np.array([mses[k]['BIC'] for k in mses])\n",
    "adj_r2s = np.array([mses[k]['adj_r2'] for k in mses])"
   ]
  },
  {
   "cell_type": "code",
   "execution_count": 10,
   "metadata": {
    "scrolled": false
   },
   "outputs": [
    {
     "data": {
      "text/plain": [
       "<matplotlib.axes._subplots.AxesSubplot at 0x1a1980a668>"
      ]
     },
     "execution_count": 10,
     "metadata": {},
     "output_type": "execute_result"
    },
    {
     "data": {
      "image/png": "[encoded data removed]",
      "text/plain": [
       "<Figure size 432x288 with 1 Axes>"
      ]
     },
     "metadata": {},
     "output_type": "display_data"
    }
   ],
   "source": [
    "x = np.arange(1, 12)\n",
    "sns.lineplot(x, AICs)\n",
    "sns.lineplot(x, BICs)\n",
    "sns.lineplot(x, adj_r2s)"
   ]
  },
  {
   "cell_type": "markdown",
   "metadata": {},
   "source": [
    "The best model has the highest AIC/BIC and lowest adjusted $R^2$, so on this basis, the model with $X^3$ the only feature is the best. \n",
    "\n",
    "The coefficient is:"
   ]
  },
  {
   "cell_type": "code",
   "execution_count": 11,
   "metadata": {},
   "outputs": [
    {
     "data": {
      "text/plain": [
       "array([1.06262895])"
      ]
     },
     "execution_count": 11,
     "metadata": {},
     "output_type": "execute_result"
    }
   ],
   "source": [
    "bss_model = LinearRegression().fit(X[:, 3].reshape(-1, 1), y)\n",
    "bss_model.coef_"
   ]
  },
  {
   "cell_type": "markdown",
   "metadata": {},
   "source": [
    "Now, lets generate a validataion data set and check this model's mse"
   ]
  },
  {
   "cell_type": "code",
   "execution_count": 12,
   "metadata": {},
   "outputs": [],
   "source": [
    "X_valid, e_valid = np.random.normal(size=100), np.random.normal(size=100)\n",
    "(beta_0, beta_1, beta_2, beta_3) = 1, 1, 1, 1\n",
    "y_valid = beta_0*np.array(100*[1]) + beta_1*X_valid + beta_2*X_valid**2 + beta_2*X_valid**3 + e"
   ]
  },
  {
   "cell_type": "code",
   "execution_count": 13,
   "metadata": {},
   "outputs": [
    {
     "data": {
      "text/plain": [
       "642.7014227682031"
      ]
     },
     "execution_count": 13,
     "metadata": {},
     "output_type": "execute_result"
    }
   ],
   "source": [
    "y_pred = bss_model.coef_ * X_valid**3\n",
    "errors = y_pred - y_valid\n",
    "bss_mse_test = np.mean(np.dot(errors, errors))\n",
    "bss_mse_test"
   ]
  },
  {
   "cell_type": "markdown",
   "metadata": {},
   "source": [
    "We'll save the results for later comparison"
   ]
  },
  {
   "cell_type": "code",
   "execution_count": 14,
   "metadata": {
    "scrolled": false
   },
   "outputs": [
    {
     "data": {
      "text/html": [
       "<div>\n",
       "<style scoped>\n",
       "    .dataframe tbody tr th:only-of-type {\n",
       "        vertical-align: middle;\n",
       "    }\n",
       "\n",
       "    .dataframe tbody tr th {\n",
       "        vertical-align: top;\n",
       "    }\n",
       "\n",
       "    .dataframe thead th {\n",
       "        text-align: right;\n",
       "    }\n",
       "</style>\n",
       "<table border=\"1\" class=\"dataframe\">\n",
       "  <thead>\n",
       "    <tr style=\"text-align: right;\">\n",
       "      <th></th>\n",
       "      <th>mse_test</th>\n",
       "    </tr>\n",
       "  </thead>\n",
       "  <tbody>\n",
       "    <tr>\n",
       "      <th>bss</th>\n",
       "      <td>642.701423</td>\n",
       "    </tr>\n",
       "  </tbody>\n",
       "</table>\n",
       "</div>"
      ],
      "text/plain": [
       "       mse_test\n",
       "bss  642.701423"
      ]
     },
     "execution_count": 14,
     "metadata": {},
     "output_type": "execute_result"
    }
   ],
   "source": [
    "model_selection_df = pd.DataFrame({'mse_test': [bss_mse_test]}, index=['bss'])\n",
    "model_selection_df"
   ]
  },
  {
   "cell_type": "markdown",
   "metadata": {},
   "source": [
    "## d. Forward and Backward Stepwise Selection"
   ]
  },
  {
   "cell_type": "markdown",
   "metadata": {},
   "source": [
    "`mlxtend` also has forward and backward stepwise selection\n",
    "\n",
    "First we look at forward stepwise selection."
   ]
  },
  {
   "cell_type": "code",
   "execution_count": 15,
   "metadata": {},
   "outputs": [
    {
     "data": {
      "text/plain": [
       "{1: (3,),\n",
       " 2: (2, 3),\n",
       " 3: (1, 2, 3),\n",
       " 4: (1, 2, 3, 9),\n",
       " 5: (0, 1, 2, 3, 9),\n",
       " 6: (0, 1, 2, 3, 9, 10),\n",
       " 7: (0, 1, 2, 3, 5, 9, 10),\n",
       " 8: (0, 1, 2, 3, 4, 5, 9, 10),\n",
       " 9: (0, 1, 2, 3, 4, 5, 7, 9, 10),\n",
       " 10: (0, 1, 2, 3, 4, 5, 7, 8, 9, 10),\n",
       " 11: (0, 1, 2, 3, 4, 5, 6, 7, 8, 9, 10)}"
      ]
     },
     "execution_count": 15,
     "metadata": {},
     "output_type": "execute_result"
    }
   ],
   "source": [
    "from mlxtend.feature_selection import SequentialFeatureSelector as SFS\n",
    "\n",
    "X, y = data.drop(columns=['y']).values, data['y'].values\n",
    "# dict for results\n",
    "fss = {}\n",
    "\n",
    "for k in range(1, 12):\n",
    "    sfs = SFS(LinearRegression(), \n",
    "          k_features=k, \n",
    "          forward=True, \n",
    "          floating=False, \n",
    "          scoring='neg_mean_squared_error')\n",
    "    sfs = sfs.fit(X, y)\n",
    "    fss[k] = sfs.k_feature_idx_\n",
    "\n",
    "fss"
   ]
  },
  {
   "cell_type": "code",
   "execution_count": 16,
   "metadata": {},
   "outputs": [
    {
     "name": "stderr",
     "output_type": "stream",
     "text": [
      "/Users/home/anaconda3/lib/python3.6/site-packages/ipykernel_launcher.py:10: RuntimeWarning: divide by zero encountered in double_scalars\n",
      "  # Remove the CWD from sys.path while we load stuff.\n"
     ]
    },
    {
     "data": {
      "text/plain": [
       "{1: {'AIC': 9.272727272727272,\n",
       "  'BIC': 9.308899570254397,\n",
       "  'adj_r2': -0.11111111111111094},\n",
       " 2: {'AIC': 9.454545454545455, 'BIC': 9.526890049599706, 'adj_r2': -0.25},\n",
       " 3: {'AIC': 9.636363636363633,\n",
       "  'BIC': 9.744880528945009,\n",
       "  'adj_r2': -0.4285714285714284},\n",
       " 4: {'AIC': 9.818181818181818,\n",
       "  'BIC': 9.962871008290316,\n",
       "  'adj_r2': -0.6666666666666667},\n",
       " 5: {'AIC': 10.0, 'BIC': 10.180861487635623, 'adj_r2': -1.0},\n",
       " 6: {'AIC': 10.181818181818182, 'BIC': 10.39885196698093, 'adj_r2': -1.5},\n",
       " 7: {'AIC': 10.363636363636365,\n",
       "  'BIC': 10.616842446326237,\n",
       "  'adj_r2': -2.3333333333333335},\n",
       " 8: {'AIC': 10.545454545454547, 'BIC': 10.834832925671542, 'adj_r2': -4.0},\n",
       " 9: {'AIC': 10.727272727272727, 'BIC': 11.052823405016847, 'adj_r2': -9.0},\n",
       " 10: {'AIC': 10.90909090909091, 'BIC': 11.270813884362157, 'adj_r2': -inf},\n",
       " 11: {'AIC': 11.090909090909093, 'BIC': 11.488804363707464, 'adj_r2': 11.0}}"
      ]
     },
     "execution_count": 16,
     "metadata": {},
     "output_type": "execute_result"
    }
   ],
   "source": [
    "mses = mse_estimates(X, y, fss)\n",
    "mses"
   ]
  },
  {
   "cell_type": "code",
   "execution_count": 17,
   "metadata": {},
   "outputs": [],
   "source": [
    "AICs = np.array([mses[k]['AIC'] for k in mses])\n",
    "BICs = np.array([mses[k]['BIC'] for k in mses])\n",
    "adj_r2s = np.array([mses[k]['adj_r2'] for k in mses])"
   ]
  },
  {
   "cell_type": "code",
   "execution_count": 18,
   "metadata": {
    "scrolled": true
   },
   "outputs": [
    {
     "data": {
      "text/plain": [
       "<matplotlib.axes._subplots.AxesSubplot at 0x1a198f0d68>"
      ]
     },
     "execution_count": 18,
     "metadata": {},
     "output_type": "execute_result"
    },
    {
     "data": {
      "image/png": "[encoded data removed]",
      "text/plain": [
       "<Figure size 432x288 with 1 Axes>"
      ]
     },
     "metadata": {},
     "output_type": "display_data"
    }
   ],
   "source": [
    "x = np.arange(1, 12)\n",
    "sns.lineplot(x, AICs)\n",
    "sns.lineplot(x, BICs)\n",
    "sns.lineplot(x, adj_r2s)"
   ]
  },
  {
   "cell_type": "markdown",
   "metadata": {},
   "source": [
    "FSS also selects the model with $X^3$ the only feature.\n",
    "\n",
    "Now we consider backward stepwise selection."
   ]
  },
  {
   "cell_type": "code",
   "execution_count": 19,
   "metadata": {},
   "outputs": [
    {
     "data": {
      "text/plain": [
       "{1: (3,),\n",
       " 2: (2, 3),\n",
       " 3: (1, 2, 3),\n",
       " 4: (1, 2, 3, 9),\n",
       " 5: (1, 2, 3, 8, 9),\n",
       " 6: (1, 2, 3, 7, 8, 9),\n",
       " 7: (1, 2, 3, 6, 7, 8, 9),\n",
       " 8: (0, 1, 2, 3, 6, 7, 8, 9),\n",
       " 9: (0, 1, 2, 3, 5, 6, 7, 8, 9),\n",
       " 10: (0, 1, 2, 3, 5, 6, 7, 8, 9, 10),\n",
       " 11: (0, 1, 2, 3, 4, 5, 6, 7, 8, 9, 10)}"
      ]
     },
     "execution_count": 19,
     "metadata": {},
     "output_type": "execute_result"
    }
   ],
   "source": [
    "from mlxtend.feature_selection import SequentialFeatureSelector as SFS\n",
    "\n",
    "# dict for results\n",
    "bkss = {}\n",
    "\n",
    "for k in range(1, 12):\n",
    "    sfs = SFS(LinearRegression(), \n",
    "          k_features=k, \n",
    "          forward=False, \n",
    "          floating=False, \n",
    "          scoring='neg_mean_squared_error')\n",
    "    sfs = sfs.fit(X, y)\n",
    "    bkss[k] = sfs.k_feature_idx_\n",
    "\n",
    "bkss"
   ]
  },
  {
   "cell_type": "code",
   "execution_count": 20,
   "metadata": {},
   "outputs": [
    {
     "name": "stderr",
     "output_type": "stream",
     "text": [
      "/Users/home/anaconda3/lib/python3.6/site-packages/ipykernel_launcher.py:10: RuntimeWarning: divide by zero encountered in double_scalars\n",
      "  # Remove the CWD from sys.path while we load stuff.\n"
     ]
    },
    {
     "data": {
      "text/plain": [
       "{1: {'AIC': 9.272727272727272,\n",
       "  'BIC': 9.308899570254397,\n",
       "  'adj_r2': -0.11111111111111094},\n",
       " 2: {'AIC': 9.454545454545455, 'BIC': 9.526890049599706, 'adj_r2': -0.25},\n",
       " 3: {'AIC': 9.636363636363633,\n",
       "  'BIC': 9.744880528945009,\n",
       "  'adj_r2': -0.4285714285714284},\n",
       " 4: {'AIC': 9.818181818181818,\n",
       "  'BIC': 9.962871008290316,\n",
       "  'adj_r2': -0.6666666666666667},\n",
       " 5: {'AIC': 10.0, 'BIC': 10.180861487635623, 'adj_r2': -1.0},\n",
       " 6: {'AIC': 10.181818181818182, 'BIC': 10.398851966980928, 'adj_r2': -1.5},\n",
       " 7: {'AIC': 10.363636363636363,\n",
       "  'BIC': 10.616842446326235,\n",
       "  'adj_r2': -2.333333333333333},\n",
       " 8: {'AIC': 10.545454545454543, 'BIC': 10.83483292567154, 'adj_r2': -4.0},\n",
       " 9: {'AIC': 10.727272727272725, 'BIC': 11.052823405016847, 'adj_r2': -9.0},\n",
       " 10: {'AIC': 10.90909090909091, 'BIC': 11.270813884362155, 'adj_r2': -inf},\n",
       " 11: {'AIC': 11.090909090909093, 'BIC': 11.488804363707464, 'adj_r2': 11.0}}"
      ]
     },
     "execution_count": 20,
     "metadata": {},
     "output_type": "execute_result"
    }
   ],
   "source": [
    "mses = mse_estimates(X, y, bkss)\n",
    "mses"
   ]
  },
  {
   "cell_type": "code",
   "execution_count": 21,
   "metadata": {},
   "outputs": [],
   "source": [
    "AICs = np.array([mses[k]['AIC'] for k in mses])\n",
    "BICs = np.array([mses[k]['BIC'] for k in mses])\n",
    "adj_r2s = np.array([mses[k]['adj_r2'] for k in mses])"
   ]
  },
  {
   "cell_type": "code",
   "execution_count": 22,
   "metadata": {
    "scrolled": true
   },
   "outputs": [
    {
     "data": {
      "text/plain": [
       "<matplotlib.axes._subplots.AxesSubplot at 0x1a199cccc0>"
      ]
     },
     "execution_count": 22,
     "metadata": {},
     "output_type": "execute_result"
    },
    {
     "data": {
      "image/png": "[encoded data removed]",
      "text/plain": [
       "<Figure size 432x288 with 1 Axes>"
      ]
     },
     "metadata": {},
     "output_type": "display_data"
    }
   ],
   "source": [
    "x = np.arange(1, 12)\n",
    "sns.lineplot(x, AICs)\n",
    "sns.lineplot(x, BICs)\n",
    "sns.lineplot(x, adj_r2s)"
   ]
  },
  {
   "cell_type": "markdown",
   "metadata": {},
   "source": [
    "BKSS also selects the model with $X^3$ the only feature."
   ]
  },
  {
   "cell_type": "markdown",
   "metadata": {},
   "source": [
    "## e. Lasso"
   ]
  },
  {
   "cell_type": "code",
   "execution_count": 23,
   "metadata": {
    "scrolled": false
   },
   "outputs": [],
   "source": [
    "from sklearn.linear_model import Lasso\n",
    "from sklearn.model_selection import cross_val_score\n",
    "\n",
    "alphas = np.array([10**i for i in np.linspace(-3, 0, num=20)])\n",
    "lassos = {'alpha': alphas, '5_fold_cv_error': []}"
   ]
  },
  {
   "cell_type": "code",
   "execution_count": 24,
   "metadata": {},
   "outputs": [],
   "source": [
    "for alpha in alphas:\n",
    "        lasso = Lasso(alpha=alpha, fit_intercept=False, max_iter=1e8, tol=1e-2)\n",
    "        cv_error = np.mean(- cross_val_score(lasso, X, y, cv=5, \n",
    "                                             scoring='neg_mean_squared_error'))\n",
    "        lassos['5_fold_cv_error'] += [cv_error]"
   ]
  },
  {
   "cell_type": "code",
   "execution_count": 25,
   "metadata": {},
   "outputs": [
    {
     "data": {
      "text/html": [
       "<div>\n",
       "<style scoped>\n",
       "    .dataframe tbody tr th:only-of-type {\n",
       "        vertical-align: middle;\n",
       "    }\n",
       "\n",
       "    .dataframe tbody tr th {\n",
       "        vertical-align: top;\n",
       "    }\n",
       "\n",
       "    .dataframe thead th {\n",
       "        text-align: right;\n",
       "    }\n",
       "</style>\n",
       "<table border=\"1\" class=\"dataframe\">\n",
       "  <thead>\n",
       "    <tr style=\"text-align: right;\">\n",
       "      <th></th>\n",
       "      <th>alpha</th>\n",
       "      <th>5_fold_cv_error</th>\n",
       "    </tr>\n",
       "  </thead>\n",
       "  <tbody>\n",
       "    <tr>\n",
       "      <th>0</th>\n",
       "      <td>0.001000</td>\n",
       "      <td>0.836428</td>\n",
       "    </tr>\n",
       "    <tr>\n",
       "      <th>1</th>\n",
       "      <td>0.001438</td>\n",
       "      <td>0.819378</td>\n",
       "    </tr>\n",
       "    <tr>\n",
       "      <th>2</th>\n",
       "      <td>0.002069</td>\n",
       "      <td>0.895901</td>\n",
       "    </tr>\n",
       "    <tr>\n",
       "      <th>3</th>\n",
       "      <td>0.002976</td>\n",
       "      <td>0.893177</td>\n",
       "    </tr>\n",
       "    <tr>\n",
       "      <th>4</th>\n",
       "      <td>0.004281</td>\n",
       "      <td>0.888498</td>\n",
       "    </tr>\n",
       "    <tr>\n",
       "      <th>5</th>\n",
       "      <td>0.006158</td>\n",
       "      <td>0.885597</td>\n",
       "    </tr>\n",
       "    <tr>\n",
       "      <th>6</th>\n",
       "      <td>0.008859</td>\n",
       "      <td>0.884861</td>\n",
       "    </tr>\n",
       "    <tr>\n",
       "      <th>7</th>\n",
       "      <td>0.012743</td>\n",
       "      <td>0.884489</td>\n",
       "    </tr>\n",
       "    <tr>\n",
       "      <th>8</th>\n",
       "      <td>0.018330</td>\n",
       "      <td>0.888298</td>\n",
       "    </tr>\n",
       "    <tr>\n",
       "      <th>9</th>\n",
       "      <td>0.026367</td>\n",
       "      <td>0.894860</td>\n",
       "    </tr>\n",
       "    <tr>\n",
       "      <th>10</th>\n",
       "      <td>0.037927</td>\n",
       "      <td>0.906162</td>\n",
       "    </tr>\n",
       "    <tr>\n",
       "      <th>11</th>\n",
       "      <td>0.054556</td>\n",
       "      <td>0.914259</td>\n",
       "    </tr>\n",
       "    <tr>\n",
       "      <th>12</th>\n",
       "      <td>0.078476</td>\n",
       "      <td>0.930345</td>\n",
       "    </tr>\n",
       "    <tr>\n",
       "      <th>13</th>\n",
       "      <td>0.112884</td>\n",
       "      <td>0.968640</td>\n",
       "    </tr>\n",
       "    <tr>\n",
       "      <th>14</th>\n",
       "      <td>0.162378</td>\n",
       "      <td>1.049202</td>\n",
       "    </tr>\n",
       "    <tr>\n",
       "      <th>15</th>\n",
       "      <td>0.233572</td>\n",
       "      <td>1.192103</td>\n",
       "    </tr>\n",
       "    <tr>\n",
       "      <th>16</th>\n",
       "      <td>0.335982</td>\n",
       "      <td>1.506187</td>\n",
       "    </tr>\n",
       "    <tr>\n",
       "      <th>17</th>\n",
       "      <td>0.483293</td>\n",
       "      <td>2.109461</td>\n",
       "    </tr>\n",
       "    <tr>\n",
       "      <th>18</th>\n",
       "      <td>0.695193</td>\n",
       "      <td>2.854881</td>\n",
       "    </tr>\n",
       "    <tr>\n",
       "      <th>19</th>\n",
       "      <td>1.000000</td>\n",
       "      <td>3.368783</td>\n",
       "    </tr>\n",
       "  </tbody>\n",
       "</table>\n",
       "</div>"
      ],
      "text/plain": [
       "       alpha  5_fold_cv_error\n",
       "0   0.001000         0.836428\n",
       "1   0.001438         0.819378\n",
       "2   0.002069         0.895901\n",
       "3   0.002976         0.893177\n",
       "4   0.004281         0.888498\n",
       "5   0.006158         0.885597\n",
       "6   0.008859         0.884861\n",
       "7   0.012743         0.884489\n",
       "8   0.018330         0.888298\n",
       "9   0.026367         0.894860\n",
       "10  0.037927         0.906162\n",
       "11  0.054556         0.914259\n",
       "12  0.078476         0.930345\n",
       "13  0.112884         0.968640\n",
       "14  0.162378         1.049202\n",
       "15  0.233572         1.192103\n",
       "16  0.335982         1.506187\n",
       "17  0.483293         2.109461\n",
       "18  0.695193         2.854881\n",
       "19  1.000000         3.368783"
      ]
     },
     "execution_count": 25,
     "metadata": {},
     "output_type": "execute_result"
    }
   ],
   "source": [
    "lassos_df = pd.DataFrame(lassos)\n",
    "lassos_df"
   ]
  },
  {
   "cell_type": "code",
   "execution_count": 26,
   "metadata": {
    "scrolled": true
   },
   "outputs": [
    {
     "data": {
      "text/plain": [
       "(0.0014384498882876629, 0.8193781004864231)"
      ]
     },
     "execution_count": 26,
     "metadata": {},
     "output_type": "execute_result"
    }
   ],
   "source": [
    "(alpha_hat, cv_error_min) = lassos_df.iloc[lassos_df['5_fold_cv_error'].idxmin(), ]\n",
    "(alpha_hat, cv_error_min)"
   ]
  },
  {
   "cell_type": "code",
   "execution_count": 27,
   "metadata": {
    "scrolled": true
   },
   "outputs": [
    {
     "data": {
      "text/plain": [
       "<matplotlib.axes._subplots.AxesSubplot at 0x1a19a8b5c0>"
      ]
     },
     "execution_count": 27,
     "metadata": {},
     "output_type": "execute_result"
    },
    {
     "data": {
      "image/png": "[encoded data removed]",
      "text/plain": [
       "<Figure size 432x288 with 1 Axes>"
      ]
     },
     "metadata": {},
     "output_type": "display_data"
    }
   ],
   "source": [
    "sns.lineplot(x='alpha', y='5_fold_cv_error', data=lassos_df)"
   ]
  },
  {
   "cell_type": "markdown",
   "metadata": {},
   "source": [
    "Now we'll see what coefficient estimates this model produces"
   ]
  },
  {
   "cell_type": "code",
   "execution_count": 28,
   "metadata": {},
   "outputs": [
    {
     "data": {
      "text/plain": [
       "array([ 1.06544938,  0.80612409,  2.05979396,  0.7883535 , -1.66945357,\n",
       "        0.24562823,  0.76952192, -0.0535788 , -0.13390294,  0.0027605 ,\n",
       "        0.00767839])"
      ]
     },
     "execution_count": 28,
     "metadata": {},
     "output_type": "execute_result"
    }
   ],
   "source": [
    "np.set_printoptions(suppress=True)\n",
    "lasso_model = Lasso(alpha=alpha_hat, fit_intercept=False, max_iter=1e8, tol=1e-2).fit(X, y)\n",
    "lasso_model.coef_"
   ]
  },
  {
   "cell_type": "code",
   "execution_count": 29,
   "metadata": {
    "scrolled": true
   },
   "outputs": [
    {
     "data": {
      "text/html": [
       "<div>\n",
       "<style scoped>\n",
       "    .dataframe tbody tr th:only-of-type {\n",
       "        vertical-align: middle;\n",
       "    }\n",
       "\n",
       "    .dataframe tbody tr th {\n",
       "        vertical-align: top;\n",
       "    }\n",
       "\n",
       "    .dataframe thead th {\n",
       "        text-align: right;\n",
       "    }\n",
       "</style>\n",
       "<table border=\"1\" class=\"dataframe\">\n",
       "  <thead>\n",
       "    <tr style=\"text-align: right;\">\n",
       "      <th></th>\n",
       "      <th>coef_</th>\n",
       "    </tr>\n",
       "  </thead>\n",
       "  <tbody>\n",
       "    <tr>\n",
       "      <th>X^2</th>\n",
       "      <td>2.059794</td>\n",
       "    </tr>\n",
       "    <tr>\n",
       "      <th>X^0</th>\n",
       "      <td>1.065449</td>\n",
       "    </tr>\n",
       "    <tr>\n",
       "      <th>X^1</th>\n",
       "      <td>0.806124</td>\n",
       "    </tr>\n",
       "    <tr>\n",
       "      <th>X^3</th>\n",
       "      <td>0.788354</td>\n",
       "    </tr>\n",
       "    <tr>\n",
       "      <th>X^6</th>\n",
       "      <td>0.769522</td>\n",
       "    </tr>\n",
       "    <tr>\n",
       "      <th>X^5</th>\n",
       "      <td>0.245628</td>\n",
       "    </tr>\n",
       "    <tr>\n",
       "      <th>X^10</th>\n",
       "      <td>0.007678</td>\n",
       "    </tr>\n",
       "    <tr>\n",
       "      <th>X^9</th>\n",
       "      <td>0.002760</td>\n",
       "    </tr>\n",
       "    <tr>\n",
       "      <th>X^7</th>\n",
       "      <td>-0.053579</td>\n",
       "    </tr>\n",
       "    <tr>\n",
       "      <th>X^8</th>\n",
       "      <td>-0.133903</td>\n",
       "    </tr>\n",
       "    <tr>\n",
       "      <th>X^4</th>\n",
       "      <td>-1.669454</td>\n",
       "    </tr>\n",
       "  </tbody>\n",
       "</table>\n",
       "</div>"
      ],
      "text/plain": [
       "         coef_\n",
       "X^2   2.059794\n",
       "X^0   1.065449\n",
       "X^1   0.806124\n",
       "X^3   0.788354\n",
       "X^6   0.769522\n",
       "X^5   0.245628\n",
       "X^10  0.007678\n",
       "X^9   0.002760\n",
       "X^7  -0.053579\n",
       "X^8  -0.133903\n",
       "X^4  -1.669454"
      ]
     },
     "execution_count": 29,
     "metadata": {},
     "output_type": "execute_result"
    }
   ],
   "source": [
    "model_df = pd.DataFrame({'coef_': lasso_model.coef_}, index=data.columns[:-1])\n",
    "model_df.sort_values(by='coef_', ascending=False)"
   ]
  },
  {
   "cell_type": "markdown",
   "metadata": {},
   "source": [
    "Let's check this model on a validation set:"
   ]
  },
  {
   "cell_type": "code",
   "execution_count": 30,
   "metadata": {},
   "outputs": [
    {
     "data": {
      "text/html": [
       "<div>\n",
       "<style scoped>\n",
       "    .dataframe tbody tr th:only-of-type {\n",
       "        vertical-align: middle;\n",
       "    }\n",
       "\n",
       "    .dataframe tbody tr th {\n",
       "        vertical-align: top;\n",
       "    }\n",
       "\n",
       "    .dataframe thead th {\n",
       "        text-align: right;\n",
       "    }\n",
       "</style>\n",
       "<table border=\"1\" class=\"dataframe\">\n",
       "  <thead>\n",
       "    <tr style=\"text-align: right;\">\n",
       "      <th></th>\n",
       "      <th>X_valid^0</th>\n",
       "      <th>X_valid^1</th>\n",
       "      <th>X_valid^2</th>\n",
       "      <th>X_valid^3</th>\n",
       "      <th>X_valid^4</th>\n",
       "      <th>X_valid^5</th>\n",
       "      <th>X_valid^6</th>\n",
       "      <th>X_valid^7</th>\n",
       "      <th>X_valid^8</th>\n",
       "      <th>X_valid^9</th>\n",
       "      <th>X_valid^10</th>\n",
       "      <th>y_valid</th>\n",
       "    </tr>\n",
       "  </thead>\n",
       "  <tbody>\n",
       "    <tr>\n",
       "      <th>0</th>\n",
       "      <td>1.0</td>\n",
       "      <td>1.315735</td>\n",
       "      <td>1.731159</td>\n",
       "      <td>2.277747</td>\n",
       "      <td>2.996911</td>\n",
       "      <td>3.943142</td>\n",
       "      <td>5.188130</td>\n",
       "      <td>6.826205</td>\n",
       "      <td>8.981478</td>\n",
       "      <td>11.817247</td>\n",
       "      <td>15.548367</td>\n",
       "      <td>7.109116</td>\n",
       "    </tr>\n",
       "    <tr>\n",
       "      <th>1</th>\n",
       "      <td>1.0</td>\n",
       "      <td>0.754402</td>\n",
       "      <td>0.569123</td>\n",
       "      <td>0.429348</td>\n",
       "      <td>0.323901</td>\n",
       "      <td>0.244352</td>\n",
       "      <td>0.184340</td>\n",
       "      <td>0.139066</td>\n",
       "      <td>0.104912</td>\n",
       "      <td>0.079146</td>\n",
       "      <td>0.059708</td>\n",
       "      <td>3.052666</td>\n",
       "    </tr>\n",
       "    <tr>\n",
       "      <th>2</th>\n",
       "      <td>1.0</td>\n",
       "      <td>0.910262</td>\n",
       "      <td>0.828578</td>\n",
       "      <td>0.754223</td>\n",
       "      <td>0.686541</td>\n",
       "      <td>0.624932</td>\n",
       "      <td>0.568852</td>\n",
       "      <td>0.517805</td>\n",
       "      <td>0.471338</td>\n",
       "      <td>0.429041</td>\n",
       "      <td>0.390540</td>\n",
       "      <td>3.389726</td>\n",
       "    </tr>\n",
       "    <tr>\n",
       "      <th>3</th>\n",
       "      <td>1.0</td>\n",
       "      <td>-0.528947</td>\n",
       "      <td>0.279785</td>\n",
       "      <td>-0.147991</td>\n",
       "      <td>0.078279</td>\n",
       "      <td>-0.041406</td>\n",
       "      <td>0.021901</td>\n",
       "      <td>-0.011585</td>\n",
       "      <td>0.006128</td>\n",
       "      <td>-0.003241</td>\n",
       "      <td>0.001714</td>\n",
       "      <td>2.010106</td>\n",
       "    </tr>\n",
       "    <tr>\n",
       "      <th>4</th>\n",
       "      <td>1.0</td>\n",
       "      <td>-1.271336</td>\n",
       "      <td>1.616296</td>\n",
       "      <td>-2.054856</td>\n",
       "      <td>2.612413</td>\n",
       "      <td>-3.321256</td>\n",
       "      <td>4.222433</td>\n",
       "      <td>-5.368133</td>\n",
       "      <td>6.824703</td>\n",
       "      <td>-8.676493</td>\n",
       "      <td>11.030740</td>\n",
       "      <td>-1.018760</td>\n",
       "    </tr>\n",
       "  </tbody>\n",
       "</table>\n",
       "</div>"
      ],
      "text/plain": [
       "   X_valid^0  X_valid^1  X_valid^2  X_valid^3  X_valid^4  X_valid^5  \\\n",
       "0        1.0   1.315735   1.731159   2.277747   2.996911   3.943142   \n",
       "1        1.0   0.754402   0.569123   0.429348   0.323901   0.244352   \n",
       "2        1.0   0.910262   0.828578   0.754223   0.686541   0.624932   \n",
       "3        1.0  -0.528947   0.279785  -0.147991   0.078279  -0.041406   \n",
       "4        1.0  -1.271336   1.616296  -2.054856   2.612413  -3.321256   \n",
       "\n",
       "   X_valid^6  X_valid^7  X_valid^8  X_valid^9  X_valid^10   y_valid  \n",
       "0   5.188130   6.826205   8.981478  11.817247   15.548367  7.109116  \n",
       "1   0.184340   0.139066   0.104912   0.079146    0.059708  3.052666  \n",
       "2   0.568852   0.517805   0.471338   0.429041    0.390540  3.389726  \n",
       "3   0.021901  -0.011585   0.006128  -0.003241    0.001714  2.010106  \n",
       "4   4.222433  -5.368133   6.824703  -8.676493   11.030740 -1.018760  "
      ]
     },
     "execution_count": 30,
     "metadata": {},
     "output_type": "execute_result"
    }
   ],
   "source": [
    "data_valid = pd.DataFrame({'X_valid^' + str(i): X_valid**i for i in range(11)})\n",
    "data_valid['y_valid'] = y_valid\n",
    "data_valid.head()"
   ]
  },
  {
   "cell_type": "code",
   "execution_count": 31,
   "metadata": {},
   "outputs": [
    {
     "data": {
      "text/plain": [
       "90.33155498089704"
      ]
     },
     "execution_count": 31,
     "metadata": {},
     "output_type": "execute_result"
    }
   ],
   "source": [
    "y_pred = lasso_model.predict(data_valid.drop(columns=['y_valid']))\n",
    "errors = y_pred - y_valid\n",
    "lasso_mse_test = np.mean(np.dot(errors, errors))\n",
    "lasso_mse_test"
   ]
  },
  {
   "cell_type": "code",
   "execution_count": 32,
   "metadata": {
    "scrolled": false
   },
   "outputs": [
    {
     "data": {
      "text/html": [
       "<div>\n",
       "<style scoped>\n",
       "    .dataframe tbody tr th:only-of-type {\n",
       "        vertical-align: middle;\n",
       "    }\n",
       "\n",
       "    .dataframe tbody tr th {\n",
       "        vertical-align: top;\n",
       "    }\n",
       "\n",
       "    .dataframe thead th {\n",
       "        text-align: right;\n",
       "    }\n",
       "</style>\n",
       "<table border=\"1\" class=\"dataframe\">\n",
       "  <thead>\n",
       "    <tr style=\"text-align: right;\">\n",
       "      <th></th>\n",
       "      <th>mse_test</th>\n",
       "    </tr>\n",
       "  </thead>\n",
       "  <tbody>\n",
       "    <tr>\n",
       "      <th>bss</th>\n",
       "      <td>642.701423</td>\n",
       "    </tr>\n",
       "    <tr>\n",
       "      <th>lasso</th>\n",
       "      <td>90.331555</td>\n",
       "    </tr>\n",
       "  </tbody>\n",
       "</table>\n",
       "</div>"
      ],
      "text/plain": [
       "         mse_test\n",
       "bss    642.701423\n",
       "lasso   90.331555"
      ]
     },
     "execution_count": 32,
     "metadata": {},
     "output_type": "execute_result"
    }
   ],
   "source": [
    "model_selection_df = model_selection_df.append(pd.DataFrame({'mse_test': [lasso_mse_test]}, index=['lasso']))\n",
    "model_selection_df"
   ]
  },
  {
   "cell_type": "markdown",
   "metadata": {},
   "source": [
    "A considerable improvement over the BSS model"
   ]
  },
  {
   "cell_type": "markdown",
   "metadata": {},
   "source": [
    "## f. Repeat for a new response"
   ]
  },
  {
   "cell_type": "markdown",
   "metadata": {},
   "source": [
    "We now repeat the above for a model\n",
    "\n",
    "$$Y = \\beta_0 + \\beta_7 X^t + \\epsilon$$"
   ]
  },
  {
   "cell_type": "markdown",
   "metadata": {},
   "source": [
    "### New response"
   ]
  },
  {
   "cell_type": "code",
   "execution_count": 106,
   "metadata": {},
   "outputs": [],
   "source": [
    "# new train/test response\n",
    "y = np.array(100*[1]) + data['X^7'] + e\n",
    "\n",
    "# new validation response\n",
    "y_valid = np.array(100*[1]) + data_valid['X_valid^7'] + e\n",
    "\n",
    "# update dfs\n",
    "data.loc[:, 'y'], data_valid.loc[:, 'y_valid'] = y, y_valid"
   ]
  },
  {
   "cell_type": "markdown",
   "metadata": {},
   "source": [
    "### BSS model"
   ]
  },
  {
   "cell_type": "code",
   "execution_count": 87,
   "metadata": {},
   "outputs": [
    {
     "data": {
      "text/plain": [
       "{1: (7,),\n",
       " 2: (7, 9),\n",
       " 3: (1, 3, 7),\n",
       " 4: (1, 5, 7, 10),\n",
       " 5: (1, 7, 8, 9, 10),\n",
       " 6: (1, 4, 6, 7, 8, 9),\n",
       " 7: (2, 4, 6, 7, 8, 9, 10),\n",
       " 8: (1, 2, 4, 5, 6, 7, 8, 10),\n",
       " 9: (2, 3, 4, 5, 6, 7, 8, 9, 10),\n",
       " 10: (1, 2, 3, 4, 5, 6, 7, 8, 9, 10),\n",
       " 11: (0, 1, 2, 3, 4, 5, 6, 7, 8, 9, 10)}"
      ]
     },
     "execution_count": 87,
     "metadata": {},
     "output_type": "execute_result"
    }
   ],
   "source": [
    "bss = {}\n",
    "\n",
    "for k in range(1, 12):\n",
    "    reg = LinearRegression()\n",
    "    efs = EFS(reg, \n",
    "               min_features=k,\n",
    "               max_features=k,\n",
    "               scoring='neg_mean_squared_error',\n",
    "               print_progress=False,\n",
    "               cv=None)\n",
    "    efs = efs.fit(data.drop(columns=['y']), data['y'])\n",
    "    bss[k] = efs.best_idx_\n",
    "\n",
    "bss"
   ]
  },
  {
   "cell_type": "code",
   "execution_count": 88,
   "metadata": {},
   "outputs": [
    {
     "name": "stderr",
     "output_type": "stream",
     "text": [
      "/Users/home/anaconda3/lib/python3.6/site-packages/ipykernel_launcher.py:10: RuntimeWarning: divide by zero encountered in double_scalars\n",
      "  # Remove the CWD from sys.path while we load stuff.\n"
     ]
    },
    {
     "data": {
      "text/plain": [
       "{1: {'AIC': 9.272727272727272,\n",
       "  'BIC': 9.308899570254397,\n",
       "  'adj_r2': -0.11111111111111116},\n",
       " 2: {'AIC': 9.454545454545455, 'BIC': 9.526890049599706, 'adj_r2': -0.25},\n",
       " 3: {'AIC': 9.636363636363637,\n",
       "  'BIC': 9.74488052894501,\n",
       "  'adj_r2': -0.4285714285714286},\n",
       " 4: {'AIC': 9.818181818181817,\n",
       "  'BIC': 9.962871008290316,\n",
       "  'adj_r2': -0.6666666666666667},\n",
       " 5: {'AIC': 10.000000000000002, 'BIC': 10.180861487635623, 'adj_r2': -1.0},\n",
       " 6: {'AIC': 10.18181818181818, 'BIC': 10.398851966980928, 'adj_r2': -1.5},\n",
       " 7: {'AIC': 10.363636363636365,\n",
       "  'BIC': 10.616842446326238,\n",
       "  'adj_r2': -2.3333333333333335},\n",
       " 8: {'AIC': 10.545454545454547, 'BIC': 10.834832925671542, 'adj_r2': -4.0},\n",
       " 9: {'AIC': 10.727272727272723, 'BIC': 11.052823405016845, 'adj_r2': -9.0},\n",
       " 10: {'AIC': 10.909090909090908, 'BIC': 11.270813884362154, 'adj_r2': -inf},\n",
       " 11: {'AIC': 11.090909090909088, 'BIC': 11.488804363707459, 'adj_r2': 11.0}}"
      ]
     },
     "execution_count": 88,
     "metadata": {},
     "output_type": "execute_result"
    }
   ],
   "source": [
    "X, y = data.drop(columns=['y']).values, data['y'].values\n",
    "mses = mse_estimates(X, y, bss)\n",
    "mses"
   ]
  },
  {
   "cell_type": "code",
   "execution_count": 89,
   "metadata": {},
   "outputs": [],
   "source": [
    "AICs = np.array([mses[k]['AIC'] for k in mses])\n",
    "BICs = np.array([mses[k]['BIC'] for k in mses])\n",
    "adj_r2s = np.array([mses[k]['adj_r2'] for k in mses])"
   ]
  },
  {
   "cell_type": "code",
   "execution_count": 90,
   "metadata": {
    "scrolled": false
   },
   "outputs": [
    {
     "data": {
      "text/plain": [
       "<matplotlib.axes._subplots.AxesSubplot at 0x1a1a241c18>"
      ]
     },
     "execution_count": 90,
     "metadata": {},
     "output_type": "execute_result"
    },
    {
     "data": {
      "image/png": "[encoded data removed]",
      "text/plain": [
       "<Figure size 432x288 with 1 Axes>"
      ]
     },
     "metadata": {},
     "output_type": "display_data"
    }
   ],
   "source": [
    "x = np.arange(1, 12)\n",
    "sns.lineplot(x, AICs)\n",
    "sns.lineplot(x, BICs)\n",
    "sns.lineplot(x, adj_r2s)"
   ]
  },
  {
   "cell_type": "markdown",
   "metadata": {},
   "source": [
    "Again, BSS likes a single predictor (this time $X^{10}$)"
   ]
  },
  {
   "cell_type": "code",
   "execution_count": 91,
   "metadata": {},
   "outputs": [
    {
     "data": {
      "text/plain": [
       "array([0.99897181])"
      ]
     },
     "execution_count": 91,
     "metadata": {},
     "output_type": "execute_result"
    }
   ],
   "source": [
    "bss_model = LinearRegression().fit(data['X^7'].values.reshape(-1,1), data['y'].values)\n",
    "bss_model.coef_"
   ]
  },
  {
   "cell_type": "markdown",
   "metadata": {},
   "source": [
    "Now, lets generate a validataion data set and check this model's mse"
   ]
  },
  {
   "cell_type": "code",
   "execution_count": 92,
   "metadata": {},
   "outputs": [
    {
     "data": {
      "text/plain": [
       "91636.16819263707"
      ]
     },
     "execution_count": 92,
     "metadata": {},
     "output_type": "execute_result"
    }
   ],
   "source": [
    "y_pred = bss_model.coef_ * X_valid**3\n",
    "errors = y_pred - y_valid\n",
    "bss_mse_test = np.mean(np.dot(errors, errors))\n",
    "bss_mse_test"
   ]
  },
  {
   "cell_type": "code",
   "execution_count": 93,
   "metadata": {
    "scrolled": false
   },
   "outputs": [
    {
     "data": {
      "text/html": [
       "<div>\n",
       "<style scoped>\n",
       "    .dataframe tbody tr th:only-of-type {\n",
       "        vertical-align: middle;\n",
       "    }\n",
       "\n",
       "    .dataframe tbody tr th {\n",
       "        vertical-align: top;\n",
       "    }\n",
       "\n",
       "    .dataframe thead th {\n",
       "        text-align: right;\n",
       "    }\n",
       "</style>\n",
       "<table border=\"1\" class=\"dataframe\">\n",
       "  <thead>\n",
       "    <tr style=\"text-align: right;\">\n",
       "      <th></th>\n",
       "      <th>mse_test</th>\n",
       "    </tr>\n",
       "  </thead>\n",
       "  <tbody>\n",
       "    <tr>\n",
       "      <th>bss</th>\n",
       "      <td>91636.168193</td>\n",
       "    </tr>\n",
       "  </tbody>\n",
       "</table>\n",
       "</div>"
      ],
      "text/plain": [
       "         mse_test\n",
       "bss  91636.168193"
      ]
     },
     "execution_count": 93,
     "metadata": {},
     "output_type": "execute_result"
    }
   ],
   "source": [
    "model_selection_df = pd.DataFrame({'mse_test': [bss_mse_test]}, index=['bss'])\n",
    "model_selection_df"
   ]
  },
  {
   "cell_type": "markdown",
   "metadata": {},
   "source": [
    "### Lasso model"
   ]
  },
  {
   "cell_type": "code",
   "execution_count": 94,
   "metadata": {},
   "outputs": [],
   "source": [
    "alphas = np.array([10**i for i in np.linspace(-4, 1, num=50)])\n",
    "lassos = {'alpha': alphas, '5_fold_cv_error': []}\n",
    "\n",
    "for alpha in alphas:\n",
    "        lasso = Lasso(alpha=alpha, fit_intercept=False, max_iter=1e6, tol=1e-3)\n",
    "        cv_error = np.mean(- cross_val_score(lasso, X, y, cv=5, \n",
    "                                             scoring='neg_mean_squared_error'))\n",
    "        lassos['5_fold_cv_error'] += [cv_error]"
   ]
  },
  {
   "cell_type": "code",
   "execution_count": 95,
   "metadata": {
    "scrolled": true
   },
   "outputs": [
    {
     "data": {
      "text/plain": [
       "(0.028117686979742307, 2.750654968384496)"
      ]
     },
     "execution_count": 95,
     "metadata": {},
     "output_type": "execute_result"
    }
   ],
   "source": [
    "(alpha, cv_error_min) = lassos_df.iloc[lassos_df['5_fold_cv_error'].idxmin(), ]\n",
    "(alpha, cv_error_min)"
   ]
  },
  {
   "cell_type": "code",
   "execution_count": 96,
   "metadata": {
    "scrolled": true
   },
   "outputs": [
    {
     "data": {
      "text/plain": [
       "<matplotlib.axes._subplots.AxesSubplot at 0x1a1a120da0>"
      ]
     },
     "execution_count": 96,
     "metadata": {},
     "output_type": "execute_result"
    },
    {
     "data": {
      "image/png": "[encoded data removed]",
      "text/plain": [
       "<Figure size 432x288 with 1 Axes>"
      ]
     },
     "metadata": {},
     "output_type": "display_data"
    }
   ],
   "source": [
    "lassos_df = pd.DataFrame(lassos)\n",
    "sns.lineplot(x='alpha', y='5_fold_cv_error', data=lassos_df)"
   ]
  },
  {
   "cell_type": "markdown",
   "metadata": {},
   "source": [
    "Now we'll see what coefficient estimates this model produces"
   ]
  },
  {
   "cell_type": "code",
   "execution_count": 97,
   "metadata": {},
   "outputs": [
    {
     "data": {
      "text/plain": [
       "array([-0.        ,  1.43769581,  4.23293404, -4.72479707, -1.3268075 ,\n",
       "        2.69250184, -0.02715976,  0.40441206,  0.01230247,  0.04725243,\n",
       "        0.00255472])"
      ]
     },
     "execution_count": 97,
     "metadata": {},
     "output_type": "execute_result"
    }
   ],
   "source": [
    "lasso_model = Lasso(alpha=alpha, fit_intercept=False, max_iter=1e8, tol=1e-2).fit(X, y)\n",
    "lasso_model.coef_"
   ]
  },
  {
   "cell_type": "code",
   "execution_count": 98,
   "metadata": {
    "scrolled": true
   },
   "outputs": [
    {
     "data": {
      "text/html": [
       "<div>\n",
       "<style scoped>\n",
       "    .dataframe tbody tr th:only-of-type {\n",
       "        vertical-align: middle;\n",
       "    }\n",
       "\n",
       "    .dataframe tbody tr th {\n",
       "        vertical-align: top;\n",
       "    }\n",
       "\n",
       "    .dataframe thead th {\n",
       "        text-align: right;\n",
       "    }\n",
       "</style>\n",
       "<table border=\"1\" class=\"dataframe\">\n",
       "  <thead>\n",
       "    <tr style=\"text-align: right;\">\n",
       "      <th></th>\n",
       "      <th>coef_</th>\n",
       "    </tr>\n",
       "  </thead>\n",
       "  <tbody>\n",
       "    <tr>\n",
       "      <th>X^2</th>\n",
       "      <td>4.232934</td>\n",
       "    </tr>\n",
       "    <tr>\n",
       "      <th>X^5</th>\n",
       "      <td>2.692502</td>\n",
       "    </tr>\n",
       "    <tr>\n",
       "      <th>X^1</th>\n",
       "      <td>1.437696</td>\n",
       "    </tr>\n",
       "    <tr>\n",
       "      <th>X^7</th>\n",
       "      <td>0.404412</td>\n",
       "    </tr>\n",
       "    <tr>\n",
       "      <th>X^9</th>\n",
       "      <td>0.047252</td>\n",
       "    </tr>\n",
       "    <tr>\n",
       "      <th>X^8</th>\n",
       "      <td>0.012302</td>\n",
       "    </tr>\n",
       "    <tr>\n",
       "      <th>X^10</th>\n",
       "      <td>0.002555</td>\n",
       "    </tr>\n",
       "    <tr>\n",
       "      <th>X^0</th>\n",
       "      <td>-0.000000</td>\n",
       "    </tr>\n",
       "    <tr>\n",
       "      <th>X^6</th>\n",
       "      <td>-0.027160</td>\n",
       "    </tr>\n",
       "    <tr>\n",
       "      <th>X^4</th>\n",
       "      <td>-1.326808</td>\n",
       "    </tr>\n",
       "    <tr>\n",
       "      <th>X^3</th>\n",
       "      <td>-4.724797</td>\n",
       "    </tr>\n",
       "  </tbody>\n",
       "</table>\n",
       "</div>"
      ],
      "text/plain": [
       "         coef_\n",
       "X^2   4.232934\n",
       "X^5   2.692502\n",
       "X^1   1.437696\n",
       "X^7   0.404412\n",
       "X^9   0.047252\n",
       "X^8   0.012302\n",
       "X^10  0.002555\n",
       "X^0  -0.000000\n",
       "X^6  -0.027160\n",
       "X^4  -1.326808\n",
       "X^3  -4.724797"
      ]
     },
     "execution_count": 98,
     "metadata": {},
     "output_type": "execute_result"
    }
   ],
   "source": [
    "model_df = pd.DataFrame({'coef_': lasso_model.coef_}, index=data.columns[:-1])\n",
    "model_df.sort_values(by='coef_', ascending=False)"
   ]
  },
  {
   "cell_type": "code",
   "execution_count": 110,
   "metadata": {},
   "outputs": [
    {
     "data": {
      "text/plain": [
       "292.261615448788"
      ]
     },
     "execution_count": 110,
     "metadata": {},
     "output_type": "execute_result"
    }
   ],
   "source": [
    "y_pred = lasso_model.predict(data_valid.drop(columns=['y_valid']))\n",
    "errors = y_pred - y_valid\n",
    "lasso_mse_test = np.mean(np.dot(errors, errors))\n",
    "lasso_mse_test"
   ]
  },
  {
   "cell_type": "code",
   "execution_count": 111,
   "metadata": {
    "scrolled": false
   },
   "outputs": [
    {
     "data": {
      "text/html": [
       "<div>\n",
       "<style scoped>\n",
       "    .dataframe tbody tr th:only-of-type {\n",
       "        vertical-align: middle;\n",
       "    }\n",
       "\n",
       "    .dataframe tbody tr th {\n",
       "        vertical-align: top;\n",
       "    }\n",
       "\n",
       "    .dataframe thead th {\n",
       "        text-align: right;\n",
       "    }\n",
       "</style>\n",
       "<table border=\"1\" class=\"dataframe\">\n",
       "  <thead>\n",
       "    <tr style=\"text-align: right;\">\n",
       "      <th></th>\n",
       "      <th>mse_test</th>\n",
       "    </tr>\n",
       "  </thead>\n",
       "  <tbody>\n",
       "    <tr>\n",
       "      <th>bss</th>\n",
       "      <td>91636.168193</td>\n",
       "    </tr>\n",
       "    <tr>\n",
       "      <th>lasso</th>\n",
       "      <td>292.261615</td>\n",
       "    </tr>\n",
       "  </tbody>\n",
       "</table>\n",
       "</div>"
      ],
      "text/plain": [
       "           mse_test\n",
       "bss    91636.168193\n",
       "lasso    292.261615"
      ]
     },
     "execution_count": 111,
     "metadata": {},
     "output_type": "execute_result"
    }
   ],
   "source": [
    "model_selection_df = model_selection_df.append(pd.DataFrame({'mse_test': [lasso_mse_test]}, index=['lasso']))\n",
    "model_selection_df"
   ]
  },
  {
   "cell_type": "markdown",
   "metadata": {},
   "source": [
    "Once again, the lasso dramatically outperforms."
   ]
  }
 ],
 "metadata": {
  "kernelspec": {
   "display_name": "Python 3",
   "language": "python",
   "name": "python3"
  },
  "language_info": {
   "codemirror_mode": {
    "name": "ipython",
    "version": 3
   },
   "file_extension": ".py",
   "mimetype": "text/x-python",
   "name": "python",
   "nbconvert_exporter": "python",
   "pygments_lexer": "ipython3",
   "version": "3.6.8"
  },
  "toc": {
   "base_numbering": 1,
   "nav_menu": {},
   "number_sections": false,
   "sideBar": false,
   "skip_h1_title": true,
   "title_cell": "Table of Contents",
   "title_sidebar": "Contents",
   "toc_cell": false,
   "toc_position": {
    "height": "49px",
    "left": "904.993px",
    "top": "134.708px",
    "width": "160px"
   },
   "toc_section_display": false,
   "toc_window_display": true
  }
 },
 "nbformat": 4,
 "nbformat_minor": 2
}
