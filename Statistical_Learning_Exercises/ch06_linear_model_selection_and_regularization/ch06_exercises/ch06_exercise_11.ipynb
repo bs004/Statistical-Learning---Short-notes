{
 "cells": [
  {
   "cell_type": "markdown",
   "metadata": {},
   "source": [
    "# Predicting `crim` in `Boston` dataset"
   ]
  },
  {
   "cell_type": "markdown",
   "metadata": {},
   "source": [
    "## Preparing the data"
   ]
  },
  {
   "cell_type": "code",
   "execution_count": 1,
   "metadata": {},
   "outputs": [
    {
     "data": {
      "text/html": [
       "<div>\n",
       "<style scoped>\n",
       "    .dataframe tbody tr th:only-of-type {\n",
       "        vertical-align: middle;\n",
       "    }\n",
       "\n",
       "    .dataframe tbody tr th {\n",
       "        vertical-align: top;\n",
       "    }\n",
       "\n",
       "    .dataframe thead th {\n",
       "        text-align: right;\n",
       "    }\n",
       "</style>\n",
       "<table border=\"1\" class=\"dataframe\">\n",
       "  <thead>\n",
       "    <tr style=\"text-align: right;\">\n",
       "      <th></th>\n",
       "      <th>crim</th>\n",
       "      <th>zn</th>\n",
       "      <th>indus</th>\n",
       "      <th>chas</th>\n",
       "      <th>nox</th>\n",
       "      <th>rm</th>\n",
       "      <th>age</th>\n",
       "      <th>dis</th>\n",
       "      <th>rad</th>\n",
       "      <th>tax</th>\n",
       "      <th>ptratio</th>\n",
       "      <th>black</th>\n",
       "      <th>lstat</th>\n",
       "      <th>medv</th>\n",
       "    </tr>\n",
       "  </thead>\n",
       "  <tbody>\n",
       "    <tr>\n",
       "      <th>1</th>\n",
       "      <td>0.00632</td>\n",
       "      <td>18.0</td>\n",
       "      <td>2.31</td>\n",
       "      <td>0</td>\n",
       "      <td>0.538</td>\n",
       "      <td>6.575</td>\n",
       "      <td>65.2</td>\n",
       "      <td>4.0900</td>\n",
       "      <td>1</td>\n",
       "      <td>296</td>\n",
       "      <td>15.3</td>\n",
       "      <td>396.90</td>\n",
       "      <td>4.98</td>\n",
       "      <td>24.0</td>\n",
       "    </tr>\n",
       "    <tr>\n",
       "      <th>2</th>\n",
       "      <td>0.02731</td>\n",
       "      <td>0.0</td>\n",
       "      <td>7.07</td>\n",
       "      <td>0</td>\n",
       "      <td>0.469</td>\n",
       "      <td>6.421</td>\n",
       "      <td>78.9</td>\n",
       "      <td>4.9671</td>\n",
       "      <td>2</td>\n",
       "      <td>242</td>\n",
       "      <td>17.8</td>\n",
       "      <td>396.90</td>\n",
       "      <td>9.14</td>\n",
       "      <td>21.6</td>\n",
       "    </tr>\n",
       "    <tr>\n",
       "      <th>3</th>\n",
       "      <td>0.02729</td>\n",
       "      <td>0.0</td>\n",
       "      <td>7.07</td>\n",
       "      <td>0</td>\n",
       "      <td>0.469</td>\n",
       "      <td>7.185</td>\n",
       "      <td>61.1</td>\n",
       "      <td>4.9671</td>\n",
       "      <td>2</td>\n",
       "      <td>242</td>\n",
       "      <td>17.8</td>\n",
       "      <td>392.83</td>\n",
       "      <td>4.03</td>\n",
       "      <td>34.7</td>\n",
       "    </tr>\n",
       "    <tr>\n",
       "      <th>4</th>\n",
       "      <td>0.03237</td>\n",
       "      <td>0.0</td>\n",
       "      <td>2.18</td>\n",
       "      <td>0</td>\n",
       "      <td>0.458</td>\n",
       "      <td>6.998</td>\n",
       "      <td>45.8</td>\n",
       "      <td>6.0622</td>\n",
       "      <td>3</td>\n",
       "      <td>222</td>\n",
       "      <td>18.7</td>\n",
       "      <td>394.63</td>\n",
       "      <td>2.94</td>\n",
       "      <td>33.4</td>\n",
       "    </tr>\n",
       "    <tr>\n",
       "      <th>5</th>\n",
       "      <td>0.06905</td>\n",
       "      <td>0.0</td>\n",
       "      <td>2.18</td>\n",
       "      <td>0</td>\n",
       "      <td>0.458</td>\n",
       "      <td>7.147</td>\n",
       "      <td>54.2</td>\n",
       "      <td>6.0622</td>\n",
       "      <td>3</td>\n",
       "      <td>222</td>\n",
       "      <td>18.7</td>\n",
       "      <td>396.90</td>\n",
       "      <td>5.33</td>\n",
       "      <td>36.2</td>\n",
       "    </tr>\n",
       "  </tbody>\n",
       "</table>\n",
       "</div>"
      ],
      "text/plain": [
       "      crim    zn  indus  chas    nox     rm   age     dis  rad  tax  ptratio  \\\n",
       "1  0.00632  18.0   2.31     0  0.538  6.575  65.2  4.0900    1  296     15.3   \n",
       "2  0.02731   0.0   7.07     0  0.469  6.421  78.9  4.9671    2  242     17.8   \n",
       "3  0.02729   0.0   7.07     0  0.469  7.185  61.1  4.9671    2  242     17.8   \n",
       "4  0.03237   0.0   2.18     0  0.458  6.998  45.8  6.0622    3  222     18.7   \n",
       "5  0.06905   0.0   2.18     0  0.458  7.147  54.2  6.0622    3  222     18.7   \n",
       "\n",
       "    black  lstat  medv  \n",
       "1  396.90   4.98  24.0  \n",
       "2  396.90   9.14  21.6  \n",
       "3  392.83   4.03  34.7  \n",
       "4  394.63   2.94  33.4  \n",
       "5  396.90   5.33  36.2  "
      ]
     },
     "execution_count": 1,
     "metadata": {},
     "output_type": "execute_result"
    }
   ],
   "source": [
    "%matplotlib inline\n",
    "import numpy as np\n",
    "import pandas as pd\n",
    "import seaborn as sns; sns.set()\n",
    "\n",
    "boston = pd.read_csv('../../datasets/Boston.csv', index_col=0)\n",
    "boston.head()"
   ]
  },
  {
   "cell_type": "code",
   "execution_count": 2,
   "metadata": {},
   "outputs": [
    {
     "name": "stdout",
     "output_type": "stream",
     "text": [
      "<class 'pandas.core.frame.DataFrame'>\n",
      "Int64Index: 506 entries, 1 to 506\n",
      "Data columns (total 14 columns):\n",
      "crim       506 non-null float64\n",
      "zn         506 non-null float64\n",
      "indus      506 non-null float64\n",
      "chas       506 non-null int64\n",
      "nox        506 non-null float64\n",
      "rm         506 non-null float64\n",
      "age        506 non-null float64\n",
      "dis        506 non-null float64\n",
      "rad        506 non-null int64\n",
      "tax        506 non-null int64\n",
      "ptratio    506 non-null float64\n",
      "black      506 non-null float64\n",
      "lstat      506 non-null float64\n",
      "medv       506 non-null float64\n",
      "dtypes: float64(11), int64(3)\n",
      "memory usage: 59.3 KB\n"
     ]
    }
   ],
   "source": [
    "boston.info()"
   ]
  },
  {
   "cell_type": "markdown",
   "metadata": {},
   "source": [
    "## a. Experimenting with different models"
   ]
  },
  {
   "cell_type": "markdown",
   "metadata": {},
   "source": [
    "### Train test split"
   ]
  },
  {
   "cell_type": "code",
   "execution_count": 3,
   "metadata": {},
   "outputs": [
    {
     "name": "stderr",
     "output_type": "stream",
     "text": [
      "/Users/home/anaconda3/lib/python3.6/site-packages/sklearn/model_selection/_split.py:2179: FutureWarning: From version 0.21, test_size will always complement train_size unless both are specified.\n",
      "  FutureWarning)\n"
     ]
    },
    {
     "data": {
      "text/plain": [
       "((354, 13), (152, 13), (354,), (152,))"
      ]
     },
     "execution_count": 3,
     "metadata": {},
     "output_type": "execute_result"
    }
   ],
   "source": [
    "from sklearn.model_selection import train_test_split\n",
    "\n",
    "# split original data\n",
    "X_train, X_test, y_train, y_test = train_test_split(boston.drop(columns=['crim']), \n",
    "                                                            boston['crim'], train_size=0.7,\n",
    "                                                            random_state=0)\n",
    "\n",
    "# split normalized data\n",
    "boston_norm = (boston - boston.mean()) / boston.std()\n",
    "X_train_n, X_test_n, y_train_n, y_test_n = train_test_split(boston_norm.drop(columns=['crim']), \n",
    "                                                            boston_norm['crim'], train_size=0.7,\n",
    "                                                            random_state=0)\n",
    "\n",
    "\n",
    "X_train_n.shape, X_test_n.shape, y_train_n.shape, y_test_n.shape"
   ]
  },
  {
   "cell_type": "code",
   "execution_count": 4,
   "metadata": {},
   "outputs": [
    {
     "data": {
      "text/html": [
       "<div>\n",
       "<style scoped>\n",
       "    .dataframe tbody tr th:only-of-type {\n",
       "        vertical-align: middle;\n",
       "    }\n",
       "\n",
       "    .dataframe tbody tr th {\n",
       "        vertical-align: top;\n",
       "    }\n",
       "\n",
       "    .dataframe thead th {\n",
       "        text-align: right;\n",
       "    }\n",
       "</style>\n",
       "<table border=\"1\" class=\"dataframe\">\n",
       "  <thead>\n",
       "    <tr style=\"text-align: right;\">\n",
       "      <th></th>\n",
       "      <th>zn</th>\n",
       "      <th>indus</th>\n",
       "      <th>chas</th>\n",
       "      <th>nox</th>\n",
       "      <th>rm</th>\n",
       "      <th>age</th>\n",
       "      <th>dis</th>\n",
       "      <th>rad</th>\n",
       "      <th>tax</th>\n",
       "      <th>ptratio</th>\n",
       "      <th>black</th>\n",
       "      <th>lstat</th>\n",
       "      <th>medv</th>\n",
       "    </tr>\n",
       "  </thead>\n",
       "  <tbody>\n",
       "    <tr>\n",
       "      <th>142</th>\n",
       "      <td>0.0</td>\n",
       "      <td>21.89</td>\n",
       "      <td>0</td>\n",
       "      <td>0.624</td>\n",
       "      <td>5.019</td>\n",
       "      <td>100.0</td>\n",
       "      <td>1.4394</td>\n",
       "      <td>4</td>\n",
       "      <td>437</td>\n",
       "      <td>21.2</td>\n",
       "      <td>396.90</td>\n",
       "      <td>34.41</td>\n",
       "      <td>14.4</td>\n",
       "    </tr>\n",
       "    <tr>\n",
       "      <th>273</th>\n",
       "      <td>20.0</td>\n",
       "      <td>6.96</td>\n",
       "      <td>0</td>\n",
       "      <td>0.464</td>\n",
       "      <td>6.538</td>\n",
       "      <td>58.7</td>\n",
       "      <td>3.9175</td>\n",
       "      <td>3</td>\n",
       "      <td>223</td>\n",
       "      <td>18.6</td>\n",
       "      <td>394.96</td>\n",
       "      <td>7.73</td>\n",
       "      <td>24.4</td>\n",
       "    </tr>\n",
       "    <tr>\n",
       "      <th>136</th>\n",
       "      <td>0.0</td>\n",
       "      <td>21.89</td>\n",
       "      <td>0</td>\n",
       "      <td>0.624</td>\n",
       "      <td>6.335</td>\n",
       "      <td>98.2</td>\n",
       "      <td>2.1107</td>\n",
       "      <td>4</td>\n",
       "      <td>437</td>\n",
       "      <td>21.2</td>\n",
       "      <td>394.67</td>\n",
       "      <td>16.96</td>\n",
       "      <td>18.1</td>\n",
       "    </tr>\n",
       "    <tr>\n",
       "      <th>299</th>\n",
       "      <td>70.0</td>\n",
       "      <td>2.24</td>\n",
       "      <td>0</td>\n",
       "      <td>0.400</td>\n",
       "      <td>6.345</td>\n",
       "      <td>20.1</td>\n",
       "      <td>7.8278</td>\n",
       "      <td>5</td>\n",
       "      <td>358</td>\n",
       "      <td>14.8</td>\n",
       "      <td>368.24</td>\n",
       "      <td>4.97</td>\n",
       "      <td>22.5</td>\n",
       "    </tr>\n",
       "    <tr>\n",
       "      <th>123</th>\n",
       "      <td>0.0</td>\n",
       "      <td>25.65</td>\n",
       "      <td>0</td>\n",
       "      <td>0.581</td>\n",
       "      <td>5.961</td>\n",
       "      <td>92.9</td>\n",
       "      <td>2.0869</td>\n",
       "      <td>2</td>\n",
       "      <td>188</td>\n",
       "      <td>19.1</td>\n",
       "      <td>378.09</td>\n",
       "      <td>17.93</td>\n",
       "      <td>20.5</td>\n",
       "    </tr>\n",
       "  </tbody>\n",
       "</table>\n",
       "</div>"
      ],
      "text/plain": [
       "       zn  indus  chas    nox     rm    age     dis  rad  tax  ptratio  \\\n",
       "142   0.0  21.89     0  0.624  5.019  100.0  1.4394    4  437     21.2   \n",
       "273  20.0   6.96     0  0.464  6.538   58.7  3.9175    3  223     18.6   \n",
       "136   0.0  21.89     0  0.624  6.335   98.2  2.1107    4  437     21.2   \n",
       "299  70.0   2.24     0  0.400  6.345   20.1  7.8278    5  358     14.8   \n",
       "123   0.0  25.65     0  0.581  5.961   92.9  2.0869    2  188     19.1   \n",
       "\n",
       "      black  lstat  medv  \n",
       "142  396.90  34.41  14.4  \n",
       "273  394.96   7.73  24.4  \n",
       "136  394.67  16.96  18.1  \n",
       "299  368.24   4.97  22.5  \n",
       "123  378.09  17.93  20.5  "
      ]
     },
     "execution_count": 4,
     "metadata": {},
     "output_type": "execute_result"
    }
   ],
   "source": [
    "X_train.head()"
   ]
  },
  {
   "cell_type": "code",
   "execution_count": 5,
   "metadata": {},
   "outputs": [
    {
     "data": {
      "text/html": [
       "<div>\n",
       "<style scoped>\n",
       "    .dataframe tbody tr th:only-of-type {\n",
       "        vertical-align: middle;\n",
       "    }\n",
       "\n",
       "    .dataframe tbody tr th {\n",
       "        vertical-align: top;\n",
       "    }\n",
       "\n",
       "    .dataframe thead th {\n",
       "        text-align: right;\n",
       "    }\n",
       "</style>\n",
       "<table border=\"1\" class=\"dataframe\">\n",
       "  <thead>\n",
       "    <tr style=\"text-align: right;\">\n",
       "      <th></th>\n",
       "      <th>zn</th>\n",
       "      <th>indus</th>\n",
       "      <th>chas</th>\n",
       "      <th>nox</th>\n",
       "      <th>rm</th>\n",
       "      <th>age</th>\n",
       "      <th>dis</th>\n",
       "      <th>rad</th>\n",
       "      <th>tax</th>\n",
       "      <th>ptratio</th>\n",
       "      <th>black</th>\n",
       "      <th>lstat</th>\n",
       "      <th>medv</th>\n",
       "    </tr>\n",
       "  </thead>\n",
       "  <tbody>\n",
       "    <tr>\n",
       "      <th>142</th>\n",
       "      <td>-0.487240</td>\n",
       "      <td>1.567444</td>\n",
       "      <td>-0.272329</td>\n",
       "      <td>0.598087</td>\n",
       "      <td>-1.801314</td>\n",
       "      <td>1.116390</td>\n",
       "      <td>-1.118693</td>\n",
       "      <td>-0.637331</td>\n",
       "      <td>0.170662</td>\n",
       "      <td>1.267684</td>\n",
       "      <td>0.440616</td>\n",
       "      <td>3.046737</td>\n",
       "      <td>-0.884279</td>\n",
       "    </tr>\n",
       "    <tr>\n",
       "      <th>273</th>\n",
       "      <td>0.370303</td>\n",
       "      <td>-0.608829</td>\n",
       "      <td>-0.272329</td>\n",
       "      <td>-0.782679</td>\n",
       "      <td>0.360603</td>\n",
       "      <td>-0.350810</td>\n",
       "      <td>0.058155</td>\n",
       "      <td>-0.752178</td>\n",
       "      <td>-1.099088</td>\n",
       "      <td>0.066730</td>\n",
       "      <td>0.419366</td>\n",
       "      <td>-0.689402</td>\n",
       "      <td>0.203020</td>\n",
       "    </tr>\n",
       "    <tr>\n",
       "      <th>136</th>\n",
       "      <td>-0.487240</td>\n",
       "      <td>1.567444</td>\n",
       "      <td>-0.272329</td>\n",
       "      <td>0.598087</td>\n",
       "      <td>0.071683</td>\n",
       "      <td>1.052444</td>\n",
       "      <td>-0.799893</td>\n",
       "      <td>-0.637331</td>\n",
       "      <td>0.170662</td>\n",
       "      <td>1.267684</td>\n",
       "      <td>0.416190</td>\n",
       "      <td>0.603123</td>\n",
       "      <td>-0.481978</td>\n",
       "    </tr>\n",
       "    <tr>\n",
       "      <th>299</th>\n",
       "      <td>2.514159</td>\n",
       "      <td>-1.296840</td>\n",
       "      <td>-0.272329</td>\n",
       "      <td>-1.334986</td>\n",
       "      <td>0.085915</td>\n",
       "      <td>-1.722091</td>\n",
       "      <td>1.915153</td>\n",
       "      <td>-0.522484</td>\n",
       "      <td>-0.298078</td>\n",
       "      <td>-1.688511</td>\n",
       "      <td>0.126688</td>\n",
       "      <td>-1.075899</td>\n",
       "      <td>-0.003567</td>\n",
       "    </tr>\n",
       "    <tr>\n",
       "      <th>123</th>\n",
       "      <td>-0.487240</td>\n",
       "      <td>2.115521</td>\n",
       "      <td>-0.272329</td>\n",
       "      <td>0.227006</td>\n",
       "      <td>-0.460613</td>\n",
       "      <td>0.864159</td>\n",
       "      <td>-0.811196</td>\n",
       "      <td>-0.867024</td>\n",
       "      <td>-1.306758</td>\n",
       "      <td>0.297683</td>\n",
       "      <td>0.234580</td>\n",
       "      <td>0.738957</td>\n",
       "      <td>-0.221027</td>\n",
       "    </tr>\n",
       "  </tbody>\n",
       "</table>\n",
       "</div>"
      ],
      "text/plain": [
       "           zn     indus      chas       nox        rm       age       dis  \\\n",
       "142 -0.487240  1.567444 -0.272329  0.598087 -1.801314  1.116390 -1.118693   \n",
       "273  0.370303 -0.608829 -0.272329 -0.782679  0.360603 -0.350810  0.058155   \n",
       "136 -0.487240  1.567444 -0.272329  0.598087  0.071683  1.052444 -0.799893   \n",
       "299  2.514159 -1.296840 -0.272329 -1.334986  0.085915 -1.722091  1.915153   \n",
       "123 -0.487240  2.115521 -0.272329  0.227006 -0.460613  0.864159 -0.811196   \n",
       "\n",
       "          rad       tax   ptratio     black     lstat      medv  \n",
       "142 -0.637331  0.170662  1.267684  0.440616  3.046737 -0.884279  \n",
       "273 -0.752178 -1.099088  0.066730  0.419366 -0.689402  0.203020  \n",
       "136 -0.637331  0.170662  1.267684  0.416190  0.603123 -0.481978  \n",
       "299 -0.522484 -0.298078 -1.688511  0.126688 -1.075899 -0.003567  \n",
       "123 -0.867024 -1.306758  0.297683  0.234580  0.738957 -0.221027  "
      ]
     },
     "execution_count": 5,
     "metadata": {},
     "output_type": "execute_result"
    }
   ],
   "source": [
    "X_train_n.head()"
   ]
  },
  {
   "cell_type": "markdown",
   "metadata": {},
   "source": [
    "### BSS model"
   ]
  },
  {
   "cell_type": "markdown",
   "metadata": {},
   "source": [
    "#### Select best number of predictors with 10-fold cross-validation"
   ]
  },
  {
   "cell_type": "code",
   "execution_count": 6,
   "metadata": {},
   "outputs": [
    {
     "data": {
      "text/html": [
       "<div>\n",
       "<style scoped>\n",
       "    .dataframe tbody tr th:only-of-type {\n",
       "        vertical-align: middle;\n",
       "    }\n",
       "\n",
       "    .dataframe tbody tr th {\n",
       "        vertical-align: top;\n",
       "    }\n",
       "\n",
       "    .dataframe thead th {\n",
       "        text-align: right;\n",
       "    }\n",
       "</style>\n",
       "<table border=\"1\" class=\"dataframe\">\n",
       "  <thead>\n",
       "    <tr style=\"text-align: right;\">\n",
       "      <th></th>\n",
       "      <th>num_pred</th>\n",
       "      <th>best_pred_idx</th>\n",
       "      <th>best_cv_mse</th>\n",
       "    </tr>\n",
       "  </thead>\n",
       "  <tbody>\n",
       "    <tr>\n",
       "      <th>0</th>\n",
       "      <td>1</td>\n",
       "      <td>(7,)</td>\n",
       "      <td>0.614720</td>\n",
       "    </tr>\n",
       "    <tr>\n",
       "      <th>1</th>\n",
       "      <td>2</td>\n",
       "      <td>(7, 11)</td>\n",
       "      <td>0.584325</td>\n",
       "    </tr>\n",
       "    <tr>\n",
       "      <th>2</th>\n",
       "      <td>3</td>\n",
       "      <td>(0, 7, 11)</td>\n",
       "      <td>0.581228</td>\n",
       "    </tr>\n",
       "    <tr>\n",
       "      <th>3</th>\n",
       "      <td>4</td>\n",
       "      <td>(0, 6, 7, 12)</td>\n",
       "      <td>0.575825</td>\n",
       "    </tr>\n",
       "    <tr>\n",
       "      <th>4</th>\n",
       "      <td>5</td>\n",
       "      <td>(0, 1, 6, 7, 12)</td>\n",
       "      <td>0.570074</td>\n",
       "    </tr>\n",
       "    <tr>\n",
       "      <th>5</th>\n",
       "      <td>6</td>\n",
       "      <td>(0, 1, 6, 7, 9, 12)</td>\n",
       "      <td>0.568879</td>\n",
       "    </tr>\n",
       "    <tr>\n",
       "      <th>6</th>\n",
       "      <td>7</td>\n",
       "      <td>(0, 1, 3, 6, 7, 9, 12)</td>\n",
       "      <td>0.567485</td>\n",
       "    </tr>\n",
       "    <tr>\n",
       "      <th>7</th>\n",
       "      <td>8</td>\n",
       "      <td>(0, 1, 3, 6, 7, 9, 11, 12)</td>\n",
       "      <td>0.567127</td>\n",
       "    </tr>\n",
       "    <tr>\n",
       "      <th>8</th>\n",
       "      <td>9</td>\n",
       "      <td>(0, 1, 2, 3, 6, 7, 9, 11, 12)</td>\n",
       "      <td>0.567506</td>\n",
       "    </tr>\n",
       "    <tr>\n",
       "      <th>9</th>\n",
       "      <td>10</td>\n",
       "      <td>(0, 1, 2, 3, 5, 6, 7, 9, 11, 12)</td>\n",
       "      <td>0.568090</td>\n",
       "    </tr>\n",
       "    <tr>\n",
       "      <th>10</th>\n",
       "      <td>11</td>\n",
       "      <td>(0, 1, 2, 3, 5, 6, 7, 8, 9, 11, 12)</td>\n",
       "      <td>0.568894</td>\n",
       "    </tr>\n",
       "    <tr>\n",
       "      <th>11</th>\n",
       "      <td>12</td>\n",
       "      <td>(0, 1, 2, 3, 5, 6, 7, 8, 9, 10, 11, 12)</td>\n",
       "      <td>0.575742</td>\n",
       "    </tr>\n",
       "    <tr>\n",
       "      <th>12</th>\n",
       "      <td>13</td>\n",
       "      <td>(0, 1, 2, 3, 4, 5, 6, 7, 8, 9, 10, 11, 12)</td>\n",
       "      <td>0.586912</td>\n",
       "    </tr>\n",
       "  </tbody>\n",
       "</table>\n",
       "</div>"
      ],
      "text/plain": [
       "    num_pred                               best_pred_idx  best_cv_mse\n",
       "0          1                                        (7,)     0.614720\n",
       "1          2                                     (7, 11)     0.584325\n",
       "2          3                                  (0, 7, 11)     0.581228\n",
       "3          4                               (0, 6, 7, 12)     0.575825\n",
       "4          5                            (0, 1, 6, 7, 12)     0.570074\n",
       "5          6                         (0, 1, 6, 7, 9, 12)     0.568879\n",
       "6          7                      (0, 1, 3, 6, 7, 9, 12)     0.567485\n",
       "7          8                  (0, 1, 3, 6, 7, 9, 11, 12)     0.567127\n",
       "8          9               (0, 1, 2, 3, 6, 7, 9, 11, 12)     0.567506\n",
       "9         10            (0, 1, 2, 3, 5, 6, 7, 9, 11, 12)     0.568090\n",
       "10        11         (0, 1, 2, 3, 5, 6, 7, 8, 9, 11, 12)     0.568894\n",
       "11        12     (0, 1, 2, 3, 5, 6, 7, 8, 9, 10, 11, 12)     0.575742\n",
       "12        13  (0, 1, 2, 3, 4, 5, 6, 7, 8, 9, 10, 11, 12)     0.586912"
      ]
     },
     "execution_count": 6,
     "metadata": {},
     "output_type": "execute_result"
    }
   ],
   "source": [
    "from sklearn.linear_model import LinearRegression\n",
    "from sklearn.metrics import mean_squared_error\n",
    "from mlxtend.feature_selection import ExhaustiveFeatureSelector as EFS\n",
    "\n",
    "# dict for mse results\n",
    "bss_mses = {'num_pred': [], 'best_pred_idx': [], 'best_cv_mse': []}\n",
    "\n",
    "# get best subset of k predictors for k = 1,...,p\n",
    "for k in range(1, X_train_n.shape[1] + 1):\n",
    "    reg = LinearRegression()\n",
    "    efs = EFS(reg, min_features=k, max_features=k, scoring='neg_mean_squared_error',\n",
    "              print_progress=False, cv=10, n_jobs=-1)\n",
    "    efs = efs.fit(X_train_n, y_train_n)\n",
    "    bss_mses['num_pred'] += [k]\n",
    "    bss_mses['best_pred_idx'] += [efs.best_idx_]\n",
    "    bss_mses['best_cv_mse'] += [-efs.best_score_]\n",
    "    \n",
    "# data frame for results\n",
    "bss_mses_df = pd.DataFrame(bss_mses)\n",
    "bss_mses_df"
   ]
  },
  {
   "cell_type": "code",
   "execution_count": 7,
   "metadata": {},
   "outputs": [
    {
     "data": {
      "text/plain": [
       "<matplotlib.axes._subplots.AxesSubplot at 0x1a15ecbb70>"
      ]
     },
     "execution_count": 7,
     "metadata": {},
     "output_type": "execute_result"
    },
    {
     "data": {
      "image/png": "[encoded data removed]",
      "text/plain": [
       "<Figure size 432x288 with 1 Axes>"
      ]
     },
     "metadata": {},
     "output_type": "display_data"
    }
   ],
   "source": [
    "sns.lineplot(x=bss_mses_df['num_pred'], y=bss_mses_df['best_cv_mse'])"
   ]
  },
  {
   "cell_type": "code",
   "execution_count": 8,
   "metadata": {},
   "outputs": [
    {
     "data": {
      "text/plain": [
       "num_pred                                  8\n",
       "best_pred_idx    (0, 1, 3, 6, 7, 9, 11, 12)\n",
       "best_cv_mse                        0.567127\n",
       "Name: 7, dtype: object"
      ]
     },
     "execution_count": 8,
     "metadata": {},
     "output_type": "execute_result"
    }
   ],
   "source": [
    "bss_final_model_df = bss_mses_df.loc[bss_mses_df['best_cv_mse'].idxmin(), :]\n",
    "bss_final_model_df"
   ]
  },
  {
   "cell_type": "markdown",
   "metadata": {},
   "source": [
    "#### Get test error"
   ]
  },
  {
   "cell_type": "code",
   "execution_count": 9,
   "metadata": {},
   "outputs": [],
   "source": [
    "# helper function which creates a full length beta with zero entries for ommitted predictors\n",
    "def full_beta(beta_len, model_beta, pred_idx):\n",
    "    beta, counter = np.zeros(beta_len), 0\n",
    "    for i in pred_idx:\n",
    "        beta[i] = model_beta[counter]\n",
    "        counter += 1\n",
    "    return beta\n",
    "\n",
    "# helper which predicts test data >= features of train data\n",
    "def diff_num_feat_pred(estimator, X_train, y_train, X_test, pred_idx):\n",
    "    if len(pred_idx) == 1:\n",
    "        model_beta = estimator().fit(X_train[:, pred_idx].reshape(-1, 1), y_train).coef_\n",
    "    else:\n",
    "        model_beta = estimator().fit(X_train[:, pred_idx], y_train).coef_\n",
    "    beta_len = X_test.shape[1]\n",
    "    beta = full_beta(beta_len, model_beta, pred_idx)\n",
    "    return np.matmul(X_test, beta)"
   ]
  },
  {
   "cell_type": "code",
   "execution_count": 10,
   "metadata": {},
   "outputs": [
    {
     "data": {
      "text/html": [
       "<div>\n",
       "<style scoped>\n",
       "    .dataframe tbody tr th:only-of-type {\n",
       "        vertical-align: middle;\n",
       "    }\n",
       "\n",
       "    .dataframe tbody tr th {\n",
       "        vertical-align: top;\n",
       "    }\n",
       "\n",
       "    .dataframe thead th {\n",
       "        text-align: right;\n",
       "    }\n",
       "</style>\n",
       "<table border=\"1\" class=\"dataframe\">\n",
       "  <thead>\n",
       "    <tr style=\"text-align: right;\">\n",
       "      <th></th>\n",
       "      <th>mse_test</th>\n",
       "      <th>params</th>\n",
       "    </tr>\n",
       "  </thead>\n",
       "  <tbody>\n",
       "    <tr>\n",
       "      <th>bss</th>\n",
       "      <td>345.136759</td>\n",
       "      <td>{'best_pred_idx': (0, 1, 3, 6, 7, 9, 11, 12)}</td>\n",
       "    </tr>\n",
       "  </tbody>\n",
       "</table>\n",
       "</div>"
      ],
      "text/plain": [
       "       mse_test                                         params\n",
       "bss  345.136759  {'best_pred_idx': (0, 1, 3, 6, 7, 9, 11, 12)}"
      ]
     },
     "execution_count": 10,
     "metadata": {},
     "output_type": "execute_result"
    }
   ],
   "source": [
    "from sklearn.metrics import mean_squared_error\n",
    "\n",
    "pred_idx = bss_final_model_df['best_pred_idx']\n",
    "X_train\n",
    "y_pred = diff_num_feat_pred(LinearRegression, X_train.values, y_train, X_test, pred_idx)\n",
    "bss_mse_test = mean_squared_error(y_test, y_pred)\n",
    "\n",
    "mses_df = pd.DataFrame({'mse_test': bss_mse_test, 'params': [{'best_pred_idx': pred_idx}]},\n",
    "                       index=['bss'])\n",
    "mses_df"
   ]
  },
  {
   "cell_type": "markdown",
   "metadata": {},
   "source": [
    "### Ridge Regression model"
   ]
  },
  {
   "cell_type": "code",
   "execution_count": 11,
   "metadata": {},
   "outputs": [],
   "source": [
    "from sklearn.linear_model import Ridge\n",
    "from sklearn.model_selection import GridSearchCV\n",
    "\n",
    "parameters = {'alpha': [10**i for i in range(-3, 4)]}\n",
    "ridge_cv = GridSearchCV(Ridge(), parameters, cv=10, \n",
    "                     scoring='neg_mean_squared_error')"
   ]
  },
  {
   "cell_type": "code",
   "execution_count": 12,
   "metadata": {},
   "outputs": [],
   "source": [
    "%%capture\n",
    "\n",
    "ridge_cv.fit(X_train_n, y_train_n)"
   ]
  },
  {
   "cell_type": "code",
   "execution_count": 13,
   "metadata": {
    "scrolled": true
   },
   "outputs": [
    {
     "data": {
      "text/html": [
       "<div>\n",
       "<style scoped>\n",
       "    .dataframe tbody tr th:only-of-type {\n",
       "        vertical-align: middle;\n",
       "    }\n",
       "\n",
       "    .dataframe tbody tr th {\n",
       "        vertical-align: top;\n",
       "    }\n",
       "\n",
       "    .dataframe thead th {\n",
       "        text-align: right;\n",
       "    }\n",
       "</style>\n",
       "<table border=\"1\" class=\"dataframe\">\n",
       "  <thead>\n",
       "    <tr style=\"text-align: right;\">\n",
       "      <th></th>\n",
       "      <th>mse_test</th>\n",
       "      <th>params</th>\n",
       "    </tr>\n",
       "  </thead>\n",
       "  <tbody>\n",
       "    <tr>\n",
       "      <th>bss</th>\n",
       "      <td>345.136759</td>\n",
       "      <td>{'best_pred_idx': (0, 1, 3, 6, 7, 9, 11, 12)}</td>\n",
       "    </tr>\n",
       "    <tr>\n",
       "      <th>ridge</th>\n",
       "      <td>50.511281</td>\n",
       "      <td>{'alpha': 10}</td>\n",
       "    </tr>\n",
       "  </tbody>\n",
       "</table>\n",
       "</div>"
      ],
      "text/plain": [
       "         mse_test                                         params\n",
       "bss    345.136759  {'best_pred_idx': (0, 1, 3, 6, 7, 9, 11, 12)}\n",
       "ridge   50.511281                                  {'alpha': 10}"
      ]
     },
     "execution_count": 13,
     "metadata": {},
     "output_type": "execute_result"
    }
   ],
   "source": [
    "ridge_mse_test = mean_squared_error(y_test, ridge_cv.best_estimator_.predict(X_test))\n",
    "mses_df = mses_df.append(pd.DataFrame({'mse_test': ridge_mse_test, 'params': [ridge_cv.best_params_]}, index=['ridge']))\n",
    "mses_df"
   ]
  },
  {
   "cell_type": "markdown",
   "metadata": {},
   "source": [
    "### Lasso Regression model"
   ]
  },
  {
   "cell_type": "code",
   "execution_count": 17,
   "metadata": {},
   "outputs": [],
   "source": [
    "from sklearn.linear_model import Lasso\n",
    "from sklearn.model_selection import GridSearchCV\n",
    "\n",
    "parameters = {'alpha': [10**i for i in range(-3, 4)]}\n",
    "lasso_cv = GridSearchCV(Lasso(), parameters, cv=10, \n",
    "                     scoring='neg_mean_squared_error')"
   ]
  },
  {
   "cell_type": "code",
   "execution_count": 18,
   "metadata": {},
   "outputs": [],
   "source": [
    "%%capture\n",
    "\n",
    "lasso_cv.fit(X_train_n, y_train_n)"
   ]
  },
  {
   "cell_type": "code",
   "execution_count": 19,
   "metadata": {
    "scrolled": true
   },
   "outputs": [
    {
     "data": {
      "text/html": [
       "<div>\n",
       "<style scoped>\n",
       "    .dataframe tbody tr th:only-of-type {\n",
       "        vertical-align: middle;\n",
       "    }\n",
       "\n",
       "    .dataframe tbody tr th {\n",
       "        vertical-align: top;\n",
       "    }\n",
       "\n",
       "    .dataframe thead th {\n",
       "        text-align: right;\n",
       "    }\n",
       "</style>\n",
       "<table border=\"1\" class=\"dataframe\">\n",
       "  <thead>\n",
       "    <tr style=\"text-align: right;\">\n",
       "      <th></th>\n",
       "      <th>mse_test</th>\n",
       "      <th>params</th>\n",
       "    </tr>\n",
       "  </thead>\n",
       "  <tbody>\n",
       "    <tr>\n",
       "      <th>bss</th>\n",
       "      <td>345.136759</td>\n",
       "      <td>{'best_pred_idx': (0, 1, 3, 6, 7, 9, 11, 12)}</td>\n",
       "    </tr>\n",
       "    <tr>\n",
       "      <th>ridge</th>\n",
       "      <td>50.511281</td>\n",
       "      <td>{'alpha': 10}</td>\n",
       "    </tr>\n",
       "    <tr>\n",
       "      <th>lasso</th>\n",
       "      <td>55.832052</td>\n",
       "      <td>{'alpha': 0.01}</td>\n",
       "    </tr>\n",
       "  </tbody>\n",
       "</table>\n",
       "</div>"
      ],
      "text/plain": [
       "         mse_test                                         params\n",
       "bss    345.136759  {'best_pred_idx': (0, 1, 3, 6, 7, 9, 11, 12)}\n",
       "ridge   50.511281                                  {'alpha': 10}\n",
       "lasso   55.832052                                {'alpha': 0.01}"
      ]
     },
     "execution_count": 19,
     "metadata": {},
     "output_type": "execute_result"
    }
   ],
   "source": [
    "lasso_mse_test = mean_squared_error(y_test, lasso_cv.best_estimator_.predict(X_test))\n",
    "mses_df = mses_df.append(pd.DataFrame({'mse_test': lasso_mse_test, 'params': [lasso_cv.best_params_]}, index=['lasso']))\n",
    "mses_df"
   ]
  },
  {
   "cell_type": "markdown",
   "metadata": {},
   "source": [
    "### PCR model"
   ]
  },
  {
   "cell_type": "code",
   "execution_count": 20,
   "metadata": {},
   "outputs": [],
   "source": [
    "import numpy as np\n",
    "from sklearn.decomposition import PCA\n",
    "from sklearn.linear_model import LinearRegression\n",
    "from sklearn.model_selection import cross_val_score"
   ]
  },
  {
   "cell_type": "code",
   "execution_count": 21,
   "metadata": {},
   "outputs": [
    {
     "data": {
      "text/html": [
       "<div>\n",
       "<style scoped>\n",
       "    .dataframe tbody tr th:only-of-type {\n",
       "        vertical-align: middle;\n",
       "    }\n",
       "\n",
       "    .dataframe tbody tr th {\n",
       "        vertical-align: top;\n",
       "    }\n",
       "\n",
       "    .dataframe thead th {\n",
       "        text-align: right;\n",
       "    }\n",
       "</style>\n",
       "<table border=\"1\" class=\"dataframe\">\n",
       "  <thead>\n",
       "    <tr style=\"text-align: right;\">\n",
       "      <th></th>\n",
       "      <th>n_components</th>\n",
       "      <th>mse_test</th>\n",
       "    </tr>\n",
       "  </thead>\n",
       "  <tbody>\n",
       "    <tr>\n",
       "      <th>0</th>\n",
       "      <td>1</td>\n",
       "      <td>52.816816</td>\n",
       "    </tr>\n",
       "    <tr>\n",
       "      <th>1</th>\n",
       "      <td>2</td>\n",
       "      <td>60.853148</td>\n",
       "    </tr>\n",
       "    <tr>\n",
       "      <th>2</th>\n",
       "      <td>3</td>\n",
       "      <td>61.334721</td>\n",
       "    </tr>\n",
       "    <tr>\n",
       "      <th>3</th>\n",
       "      <td>4</td>\n",
       "      <td>61.446450</td>\n",
       "    </tr>\n",
       "    <tr>\n",
       "      <th>4</th>\n",
       "      <td>5</td>\n",
       "      <td>62.524405</td>\n",
       "    </tr>\n",
       "    <tr>\n",
       "      <th>5</th>\n",
       "      <td>6</td>\n",
       "      <td>58.173963</td>\n",
       "    </tr>\n",
       "    <tr>\n",
       "      <th>6</th>\n",
       "      <td>7</td>\n",
       "      <td>54.557999</td>\n",
       "    </tr>\n",
       "    <tr>\n",
       "      <th>7</th>\n",
       "      <td>8</td>\n",
       "      <td>52.706127</td>\n",
       "    </tr>\n",
       "    <tr>\n",
       "      <th>8</th>\n",
       "      <td>9</td>\n",
       "      <td>52.701465</td>\n",
       "    </tr>\n",
       "    <tr>\n",
       "      <th>9</th>\n",
       "      <td>10</td>\n",
       "      <td>51.970020</td>\n",
       "    </tr>\n",
       "    <tr>\n",
       "      <th>10</th>\n",
       "      <td>11</td>\n",
       "      <td>55.011556</td>\n",
       "    </tr>\n",
       "    <tr>\n",
       "      <th>11</th>\n",
       "      <td>12</td>\n",
       "      <td>55.146254</td>\n",
       "    </tr>\n",
       "    <tr>\n",
       "      <th>12</th>\n",
       "      <td>13</td>\n",
       "      <td>55.694265</td>\n",
       "    </tr>\n",
       "  </tbody>\n",
       "</table>\n",
       "</div>"
      ],
      "text/plain": [
       "    n_components   mse_test\n",
       "0              1  52.816816\n",
       "1              2  60.853148\n",
       "2              3  61.334721\n",
       "3              4  61.446450\n",
       "4              5  62.524405\n",
       "5              6  58.173963\n",
       "6              7  54.557999\n",
       "7              8  52.706127\n",
       "8              9  52.701465\n",
       "9             10  51.970020\n",
       "10            11  55.011556\n",
       "11            12  55.146254\n",
       "12            13  55.694265"
      ]
     },
     "execution_count": 21,
     "metadata": {},
     "output_type": "execute_result"
    }
   ],
   "source": [
    "pcr_mses = {'n_components': [], 'mse_test': []}\n",
    "\n",
    "for i in range(1, X_train.shape[1] + 1):\n",
    "    pca = PCA(n_components=i).fit(X_train)\n",
    "    pcr = LinearRegression().fit(pca.transform(X_train), y_train)\n",
    "    pcr_mses['n_components'] += [i]\n",
    "    pcr_mses['mse_test'] += [-cross_val_score(pcr, \n",
    "                                              X=pca.transform(boston.drop(columns=['crim'])), \n",
    "                                              y=boston['crim'],\n",
    "                                              scoring='neg_mean_squared_error',\n",
    "                                              cv=10\n",
    "                                              ).mean()\n",
    "                             ]\n",
    "pcr_mses_df = pd.DataFrame(pcr_mses)\n",
    "pcr_mses_df"
   ]
  },
  {
   "cell_type": "code",
   "execution_count": 22,
   "metadata": {},
   "outputs": [
    {
     "data": {
      "text/plain": [
       "<matplotlib.axes._subplots.AxesSubplot at 0x1a16e51320>"
      ]
     },
     "execution_count": 22,
     "metadata": {},
     "output_type": "execute_result"
    },
    {
     "data": {
      "image/png": "[encoded data removed]",
      "text/plain": [
       "<Figure size 432x288 with 1 Axes>"
      ]
     },
     "metadata": {},
     "output_type": "display_data"
    }
   ],
   "source": [
    "sns.lineplot(x=pcr_mses_df['n_components'], y=pcr_mses_df['mse_test'])"
   ]
  },
  {
   "cell_type": "code",
   "execution_count": 23,
   "metadata": {},
   "outputs": [
    {
     "data": {
      "text/plain": [
       "n_components    10.00000\n",
       "mse_test        51.97002\n",
       "Name: 9, dtype: float64"
      ]
     },
     "execution_count": 23,
     "metadata": {},
     "output_type": "execute_result"
    }
   ],
   "source": [
    "pcr_final_df = pcr_mses_df.iloc[pcr_mses_df['mse_test'].idxmin(), :]\n",
    "pcr_final_df"
   ]
  },
  {
   "cell_type": "code",
   "execution_count": 24,
   "metadata": {},
   "outputs": [
    {
     "data": {
      "text/html": [
       "<div>\n",
       "<style scoped>\n",
       "    .dataframe tbody tr th:only-of-type {\n",
       "        vertical-align: middle;\n",
       "    }\n",
       "\n",
       "    .dataframe tbody tr th {\n",
       "        vertical-align: top;\n",
       "    }\n",
       "\n",
       "    .dataframe thead th {\n",
       "        text-align: right;\n",
       "    }\n",
       "</style>\n",
       "<table border=\"1\" class=\"dataframe\">\n",
       "  <thead>\n",
       "    <tr style=\"text-align: right;\">\n",
       "      <th></th>\n",
       "      <th>mse_test</th>\n",
       "      <th>params</th>\n",
       "    </tr>\n",
       "  </thead>\n",
       "  <tbody>\n",
       "    <tr>\n",
       "      <th>bss</th>\n",
       "      <td>345.136759</td>\n",
       "      <td>{'best_pred_idx': (0, 1, 3, 6, 7, 9, 11, 12)}</td>\n",
       "    </tr>\n",
       "    <tr>\n",
       "      <th>ridge</th>\n",
       "      <td>50.511281</td>\n",
       "      <td>{'alpha': 10}</td>\n",
       "    </tr>\n",
       "    <tr>\n",
       "      <th>lasso</th>\n",
       "      <td>55.832052</td>\n",
       "      <td>{'alpha': 0.01}</td>\n",
       "    </tr>\n",
       "    <tr>\n",
       "      <th>pcr</th>\n",
       "      <td>51.970020</td>\n",
       "      <td>{'n_components': 10.0}</td>\n",
       "    </tr>\n",
       "  </tbody>\n",
       "</table>\n",
       "</div>"
      ],
      "text/plain": [
       "         mse_test                                         params\n",
       "bss    345.136759  {'best_pred_idx': (0, 1, 3, 6, 7, 9, 11, 12)}\n",
       "ridge   50.511281                                  {'alpha': 10}\n",
       "lasso   55.832052                                {'alpha': 0.01}\n",
       "pcr     51.970020                         {'n_components': 10.0}"
      ]
     },
     "execution_count": 24,
     "metadata": {},
     "output_type": "execute_result"
    }
   ],
   "source": [
    "mses_df = mses_df.append(pd.DataFrame({'mse_test': pcr_final_df['mse_test'], \n",
    "                                       'params': [{'n_components': pcr_final_df['n_components']}]}, \n",
    "                                       index=['pcr']))\n",
    "mses_df"
   ]
  },
  {
   "cell_type": "markdown",
   "metadata": {},
   "source": [
    "### b. The chosen model"
   ]
  },
  {
   "cell_type": "markdown",
   "metadata": {},
   "source": [
    "The test error of all models was estimated using 10-fold cross validation. The Ridge, Lasso, and PCR models all had dramatically better test error than the BSS model. \n",
    "\n",
    "The comparable test error estimates of these models suggest that any of these would be a good choice. However, since Ridge had the best test error we propose this as the final model choice."
   ]
  },
  {
   "cell_type": "markdown",
   "metadata": {},
   "source": [
    "### c. Does this chosen model involve all of the features?"
   ]
  },
  {
   "cell_type": "markdown",
   "metadata": {},
   "source": [
    "We'll need to check the parameters estimates to see if any are zero"
   ]
  },
  {
   "cell_type": "code",
   "execution_count": 26,
   "metadata": {},
   "outputs": [
    {
     "name": "stderr",
     "output_type": "stream",
     "text": [
      "/Users/home/anaconda3/lib/python3.6/site-packages/sklearn/model_selection/_search.py:841: DeprecationWarning: The default of the `iid` parameter will change from True to False in version 0.22 and will be removed in 0.24. This will change numeric results when test-set sizes are unequal.\n",
      "  DeprecationWarning)\n"
     ]
    },
    {
     "data": {
      "text/plain": [
       "array([ 3.84143511e-02, -1.06250131e-01, -1.73225646e-01, -7.62914551e-02,\n",
       "        5.38270606e-01, -1.66925727e-02, -6.96483300e-01,  5.49989757e-01,\n",
       "       -3.12204302e-03, -2.02578937e-01,  4.15559037e-04,  1.98319611e-01,\n",
       "       -1.81963777e-01])"
      ]
     },
     "execution_count": 26,
     "metadata": {},
     "output_type": "execute_result"
    }
   ],
   "source": [
    "alpha = ridge_cv.fit(X_train, y_train).best_params_['alpha']\n",
    "ridge = Ridge(alpha=alpha).fit(X_train, y_train)\n",
    "ridge.coef_"
   ]
  },
  {
   "cell_type": "markdown",
   "metadata": {},
   "source": [
    "Some values are small, but none are totally negligible. So the final model does involve all the features"
   ]
  }
 ],
 "metadata": {
  "kernelspec": {
   "display_name": "Python 3",
   "language": "python",
   "name": "python3"
  },
  "language_info": {
   "codemirror_mode": {
    "name": "ipython",
    "version": 3
   },
   "file_extension": ".py",
   "mimetype": "text/x-python",
   "name": "python",
   "nbconvert_exporter": "python",
   "pygments_lexer": "ipython3",
   "version": "3.6.8"
  },
  "toc": {
   "base_numbering": "",
   "nav_menu": {},
   "number_sections": false,
   "sideBar": false,
   "skip_h1_title": true,
   "title_cell": "Table of Contents",
   "title_sidebar": "Contents",
   "toc_cell": false,
   "toc_position": {
    "height": "48px",
    "left": "1187px",
    "top": "144px",
    "width": "160px"
   },
   "toc_section_display": false,
   "toc_window_display": true
  }
 },
 "nbformat": 4,
 "nbformat_minor": 2
}
