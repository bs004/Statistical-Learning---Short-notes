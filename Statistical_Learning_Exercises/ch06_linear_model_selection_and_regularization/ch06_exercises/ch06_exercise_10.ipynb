{
 "cells": [
  {
   "cell_type": "markdown",
   "metadata": {},
   "source": [
    "# Exploring test error on a simulated dataset"
   ]
  },
  {
   "cell_type": "markdown",
   "metadata": {},
   "source": [
    "Note that this exercise has been modified to $p=15$, to be able to complete (c) in a reasonable time (BSS algorithm runtime is exponential in the number of predictors). The training error as a function of $p$ is nearly constant when $p = 15$ anyway."
   ]
  },
  {
   "cell_type": "markdown",
   "metadata": {},
   "source": [
    "## a. Generate the data"
   ]
  },
  {
   "cell_type": "code",
   "execution_count": 1,
   "metadata": {},
   "outputs": [
    {
     "data": {
      "text/html": [
       "<div>\n",
       "<style scoped>\n",
       "    .dataframe tbody tr th:only-of-type {\n",
       "        vertical-align: middle;\n",
       "    }\n",
       "\n",
       "    .dataframe tbody tr th {\n",
       "        vertical-align: top;\n",
       "    }\n",
       "\n",
       "    .dataframe thead th {\n",
       "        text-align: right;\n",
       "    }\n",
       "</style>\n",
       "<table border=\"1\" class=\"dataframe\">\n",
       "  <thead>\n",
       "    <tr style=\"text-align: right;\">\n",
       "      <th></th>\n",
       "      <th>X^1</th>\n",
       "      <th>X^2</th>\n",
       "      <th>X^3</th>\n",
       "      <th>X^4</th>\n",
       "      <th>X^5</th>\n",
       "      <th>X^6</th>\n",
       "      <th>X^7</th>\n",
       "      <th>X^8</th>\n",
       "      <th>X^9</th>\n",
       "      <th>X^10</th>\n",
       "      <th>X^11</th>\n",
       "      <th>X^12</th>\n",
       "      <th>X^13</th>\n",
       "      <th>X^14</th>\n",
       "      <th>X^15</th>\n",
       "      <th>y</th>\n",
       "    </tr>\n",
       "  </thead>\n",
       "  <tbody>\n",
       "    <tr>\n",
       "      <th>0</th>\n",
       "      <td>0.571933</td>\n",
       "      <td>0.327107</td>\n",
       "      <td>0.187083</td>\n",
       "      <td>0.106999</td>\n",
       "      <td>0.061196</td>\n",
       "      <td>0.035000</td>\n",
       "      <td>0.020018</td>\n",
       "      <td>0.011449</td>\n",
       "      <td>6.547953e-03</td>\n",
       "      <td>3.744989e-03</td>\n",
       "      <td>2.141882e-03</td>\n",
       "      <td>1.225013e-03</td>\n",
       "      <td>7.006252e-04</td>\n",
       "      <td>4.007106e-04</td>\n",
       "      <td>2.291796e-04</td>\n",
       "      <td>1.508114</td>\n",
       "    </tr>\n",
       "    <tr>\n",
       "      <th>1</th>\n",
       "      <td>0.179980</td>\n",
       "      <td>0.032393</td>\n",
       "      <td>0.005830</td>\n",
       "      <td>0.001049</td>\n",
       "      <td>0.000189</td>\n",
       "      <td>0.000034</td>\n",
       "      <td>0.000006</td>\n",
       "      <td>0.000001</td>\n",
       "      <td>1.981650e-07</td>\n",
       "      <td>3.566581e-08</td>\n",
       "      <td>6.419147e-09</td>\n",
       "      <td>1.155321e-09</td>\n",
       "      <td>2.079351e-10</td>\n",
       "      <td>3.742424e-11</td>\n",
       "      <td>6.735629e-12</td>\n",
       "      <td>-0.155696</td>\n",
       "    </tr>\n",
       "    <tr>\n",
       "      <th>2</th>\n",
       "      <td>1.095461</td>\n",
       "      <td>1.200035</td>\n",
       "      <td>1.314592</td>\n",
       "      <td>1.440084</td>\n",
       "      <td>1.577557</td>\n",
       "      <td>1.728152</td>\n",
       "      <td>1.893123</td>\n",
       "      <td>2.073843</td>\n",
       "      <td>2.271815e+00</td>\n",
       "      <td>2.488685e+00</td>\n",
       "      <td>2.726257e+00</td>\n",
       "      <td>2.986509e+00</td>\n",
       "      <td>3.271605e+00</td>\n",
       "      <td>3.583916e+00</td>\n",
       "      <td>3.926041e+00</td>\n",
       "      <td>11.183512</td>\n",
       "    </tr>\n",
       "    <tr>\n",
       "      <th>3</th>\n",
       "      <td>0.644125</td>\n",
       "      <td>0.414897</td>\n",
       "      <td>0.267245</td>\n",
       "      <td>0.172139</td>\n",
       "      <td>0.110879</td>\n",
       "      <td>0.071420</td>\n",
       "      <td>0.046003</td>\n",
       "      <td>0.029632</td>\n",
       "      <td>1.908667e-02</td>\n",
       "      <td>1.229420e-02</td>\n",
       "      <td>7.918998e-03</td>\n",
       "      <td>5.100823e-03</td>\n",
       "      <td>3.285566e-03</td>\n",
       "      <td>2.116315e-03</td>\n",
       "      <td>1.363171e-03</td>\n",
       "      <td>0.783877</td>\n",
       "    </tr>\n",
       "    <tr>\n",
       "      <th>4</th>\n",
       "      <td>1.003829</td>\n",
       "      <td>1.007672</td>\n",
       "      <td>1.011530</td>\n",
       "      <td>1.015403</td>\n",
       "      <td>1.019291</td>\n",
       "      <td>1.023193</td>\n",
       "      <td>1.027111</td>\n",
       "      <td>1.031043</td>\n",
       "      <td>1.034991e+00</td>\n",
       "      <td>1.038954e+00</td>\n",
       "      <td>1.042932e+00</td>\n",
       "      <td>1.046925e+00</td>\n",
       "      <td>1.050933e+00</td>\n",
       "      <td>1.054957e+00</td>\n",
       "      <td>1.058996e+00</td>\n",
       "      <td>4.482393</td>\n",
       "    </tr>\n",
       "  </tbody>\n",
       "</table>\n",
       "</div>"
      ],
      "text/plain": [
       "        X^1       X^2       X^3       X^4       X^5       X^6       X^7  \\\n",
       "0  0.571933  0.327107  0.187083  0.106999  0.061196  0.035000  0.020018   \n",
       "1  0.179980  0.032393  0.005830  0.001049  0.000189  0.000034  0.000006   \n",
       "2  1.095461  1.200035  1.314592  1.440084  1.577557  1.728152  1.893123   \n",
       "3  0.644125  0.414897  0.267245  0.172139  0.110879  0.071420  0.046003   \n",
       "4  1.003829  1.007672  1.011530  1.015403  1.019291  1.023193  1.027111   \n",
       "\n",
       "        X^8           X^9          X^10          X^11          X^12  \\\n",
       "0  0.011449  6.547953e-03  3.744989e-03  2.141882e-03  1.225013e-03   \n",
       "1  0.000001  1.981650e-07  3.566581e-08  6.419147e-09  1.155321e-09   \n",
       "2  2.073843  2.271815e+00  2.488685e+00  2.726257e+00  2.986509e+00   \n",
       "3  0.029632  1.908667e-02  1.229420e-02  7.918998e-03  5.100823e-03   \n",
       "4  1.031043  1.034991e+00  1.038954e+00  1.042932e+00  1.046925e+00   \n",
       "\n",
       "           X^13          X^14          X^15          y  \n",
       "0  7.006252e-04  4.007106e-04  2.291796e-04   1.508114  \n",
       "1  2.079351e-10  3.742424e-11  6.735629e-12  -0.155696  \n",
       "2  3.271605e+00  3.583916e+00  3.926041e+00  11.183512  \n",
       "3  3.285566e-03  2.116315e-03  1.363171e-03   0.783877  \n",
       "4  1.050933e+00  1.054957e+00  1.058996e+00   4.482393  "
      ]
     },
     "execution_count": 1,
     "metadata": {},
     "output_type": "execute_result"
    }
   ],
   "source": [
    "import numpy as np\n",
    "import pandas as pd\n",
    "\n",
    "# random X, coefficients, and noise\n",
    "X = 1.1*np.random.rand(1000)\n",
    "beta, e = np.random.rand(15, 1).flatten(), np.random.normal(size=1000)\n",
    "\n",
    "# randomly zero 4 entries of beta\n",
    "beta_zeros_indices = np.random.choice(15, 4)\n",
    "beta = np.array([beta[i] if i not in beta_zeros_indices else 0 for i in range(len(beta))])\n",
    "\n",
    "# data generated by degree 15 polynomial model\n",
    "data = pd.DataFrame({'X^' + str(i): X**i for i in range(1, 16)})\n",
    "\n",
    "# add response\n",
    "data['y'] = np.matmul(data.values, beta) + e\n",
    "\n",
    "data.head()"
   ]
  },
  {
   "cell_type": "markdown",
   "metadata": {},
   "source": [
    "## b. Train test split"
   ]
  },
  {
   "cell_type": "code",
   "execution_count": 2,
   "metadata": {},
   "outputs": [],
   "source": [
    "from sklearn.model_selection import train_test_split"
   ]
  },
  {
   "cell_type": "code",
   "execution_count": 3,
   "metadata": {},
   "outputs": [],
   "source": [
    "%%capture\n",
    "\n",
    "X_train, X_test, y_train, y_test = train_test_split(data.drop(columns=['y']), \n",
    "                                                    data['y'], train_size=100)"
   ]
  },
  {
   "cell_type": "code",
   "execution_count": 4,
   "metadata": {},
   "outputs": [
    {
     "data": {
      "text/plain": [
       "((100, 15), (900, 15), (100,), (900,))"
      ]
     },
     "execution_count": 4,
     "metadata": {},
     "output_type": "execute_result"
    }
   ],
   "source": [
    "X_train.shape, X_test.shape, y_train.shape, y_test.shape"
   ]
  },
  {
   "cell_type": "markdown",
   "metadata": {},
   "source": [
    "## c. BSS on training data and train error"
   ]
  },
  {
   "cell_type": "code",
   "execution_count": 5,
   "metadata": {},
   "outputs": [],
   "source": [
    "from sklearn.linear_model import LinearRegression\n",
    "from sklearn.metrics import mean_squared_error\n",
    "from mlxtend.feature_selection import ExhaustiveFeatureSelector as EFS\n",
    "\n",
    "# dict for mse results\n",
    "bss_mses = {'num_pred': [], 'best_pred_idx': [], 'best_mse_train': []}\n",
    "\n",
    "for k in range(1, 16):\n",
    "    reg = LinearRegression()\n",
    "    efs = EFS(reg, min_features=k, max_features=k, scoring='neg_mean_squared_error',\n",
    "              print_progress=False, cv=None, n_jobs=-1)\n",
    "    efs = efs.fit(X_train, y_train)\n",
    "    bss_mses['num_pred'] += [k]\n",
    "    bss_mses['best_pred_idx'] += [efs.best_idx_]\n",
    "    bss_mses['best_mse_train'] += [-efs.best_score_]"
   ]
  },
  {
   "cell_type": "code",
   "execution_count": 6,
   "metadata": {},
   "outputs": [
    {
     "data": {
      "text/html": [
       "<div>\n",
       "<style scoped>\n",
       "    .dataframe tbody tr th:only-of-type {\n",
       "        vertical-align: middle;\n",
       "    }\n",
       "\n",
       "    .dataframe tbody tr th {\n",
       "        vertical-align: top;\n",
       "    }\n",
       "\n",
       "    .dataframe thead th {\n",
       "        text-align: right;\n",
       "    }\n",
       "</style>\n",
       "<table border=\"1\" class=\"dataframe\">\n",
       "  <thead>\n",
       "    <tr style=\"text-align: right;\">\n",
       "      <th></th>\n",
       "      <th>num_pred</th>\n",
       "      <th>best_pred_idx</th>\n",
       "      <th>best_mse_train</th>\n",
       "    </tr>\n",
       "  </thead>\n",
       "  <tbody>\n",
       "    <tr>\n",
       "      <th>0</th>\n",
       "      <td>1</td>\n",
       "      <td>(8,)</td>\n",
       "      <td>0.965216</td>\n",
       "    </tr>\n",
       "    <tr>\n",
       "      <th>1</th>\n",
       "      <td>2</td>\n",
       "      <td>(7, 14)</td>\n",
       "      <td>0.960280</td>\n",
       "    </tr>\n",
       "    <tr>\n",
       "      <th>2</th>\n",
       "      <td>3</td>\n",
       "      <td>(3, 4, 14)</td>\n",
       "      <td>0.955215</td>\n",
       "    </tr>\n",
       "    <tr>\n",
       "      <th>3</th>\n",
       "      <td>4</td>\n",
       "      <td>(5, 6, 7, 8)</td>\n",
       "      <td>0.950193</td>\n",
       "    </tr>\n",
       "    <tr>\n",
       "      <th>4</th>\n",
       "      <td>5</td>\n",
       "      <td>(2, 4, 5, 6, 7)</td>\n",
       "      <td>0.932734</td>\n",
       "    </tr>\n",
       "    <tr>\n",
       "      <th>5</th>\n",
       "      <td>6</td>\n",
       "      <td>(0, 1, 2, 3, 4, 6)</td>\n",
       "      <td>0.868717</td>\n",
       "    </tr>\n",
       "    <tr>\n",
       "      <th>6</th>\n",
       "      <td>7</td>\n",
       "      <td>(0, 2, 3, 4, 5, 6, 11)</td>\n",
       "      <td>0.856748</td>\n",
       "    </tr>\n",
       "    <tr>\n",
       "      <th>7</th>\n",
       "      <td>8</td>\n",
       "      <td>(0, 2, 3, 4, 5, 6, 8, 14)</td>\n",
       "      <td>0.856729</td>\n",
       "    </tr>\n",
       "    <tr>\n",
       "      <th>8</th>\n",
       "      <td>9</td>\n",
       "      <td>(0, 1, 5, 6, 7, 9, 10, 11, 12)</td>\n",
       "      <td>0.856044</td>\n",
       "    </tr>\n",
       "    <tr>\n",
       "      <th>9</th>\n",
       "      <td>10</td>\n",
       "      <td>(0, 1, 6, 7, 9, 10, 11, 12, 13, 14)</td>\n",
       "      <td>0.855568</td>\n",
       "    </tr>\n",
       "    <tr>\n",
       "      <th>10</th>\n",
       "      <td>11</td>\n",
       "      <td>(0, 1, 2, 7, 8, 9, 10, 11, 12, 13, 14)</td>\n",
       "      <td>0.855489</td>\n",
       "    </tr>\n",
       "    <tr>\n",
       "      <th>11</th>\n",
       "      <td>12</td>\n",
       "      <td>(1, 2, 3, 4, 5, 6, 7, 8, 9, 10, 11, 12)</td>\n",
       "      <td>0.854482</td>\n",
       "    </tr>\n",
       "    <tr>\n",
       "      <th>12</th>\n",
       "      <td>13</td>\n",
       "      <td>(2, 3, 4, 5, 6, 7, 8, 9, 10, 11, 12, 13, 14)</td>\n",
       "      <td>0.849140</td>\n",
       "    </tr>\n",
       "    <tr>\n",
       "      <th>13</th>\n",
       "      <td>14</td>\n",
       "      <td>(1, 2, 3, 4, 5, 6, 7, 8, 9, 10, 11, 12, 13, 14)</td>\n",
       "      <td>0.848783</td>\n",
       "    </tr>\n",
       "    <tr>\n",
       "      <th>14</th>\n",
       "      <td>15</td>\n",
       "      <td>(0, 1, 2, 3, 4, 5, 6, 7, 8, 9, 10, 11, 12, 13,...</td>\n",
       "      <td>0.846343</td>\n",
       "    </tr>\n",
       "  </tbody>\n",
       "</table>\n",
       "</div>"
      ],
      "text/plain": [
       "    num_pred                                      best_pred_idx  \\\n",
       "0          1                                               (8,)   \n",
       "1          2                                            (7, 14)   \n",
       "2          3                                         (3, 4, 14)   \n",
       "3          4                                       (5, 6, 7, 8)   \n",
       "4          5                                    (2, 4, 5, 6, 7)   \n",
       "5          6                                 (0, 1, 2, 3, 4, 6)   \n",
       "6          7                             (0, 2, 3, 4, 5, 6, 11)   \n",
       "7          8                          (0, 2, 3, 4, 5, 6, 8, 14)   \n",
       "8          9                     (0, 1, 5, 6, 7, 9, 10, 11, 12)   \n",
       "9         10                (0, 1, 6, 7, 9, 10, 11, 12, 13, 14)   \n",
       "10        11             (0, 1, 2, 7, 8, 9, 10, 11, 12, 13, 14)   \n",
       "11        12            (1, 2, 3, 4, 5, 6, 7, 8, 9, 10, 11, 12)   \n",
       "12        13       (2, 3, 4, 5, 6, 7, 8, 9, 10, 11, 12, 13, 14)   \n",
       "13        14    (1, 2, 3, 4, 5, 6, 7, 8, 9, 10, 11, 12, 13, 14)   \n",
       "14        15  (0, 1, 2, 3, 4, 5, 6, 7, 8, 9, 10, 11, 12, 13,...   \n",
       "\n",
       "    best_mse_train  \n",
       "0         0.965216  \n",
       "1         0.960280  \n",
       "2         0.955215  \n",
       "3         0.950193  \n",
       "4         0.932734  \n",
       "5         0.868717  \n",
       "6         0.856748  \n",
       "7         0.856729  \n",
       "8         0.856044  \n",
       "9         0.855568  \n",
       "10        0.855489  \n",
       "11        0.854482  \n",
       "12        0.849140  \n",
       "13        0.848783  \n",
       "14        0.846343  "
      ]
     },
     "execution_count": 6,
     "metadata": {},
     "output_type": "execute_result"
    }
   ],
   "source": [
    "bss_mses_df = pd.DataFrame(bss_mses)\n",
    "bss_mses_df"
   ]
  },
  {
   "cell_type": "code",
   "execution_count": 17,
   "metadata": {},
   "outputs": [
    {
     "data": {
      "text/plain": [
       "<matplotlib.axes._subplots.AxesSubplot at 0x1a19c8cc88>"
      ]
     },
     "execution_count": 17,
     "metadata": {},
     "output_type": "execute_result"
    },
    {
     "data": {
      "image/png": "[encoded data removed]",
      "text/plain": [
       "<Figure size 432x288 with 1 Axes>"
      ]
     },
     "metadata": {},
     "output_type": "display_data"
    }
   ],
   "source": [
    "import seaborn as sns\n",
    "\n",
    "sns.lineplot(x=bss_mses_df['num_pred'], y=bss_mses_df['best_mse_train'])"
   ]
  },
  {
   "cell_type": "markdown",
   "metadata": {},
   "source": [
    "## d. BSS test error"
   ]
  },
  {
   "cell_type": "code",
   "execution_count": 8,
   "metadata": {},
   "outputs": [],
   "source": [
    "# helper function which creates a full length beta with zero entries for ommitted predictors\n",
    "def full_beta(beta_len, model_beta, pred_idx):\n",
    "    beta, counter = np.zeros(beta_len), 0\n",
    "    for i in pred_idx:\n",
    "        beta[i] = model_beta[counter]\n",
    "        counter += 1\n",
    "    return beta\n",
    "\n",
    "# helper which predicts test data >= features of train data\n",
    "def diff_num_feat_pred(estimator, X_train, y_train, X_test, pred_idx):\n",
    "    if len(pred_idx) == 1:\n",
    "        model_beta = estimator().fit(X_train[:, pred_idx].reshape(-1, 1), y_train).coef_\n",
    "    else:\n",
    "        model_beta = estimator().fit(X_train[:, pred_idx], y_train).coef_\n",
    "    beta_len = X_test.shape[1]\n",
    "    beta = full_beta(beta_len, model_beta, pred_idx)\n",
    "    return np.matmul(X_test, beta)\n"
   ]
  },
  {
   "cell_type": "code",
   "execution_count": 10,
   "metadata": {},
   "outputs": [],
   "source": [
    "from sklearn.metrics import mean_squared_error\n",
    "\n",
    "# track best model test error\n",
    "bss_mses_df['best_mse_test'] = np.zeros(len(bss_mses_df))\n",
    "\n",
    "for k in bss_mses_df.index:\n",
    "    pred_idx = bss_mses_df.loc[k, 'best_pred_idx']\n",
    "    y_pred = diff_num_feat_pred(LinearRegression, X_train.values, y_train, X_test, pred_idx)\n",
    "    bss_mses_df.loc[k, 'best_mse_test'] = mean_squared_error(y_test, y_pred)"
   ]
  },
  {
   "cell_type": "code",
   "execution_count": 11,
   "metadata": {},
   "outputs": [
    {
     "data": {
      "text/html": [
       "<div>\n",
       "<style scoped>\n",
       "    .dataframe tbody tr th:only-of-type {\n",
       "        vertical-align: middle;\n",
       "    }\n",
       "\n",
       "    .dataframe tbody tr th {\n",
       "        vertical-align: top;\n",
       "    }\n",
       "\n",
       "    .dataframe thead th {\n",
       "        text-align: right;\n",
       "    }\n",
       "</style>\n",
       "<table border=\"1\" class=\"dataframe\">\n",
       "  <thead>\n",
       "    <tr style=\"text-align: right;\">\n",
       "      <th></th>\n",
       "      <th>num_pred</th>\n",
       "      <th>best_pred_idx</th>\n",
       "      <th>best_mse_train</th>\n",
       "      <th>best_mse_test</th>\n",
       "    </tr>\n",
       "  </thead>\n",
       "  <tbody>\n",
       "    <tr>\n",
       "      <th>0</th>\n",
       "      <td>1</td>\n",
       "      <td>(8,)</td>\n",
       "      <td>0.965216</td>\n",
       "      <td>1.330568</td>\n",
       "    </tr>\n",
       "    <tr>\n",
       "      <th>1</th>\n",
       "      <td>2</td>\n",
       "      <td>(7, 14)</td>\n",
       "      <td>0.960280</td>\n",
       "      <td>1.269383</td>\n",
       "    </tr>\n",
       "    <tr>\n",
       "      <th>2</th>\n",
       "      <td>3</td>\n",
       "      <td>(3, 4, 14)</td>\n",
       "      <td>0.955215</td>\n",
       "      <td>1.316338</td>\n",
       "    </tr>\n",
       "    <tr>\n",
       "      <th>3</th>\n",
       "      <td>4</td>\n",
       "      <td>(5, 6, 7, 8)</td>\n",
       "      <td>0.950193</td>\n",
       "      <td>1.337739</td>\n",
       "    </tr>\n",
       "    <tr>\n",
       "      <th>4</th>\n",
       "      <td>5</td>\n",
       "      <td>(2, 4, 5, 6, 7)</td>\n",
       "      <td>0.932734</td>\n",
       "      <td>1.159891</td>\n",
       "    </tr>\n",
       "    <tr>\n",
       "      <th>5</th>\n",
       "      <td>6</td>\n",
       "      <td>(0, 1, 2, 3, 4, 6)</td>\n",
       "      <td>0.868717</td>\n",
       "      <td>7.432659</td>\n",
       "    </tr>\n",
       "    <tr>\n",
       "      <th>6</th>\n",
       "      <td>7</td>\n",
       "      <td>(0, 2, 3, 4, 5, 6, 11)</td>\n",
       "      <td>0.856748</td>\n",
       "      <td>4.303755</td>\n",
       "    </tr>\n",
       "    <tr>\n",
       "      <th>7</th>\n",
       "      <td>8</td>\n",
       "      <td>(0, 2, 3, 4, 5, 6, 8, 14)</td>\n",
       "      <td>0.856729</td>\n",
       "      <td>4.327183</td>\n",
       "    </tr>\n",
       "    <tr>\n",
       "      <th>8</th>\n",
       "      <td>9</td>\n",
       "      <td>(0, 1, 5, 6, 7, 9, 10, 11, 12)</td>\n",
       "      <td>0.856044</td>\n",
       "      <td>4.543950</td>\n",
       "    </tr>\n",
       "    <tr>\n",
       "      <th>9</th>\n",
       "      <td>10</td>\n",
       "      <td>(0, 1, 6, 7, 9, 10, 11, 12, 13, 14)</td>\n",
       "      <td>0.855568</td>\n",
       "      <td>4.293005</td>\n",
       "    </tr>\n",
       "    <tr>\n",
       "      <th>10</th>\n",
       "      <td>11</td>\n",
       "      <td>(0, 1, 2, 7, 8, 9, 10, 11, 12, 13, 14)</td>\n",
       "      <td>0.855489</td>\n",
       "      <td>4.556714</td>\n",
       "    </tr>\n",
       "    <tr>\n",
       "      <th>11</th>\n",
       "      <td>12</td>\n",
       "      <td>(1, 2, 3, 4, 5, 6, 7, 8, 9, 10, 11, 12)</td>\n",
       "      <td>0.854482</td>\n",
       "      <td>3.741683</td>\n",
       "    </tr>\n",
       "    <tr>\n",
       "      <th>12</th>\n",
       "      <td>13</td>\n",
       "      <td>(2, 3, 4, 5, 6, 7, 8, 9, 10, 11, 12, 13, 14)</td>\n",
       "      <td>0.849140</td>\n",
       "      <td>2.879799</td>\n",
       "    </tr>\n",
       "    <tr>\n",
       "      <th>13</th>\n",
       "      <td>14</td>\n",
       "      <td>(1, 2, 3, 4, 5, 6, 7, 8, 9, 10, 11, 12, 13, 14)</td>\n",
       "      <td>0.848783</td>\n",
       "      <td>2.322990</td>\n",
       "    </tr>\n",
       "    <tr>\n",
       "      <th>14</th>\n",
       "      <td>15</td>\n",
       "      <td>(0, 1, 2, 3, 4, 5, 6, 7, 8, 9, 10, 11, 12, 13,...</td>\n",
       "      <td>0.846343</td>\n",
       "      <td>31.446850</td>\n",
       "    </tr>\n",
       "  </tbody>\n",
       "</table>\n",
       "</div>"
      ],
      "text/plain": [
       "    num_pred                                      best_pred_idx  \\\n",
       "0          1                                               (8,)   \n",
       "1          2                                            (7, 14)   \n",
       "2          3                                         (3, 4, 14)   \n",
       "3          4                                       (5, 6, 7, 8)   \n",
       "4          5                                    (2, 4, 5, 6, 7)   \n",
       "5          6                                 (0, 1, 2, 3, 4, 6)   \n",
       "6          7                             (0, 2, 3, 4, 5, 6, 11)   \n",
       "7          8                          (0, 2, 3, 4, 5, 6, 8, 14)   \n",
       "8          9                     (0, 1, 5, 6, 7, 9, 10, 11, 12)   \n",
       "9         10                (0, 1, 6, 7, 9, 10, 11, 12, 13, 14)   \n",
       "10        11             (0, 1, 2, 7, 8, 9, 10, 11, 12, 13, 14)   \n",
       "11        12            (1, 2, 3, 4, 5, 6, 7, 8, 9, 10, 11, 12)   \n",
       "12        13       (2, 3, 4, 5, 6, 7, 8, 9, 10, 11, 12, 13, 14)   \n",
       "13        14    (1, 2, 3, 4, 5, 6, 7, 8, 9, 10, 11, 12, 13, 14)   \n",
       "14        15  (0, 1, 2, 3, 4, 5, 6, 7, 8, 9, 10, 11, 12, 13,...   \n",
       "\n",
       "    best_mse_train  best_mse_test  \n",
       "0         0.965216       1.330568  \n",
       "1         0.960280       1.269383  \n",
       "2         0.955215       1.316338  \n",
       "3         0.950193       1.337739  \n",
       "4         0.932734       1.159891  \n",
       "5         0.868717       7.432659  \n",
       "6         0.856748       4.303755  \n",
       "7         0.856729       4.327183  \n",
       "8         0.856044       4.543950  \n",
       "9         0.855568       4.293005  \n",
       "10        0.855489       4.556714  \n",
       "11        0.854482       3.741683  \n",
       "12        0.849140       2.879799  \n",
       "13        0.848783       2.322990  \n",
       "14        0.846343      31.446850  "
      ]
     },
     "execution_count": 11,
     "metadata": {},
     "output_type": "execute_result"
    }
   ],
   "source": [
    "bss_mses_df"
   ]
  },
  {
   "cell_type": "code",
   "execution_count": 12,
   "metadata": {},
   "outputs": [
    {
     "data": {
      "text/plain": [
       "<matplotlib.axes._subplots.AxesSubplot at 0x1a19c18160>"
      ]
     },
     "execution_count": 12,
     "metadata": {},
     "output_type": "execute_result"
    },
    {
     "data": {
      "image/png": "[encoded data removed]",
      "text/plain": [
       "<Figure size 432x288 with 1 Axes>"
      ]
     },
     "metadata": {},
     "output_type": "display_data"
    }
   ],
   "source": [
    "sns.lineplot(x=bss_mses_df['num_pred'], y=bss_mses_df['best_mse_test'])"
   ]
  },
  {
   "cell_type": "markdown",
   "metadata": {},
   "source": [
    "## e. Model with minimum test error"
   ]
  },
  {
   "cell_type": "markdown",
   "metadata": {},
   "source": [
    "Here is the best model by test mse:"
   ]
  },
  {
   "cell_type": "code",
   "execution_count": 16,
   "metadata": {},
   "outputs": [
    {
     "data": {
      "text/plain": [
       "num_pred                        5\n",
       "best_pred_idx     (2, 4, 5, 6, 7)\n",
       "best_mse_train           0.932734\n",
       "best_mse_test             1.15989\n",
       "Name: 4, dtype: object"
      ]
     },
     "execution_count": 16,
     "metadata": {},
     "output_type": "execute_result"
    }
   ],
   "source": [
    "bss_mses_df.loc[bss_mses_df['best_mse_test'].idxmin(), :]"
   ]
  },
  {
   "cell_type": "markdown",
   "metadata": {},
   "source": [
    "And by train mse:"
   ]
  },
  {
   "cell_type": "code",
   "execution_count": 18,
   "metadata": {},
   "outputs": [
    {
     "data": {
      "text/plain": [
       "num_pred                                                         15\n",
       "best_pred_idx     (0, 1, 2, 3, 4, 5, 6, 7, 8, 9, 10, 11, 12, 13,...\n",
       "best_mse_train                                             0.846343\n",
       "best_mse_test                                               31.4469\n",
       "Name: 14, dtype: object"
      ]
     },
     "execution_count": 18,
     "metadata": {},
     "output_type": "execute_result"
    }
   ],
   "source": [
    "bss_mses_df.loc[bss_mses_df['best_mse_train'].idxmin(), :]"
   ]
  },
  {
   "cell_type": "markdown",
   "metadata": {},
   "source": [
    "The best model by test mse is not the best model by train mse"
   ]
  },
  {
   "cell_type": "markdown",
   "metadata": {},
   "source": [
    "## f. Comparing best model and true model"
   ]
  },
  {
   "cell_type": "markdown",
   "metadata": {},
   "source": [
    "The best model by test mse has only one third of the predictors of the full model. This is perhaps not surprising if we inspect the distributions of the features"
   ]
  },
  {
   "cell_type": "code",
   "execution_count": 33,
   "metadata": {},
   "outputs": [
    {
     "data": {
      "image/png": "[encoded data removed]",
      "text/plain": [
       "<Figure size 1080x1080 with 15 Axes>"
      ]
     },
     "metadata": {},
     "output_type": "display_data"
    }
   ],
   "source": [
    "from itertools import product\n",
    "import matplotlib.pyplot as plt\n",
    "\n",
    "sns.set()\n",
    "f, axes = plt.subplots(5, 3, figsize=(15, 15), sharex=True)\n",
    "prod = list(product(range(5), range(3)))\n",
    "for (i, j) in prod:\n",
    "    sns.distplot(data.iloc[:, prod.index((i,j))], ax=axes[i, j])"
   ]
  },
  {
   "cell_type": "markdown",
   "metadata": {},
   "source": [
    "The higher the power of $X$, the more concentrated the values are around 9"
   ]
  }
 ],
 "metadata": {
  "kernelspec": {
   "display_name": "Python 3",
   "language": "python",
   "name": "python3"
  },
  "language_info": {
   "codemirror_mode": {
    "name": "ipython",
    "version": 3
   },
   "file_extension": ".py",
   "mimetype": "text/x-python",
   "name": "python",
   "nbconvert_exporter": "python",
   "pygments_lexer": "ipython3",
   "version": "3.6.8"
  },
  "toc": {
   "base_numbering": 1,
   "nav_menu": {},
   "number_sections": false,
   "sideBar": false,
   "skip_h1_title": true,
   "title_cell": "Table of Contents",
   "title_sidebar": "Contents",
   "toc_cell": false,
   "toc_position": {
    "height": "48px",
    "left": "862px",
    "top": "130.986px",
    "width": "159px"
   },
   "toc_section_display": false,
   "toc_window_display": true
  }
 },
 "nbformat": 4,
 "nbformat_minor": 2
}
