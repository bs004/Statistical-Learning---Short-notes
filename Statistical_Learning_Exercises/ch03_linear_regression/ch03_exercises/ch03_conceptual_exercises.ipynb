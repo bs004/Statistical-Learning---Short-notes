{
 "cells": [
  {
   "cell_type": "markdown",
   "metadata": {},
   "source": [
    "## Exercise 1: Hypothesis testing the coefficients from the model in 3.2.1"
   ]
  },
  {
   "cell_type": "markdown",
   "metadata": {},
   "source": [
    "Table 3.4 has the following information"
   ]
  },
  {
   "cell_type": "code",
   "execution_count": 1,
   "metadata": {},
   "outputs": [
    {
     "data": {
      "text/html": [
       "<div>\n",
       "<style scoped>\n",
       "    .dataframe tbody tr th:only-of-type {\n",
       "        vertical-align: middle;\n",
       "    }\n",
       "\n",
       "    .dataframe tbody tr th {\n",
       "        vertical-align: top;\n",
       "    }\n",
       "\n",
       "    .dataframe thead th {\n",
       "        text-align: right;\n",
       "    }\n",
       "</style>\n",
       "<table border=\"1\" class=\"dataframe\">\n",
       "  <thead>\n",
       "    <tr style=\"text-align: right;\">\n",
       "      <th></th>\n",
       "      <th>Coefficient</th>\n",
       "      <th>Std. Error</th>\n",
       "      <th>t-statistic</th>\n",
       "      <th>p-value</th>\n",
       "    </tr>\n",
       "  </thead>\n",
       "  <tbody>\n",
       "    <tr>\n",
       "      <th>Intercept</th>\n",
       "      <td>2.939</td>\n",
       "      <td>0.3119</td>\n",
       "      <td>9.42</td>\n",
       "      <td>0.0001</td>\n",
       "    </tr>\n",
       "    <tr>\n",
       "      <th>TV</th>\n",
       "      <td>0.046</td>\n",
       "      <td>0.0014</td>\n",
       "      <td>32.81</td>\n",
       "      <td>0.0001</td>\n",
       "    </tr>\n",
       "    <tr>\n",
       "      <th>radio</th>\n",
       "      <td>0.189</td>\n",
       "      <td>0.0086</td>\n",
       "      <td>21.89</td>\n",
       "      <td>0.0001</td>\n",
       "    </tr>\n",
       "    <tr>\n",
       "      <th>newspaper</th>\n",
       "      <td>-0.001</td>\n",
       "      <td>0.0059</td>\n",
       "      <td>-0.18</td>\n",
       "      <td>0.8599</td>\n",
       "    </tr>\n",
       "  </tbody>\n",
       "</table>\n",
       "</div>"
      ],
      "text/plain": [
       "           Coefficient  Std. Error  t-statistic  p-value\n",
       "Intercept        2.939      0.3119         9.42   0.0001\n",
       "TV               0.046      0.0014        32.81   0.0001\n",
       "radio            0.189      0.0086        21.89   0.0001\n",
       "newspaper       -0.001      0.0059        -0.18   0.8599"
      ]
     },
     "execution_count": 1,
     "metadata": {},
     "output_type": "execute_result"
    }
   ],
   "source": [
    "import pandas as pd\n",
    "\n",
    "data = {'Coefficient': [2.939, 0.046, 0.189, -0.001],\n",
    "        'Std. Error': [0.3119, 0.0014, 0.0086, 0.0059],\n",
    "        't-statistic': [9.42, 32.81, 21.89, -0.18],\n",
    "        'p-value': [0.0001, 0.0001, 0.0001, 0.8599]}\n",
    "index = ['Intercept', 'TV', 'radio', 'newspaper']\n",
    "table = pd.DataFrame(data, index=index)\n",
    "table.head()"
   ]
  },
  {
   "cell_type": "markdown",
   "metadata": {},
   "source": [
    "The p-values for `Intercept`, `TV` and `radio` coefficients are small enough to reject the null hypotheses for these coefficient, thus accepting the alternative hypotheses that \n",
    "\n",
    "- In the absence of `TV` and `radio` ad spending there will be 2,939 units sold\n",
    "- For each \\$1,000 increase in `TV` ad spending another 46 units will sell\n",
    "- For each \\$1,000 increase in `radio` ad spending another 189 units will sell\n",
    "\n",
    "The p-value for `newspaper` is very high, so in that case we retain the null hypothesis that there is no relationship between newspaper ad spending and sales"
   ]
  },
  {
   "cell_type": "markdown",
   "metadata": {},
   "source": [
    "## Exercise 2: Differences between KNN classifier and regression methods"
   ]
  },
  {
   "cell_type": "markdown",
   "metadata": {},
   "source": [
    "Both methods look at a neighborhood $N_0$ of the $K$ points nearest a point $x_o$. \n",
    "\n",
    "The KNN classifier estimates the conditional probability of of a class $j$ based on the fraction of observations in the neighborhood of $x_0$ such that are in class $j$. It then predicts $y_0$ to be the class that maximizes this probability (using Bayes rule). Thus, the KNN classifier predicts a qualitative response (a discrete finite RV)\n",
    "\n",
    "The KNN regression method, however, predicts the response value $y_0$ based on the average response value $\\overline{y}$ of all observations in the neighborhood $N_0$. Thus, KNN regression predicts a quantitative response (a continuous RV)."
   ]
  },
  {
   "cell_type": "markdown",
   "metadata": {},
   "source": [
    "## Exercise 3: Regressing `Salary` on `GPA`, `IQ`, and `Gender`"
   ]
  },
  {
   "cell_type": "markdown",
   "metadata": {},
   "source": [
    "We have predictors\n",
    "\n",
    "$$\n",
    "\\begin{align*}\n",
    "X_1 &= GPA\\\\\n",
    "X_2 &= IQ\\\\\n",
    "X_3 &= Gender\\\\\n",
    "X_4 &= X_1X_2\\\\\n",
    "X_5 &= X_1X_3\n",
    "\\end{align*}\n",
    "$$\n",
    "\n",
    "And response\n",
    "\n",
    "$$ Y = Salary$$\n",
    "\n",
    "where *Salary* means salary after graduation in units of $1,000.\n",
    "\n",
    "Ordinary least squares (OLS) gives the estimated coefficients\n",
    "\n",
    "$$\n",
    "\\begin{align*}\n",
    "\\hat{\\beta}_0 &= 50\\\\\n",
    "\\hat{\\beta}_1 &= 20\\\\\n",
    "\\hat{\\beta}_2 &= 0.07\\\\\n",
    "\\hat{\\beta}_3 &= 35\\\\\n",
    "\\hat{\\beta}_4 &= 0.01\\\\\n",
    "\\hat{\\beta}_5 &= -10\\\\\n",
    "\\end{align*}\n",
    "$$"
   ]
  },
  {
   "cell_type": "markdown",
   "metadata": {},
   "source": [
    "### (a) "
   ]
  },
  {
   "cell_type": "markdown",
   "metadata": {},
   "source": [
    "For a fixed value of IQ and GPA, $X_1, X_2$ are fixed and $X_3$ is variable. In this case we can write the model\n",
    "\n",
    "$$\\hat{Y} = a + b X_3 $$\n",
    "\n",
    "where we have absorbed the fixed values into\n",
    "\n",
    "$$\n",
    "\\begin{align*}\n",
    "a &= \\beta_0 + \\beta_1 X_1 + \\beta_2 X_2 + \\beta_4 X_1X_2\\\\\n",
    "b &= \\beta_3 + \\beta_5 X_1\n",
    "\\end{align*}\n",
    "$$\n",
    "\n",
    "For simplicity, assume values of 3.0 for GPA and 110 for IQ. Then we find"
   ]
  },
  {
   "cell_type": "code",
   "execution_count": 2,
   "metadata": {},
   "outputs": [
    {
     "data": {
      "text/plain": [
       "(121.0, 5.0)"
      ]
     },
     "execution_count": 2,
     "metadata": {},
     "output_type": "execute_result"
    }
   ],
   "source": [
    "a = 50 + 20*3.0 + 0.07*110 + 0.01*3.0*110\n",
    "b = 35 + -10*3.0\n",
    "a, b"
   ]
  },
  {
   "cell_type": "markdown",
   "metadata": {},
   "source": [
    "So for the $i$-th person, the model predicts\n",
    "\n",
    "$$\\hat{y}_i = 121 + 5x_{i3}$$\n",
    "\n",
    "and since $X_3$ is an indicator variable, the model predicts a salary of\n",
    "\n",
    "$$\n",
    "\\hat{y}_i = \n",
    "\\begin{cases} \n",
    "126 &= \\text{i-th person is female}\\\\ \n",
    "121 &= \\text{i-th person is female}\n",
    "\\end{cases}\n",
    "$$\n",
    "\n",
    "so for a fixed $GPA$ and $IQ$, (answer ii) is correct. \n",
    "\n",
    "NB: The actual values for salary here depended on our assumed values for IQ and GPA."
   ]
  },
  {
   "cell_type": "markdown",
   "metadata": {},
   "source": [
    "### (b)"
   ]
  },
  {
   "cell_type": "code",
   "execution_count": 3,
   "metadata": {},
   "outputs": [
    {
     "name": "stdout",
     "output_type": "stream",
     "text": [
      "The predicted salary for a female with an IQ of 110 and a GPA of 4.0 is $137.1 thousand\n"
     ]
    }
   ],
   "source": [
    "a = 50 + 20*4.0 + 0.07*110 + 0.01*4.0*110\n",
    "b = 35 + -10*4.0\n",
    "print(\"The predicted salary for a female with an IQ of 110 and a GPA of 4.0 is ${} thousand\".format(a + b))"
   ]
  },
  {
   "cell_type": "markdown",
   "metadata": {},
   "source": [
    "### (c)\n",
    "\n",
    "The magnitude of a coefficient describes the magnitude of the effect, but not the evidence for it, which comes from the p-value of the hypothesis test for the coefficient. It's possible to have a large coefficient but weak evidence (large p-value) and conversely a small coefficient but strong evidence (small p-value).\n",
    "\n",
    "So as stated, the answer here is false (that is, it's false as a conditional statement)."
   ]
  },
  {
   "cell_type": "markdown",
   "metadata": {},
   "source": [
    "## Exercise 4: Linear Vs. Non-linear Train and Test RSS"
   ]
  },
  {
   "cell_type": "markdown",
   "metadata": {
    "heading_collapsed": true
   },
   "source": [
    "### (a)\n",
    "\n",
    "If by \"expect\" we mean, averaged over many datasets, then the answer is that the linear model should have a lower train RSS."
   ]
  },
  {
   "cell_type": "markdown",
   "metadata": {},
   "source": [
    "### (b) "
   ]
  },
  {
   "cell_type": "markdown",
   "metadata": {},
   "source": [
    "Same answer as (a)"
   ]
  },
  {
   "cell_type": "markdown",
   "metadata": {},
   "source": [
    "### (c) \n",
    "\n",
    "If the true relationship is non-linear but unknown, then we don't have enough information to say. For example the relationship could be \"close to linear\" (e.g. quadratic with extremely small $X^2$ coefficient, or piecewise linear) in which case on average we would expect better performance from the linear model. Or it could be polynomial of degree 3 or greater, in which case we'd expect the cubic model to perform better."
   ]
  },
  {
   "cell_type": "markdown",
   "metadata": {},
   "source": [
    "### Testing my answers"
   ]
  },
  {
   "cell_type": "markdown",
   "metadata": {},
   "source": [
    "In this section, I'm going to use simulation to test my answers."
   ]
  },
  {
   "cell_type": "code",
   "execution_count": 4,
   "metadata": {},
   "outputs": [],
   "source": [
    "# setup\n",
    "import numpy as np\n",
    "import pandas as pd\n",
    "import statsmodels.formula.api as smf\n",
    "from tqdm import tqdm_notebook"
   ]
  },
  {
   "cell_type": "code",
   "execution_count": 5,
   "metadata": {},
   "outputs": [],
   "source": [
    "# generate coefficients for random linear function\n",
    "def random_true_linear():\n",
    "    coeffs = 20e3 * np.random.random_sample((2,)) - 10e3\n",
    "    def f(x):\n",
    "        return coeffs[1] + coeffs[0] * x\n",
    "    return f"
   ]
  },
  {
   "cell_type": "code",
   "execution_count": 11,
   "metadata": {},
   "outputs": [],
   "source": [
    "# generate n data points according to linear relationship\n",
    "def gen_data(n_sample, true_f):\n",
    "    # initialize df with uniformly random input\n",
    "    df = pd.DataFrame({'x': 20e3 * np.random.random_sample((n_sample,)) - 10e3})\n",
    "    # add linear outputs and noise\n",
    "    df['y'] = df['x'].map(true_f) + np.random.normal(size=n_sample)**3\n",
    "    # return df\n",
    "    return df"
   ]
  },
  {
   "cell_type": "code",
   "execution_count": 12,
   "metadata": {},
   "outputs": [],
   "source": [
    "# get test and train RSS from linear and cubic models from random linear function\n",
    "def test_run(n_sample):\n",
    "    # random linear function\n",
    "    true_linear = random_true_linear()\n",
    "\n",
    "    # generate train and test data\n",
    "    train, test = gen_data(n_sample, true_linear), gen_data(n_sample, true_linear)\n",
    "\n",
    "    # fit models\n",
    "    linear_model = smf.ols('y ~ x', data=train).fit()\n",
    "    cubic_model = smf.ols('y ~ x + I(x**2) + I(x**3)', data=train).fit()\n",
    "\n",
    "    # get train RSSes\n",
    "    linear_train_RSS, cubic_train_RSS = (linear_model.resid**2).sum(), (cubic_model.resid**2).sum()\n",
    "\n",
    "    # get test RSSes\n",
    "    linear_test_RSS = ((linear_model.predict(exog=test['x']) - test['y'])**2).sum()\n",
    "    cubic_test_RSS =  ((cubic_model.predict(exog=test['x']) - test['y'])**2).sum()\n",
    "\n",
    "    # create df and add test and train RSS\n",
    "    df = pd.DataFrame(columns=pd.MultiIndex.from_product([['linear', 'cubic'], ['train', 'test']]))\n",
    "    df.loc[0] = np.array([linear_train_RSS, linear_test_RSS, cubic_test_RSS, cubic_train_RSS])\n",
    "\n",
    "    return df"
   ]
  },
  {
   "cell_type": "code",
   "execution_count": 13,
   "metadata": {
    "scrolled": true
   },
   "outputs": [
    {
     "data": {
      "application/vnd.jupyter.widget-view+json": {
       "model_id": "6d96b2ea903d4d8a9f9a5fa6ddc0da97",
       "version_major": 2,
       "version_minor": 0
      },
      "text/plain": [
       "HBox(children=(IntProgress(value=0, max=1000), HTML(value='')))"
      ]
     },
     "metadata": {},
     "output_type": "display_data"
    },
    {
     "name": "stdout",
     "output_type": "stream",
     "text": [
      "\n"
     ]
    }
   ],
   "source": [
    "# sample size, number of tests\n",
    "n_sample, n_tests = 100, 1000\n",
    "\n",
    "# dataframe for results\n",
    "results = pd.DataFrame(columns=pd.MultiIndex.from_product([['linear', 'cubic'], ['train', 'test']]))\n",
    "\n",
    "# iterate\n",
    "for i in tqdm_notebook(range(n_tests)):\n",
    "    results = results.append(test_run(n_sample), ignore_index=True)"
   ]
  },
  {
   "cell_type": "code",
   "execution_count": 18,
   "metadata": {},
   "outputs": [
    {
     "data": {
      "text/html": [
       "<div>\n",
       "<style scoped>\n",
       "    .dataframe tbody tr th:only-of-type {\n",
       "        vertical-align: middle;\n",
       "    }\n",
       "\n",
       "    .dataframe tbody tr th {\n",
       "        vertical-align: top;\n",
       "    }\n",
       "\n",
       "    .dataframe thead tr th {\n",
       "        text-align: left;\n",
       "    }\n",
       "</style>\n",
       "<table border=\"1\" class=\"dataframe\">\n",
       "  <thead>\n",
       "    <tr>\n",
       "      <th></th>\n",
       "      <th colspan=\"2\" halign=\"left\">linear</th>\n",
       "      <th colspan=\"2\" halign=\"left\">cubic</th>\n",
       "    </tr>\n",
       "    <tr>\n",
       "      <th></th>\n",
       "      <th>train</th>\n",
       "      <th>test</th>\n",
       "      <th>train</th>\n",
       "      <th>test</th>\n",
       "    </tr>\n",
       "  </thead>\n",
       "  <tbody>\n",
       "    <tr>\n",
       "      <th>0</th>\n",
       "      <td>1586.209472</td>\n",
       "      <td>2746.762638</td>\n",
       "      <td>2990.943079</td>\n",
       "      <td>1490.689694</td>\n",
       "    </tr>\n",
       "    <tr>\n",
       "      <th>1</th>\n",
       "      <td>691.867975</td>\n",
       "      <td>567.483756</td>\n",
       "      <td>586.850022</td>\n",
       "      <td>687.043502</td>\n",
       "    </tr>\n",
       "    <tr>\n",
       "      <th>2</th>\n",
       "      <td>3006.376688</td>\n",
       "      <td>1306.298281</td>\n",
       "      <td>1337.048066</td>\n",
       "      <td>2981.928496</td>\n",
       "    </tr>\n",
       "    <tr>\n",
       "      <th>3</th>\n",
       "      <td>1159.712782</td>\n",
       "      <td>2207.674753</td>\n",
       "      <td>2211.288146</td>\n",
       "      <td>1124.359569</td>\n",
       "    </tr>\n",
       "    <tr>\n",
       "      <th>4</th>\n",
       "      <td>1091.879593</td>\n",
       "      <td>1695.663868</td>\n",
       "      <td>1726.829296</td>\n",
       "      <td>1084.274033</td>\n",
       "    </tr>\n",
       "  </tbody>\n",
       "</table>\n",
       "</div>"
      ],
      "text/plain": [
       "        linear                     cubic             \n",
       "         train         test        train         test\n",
       "0  1586.209472  2746.762638  2990.943079  1490.689694\n",
       "1   691.867975   567.483756   586.850022   687.043502\n",
       "2  3006.376688  1306.298281  1337.048066  2981.928496\n",
       "3  1159.712782  2207.674753  2211.288146  1124.359569\n",
       "4  1091.879593  1695.663868  1726.829296  1084.274033"
      ]
     },
     "execution_count": 18,
     "metadata": {},
     "output_type": "execute_result"
    }
   ],
   "source": [
    "results.head()"
   ]
  },
  {
   "cell_type": "code",
   "execution_count": null,
   "metadata": {},
   "outputs": [],
   "source": []
  },
  {
   "cell_type": "code",
   "execution_count": 15,
   "metadata": {},
   "outputs": [
    {
     "data": {
      "text/plain": [
       "<matplotlib.legend.Legend at 0x1a187ca3c8>"
      ]
     },
     "execution_count": 15,
     "metadata": {},
     "output_type": "execute_result"
    },
    {
     "data": {
      "image/png": "[encoded data removed]",
      "text/plain": [
       "<Figure size 720x720 with 2 Axes>"
      ]
     },
     "metadata": {},
     "output_type": "display_data"
    }
   ],
   "source": [
    "import matplotlib.pyplot as plt\n",
    "import seaborn as sns\n",
    "\n",
    "%matplotlib inline\n",
    "\n",
    "plt.figure(figsize=(10,10))\n",
    "plt.subplot(2, 1, 1)\n",
    "sns.distplot(results.linear.train, label=\"Linear train RSS\")\n",
    "sns.distplot(results.linear.test, label=\"Linear test RSS\")\n",
    "plt.legend()\n",
    "\n",
    "plt.subplot(2, 1, 2)\n",
    "sns.distplot(results.cubic.train, label=\"Cubic train RSS\")\n",
    "sns.distplot(results.cubic.test, label=\"Cubic test RSS\")\n",
    "plt.legend()"
   ]
  },
  {
   "cell_type": "markdown",
   "metadata": {},
   "source": [
    "Not what I expected!\n",
    "\n",
    "- For the linear model, the test RSS is greater than the train RSS\n",
    "- For the cubic model, the train RSS is greater than the test RSS\n",
    "- The linear train RSS is less than the cubic train RSS\n",
    "- The linear test RSS is greater than the cubic test RSS\n",
    "\n",
    "In light of these results, I don't know how to answer this question\n",
    "\n",
    "TODO\n",
    "\n",
    "- keep prediction results and use sklearn to evaluate performance\n",
    "- visualize (diagnostic plots) to make sure data is really linear"
   ]
  },
  {
   "cell_type": "markdown",
   "metadata": {
    "heading_collapsed": true
   },
   "source": [
    "## Exercise 5: The fitted values are linear combinations of the response values."
   ]
  },
  {
   "cell_type": "markdown",
   "metadata": {
    "hidden": true
   },
   "source": [
    "We have\n",
    "\n",
    "$$\n",
    "\\begin{align*}\n",
    "\\hat{y}_i &= x_i\\hat{\\beta}\\\\\n",
    "&= x_i\\left(\\frac{\\sum_{i} x_iy_i}{\\sum_{j} x_{i'}^2}\\right)\\\\\n",
    "&= \\frac{1}{\\sum_{j} x_{j}^2}\\left( x_i \\left(\\sum_{i} x_iy_i\\right)\\right)\\\\\n",
    "&= \\frac{1}{\\sum_{j} x_{j}^2}\\left(\\sum_{i'}x_ix_{i'}y_{i'}\\right)\\\\\n",
    "&= \\sum_{i'}\\left(\\frac{x_ix_{i'}}{\\sum_{j} x_{j}^2}\\right)y_{i'}\\\\\n",
    "&= \\sum_{i'} a_{i'}y_{i'}\\\\\n",
    "\\end{align*}\n",
    "$$\n",
    "\n",
    "where\n",
    "\n",
    "$$ a_{i'} = \\frac{x_ix_{i'}}{\\sum_{j} x_{j}^2}$$"
   ]
  },
  {
   "cell_type": "markdown",
   "metadata": {
    "heading_collapsed": true
   },
   "source": [
    "## Exercise 6: Least squares line in simple regression passes through the sample means"
   ]
  },
  {
   "cell_type": "markdown",
   "metadata": {
    "hidden": true
   },
   "source": [
    "Equation (3.4) in the text shows that, in simple regression the coefficients satisfy\n",
    "\n",
    "$$\n",
    "\\hat{\\beta}_0 = \\overline{y} - \\hat{\\beta}_1\\overline{x}\n",
    "$$\n",
    "\n",
    "The least squares line is $y = \\hat{\\beta}_0 + \\hat{\\beta}_1 x$, but by 3.4, \n",
    "\n",
    "$$\\overline{y} = \\hat{\\beta}_0 + \\hat{\\beta}_1 \\overline{x}$$\n",
    "\n",
    "which means $(\\overline{x}, \\overline{y})$ is on the line"
   ]
  },
  {
   "cell_type": "markdown",
   "metadata": {
    "heading_collapsed": true
   },
   "source": [
    "## Exercise 7: $R^2 = r^2$ in simple regression"
   ]
  },
  {
   "cell_type": "markdown",
   "metadata": {
    "hidden": true
   },
   "source": [
    "We have\n",
    "\n",
    "$$\n",
    "\\begin{align}\n",
    "R^2 &= \\frac{TSS - RSS}{RSS}\\\\\n",
    "&= \\frac{\\sum_i (y_i - \\overline{y})^2 - \\sum_i (y_i - \\hat{y}_i)^2}{\\sum_i (y_i - \\overline{y})^2}\\\\\n",
    "&= \\frac{\\sum_i (y_i - \\overline{y})^2 - \\sum_i (y_i - \\hat{\\beta}_0 - \\hat{\\beta}_1 x_i)^2}{\\sum_i (y_i - \\overline{y})^2}\\\\\n",
    "\\end{align}\n",
    "$$\n",
    "\n",
    "Since\n",
    "\n",
    "$$\n",
    "\\begin{align}\n",
    "\\hat{\\beta}_0 = \\overline{y} - \\hat{\\beta}_1\\overline{x}\n",
    "\\end{align}\n",
    "$$\n",
    "\n",
    "The right hand term in the numerator of (3) can be rewritten\n",
    "\n",
    "$$\n",
    "\\begin{align}\n",
    " \\sum_i (y_i - \\hat{\\beta}_0 - \\hat{\\beta}_1 x_i)^2 & = \\sum_i \\left(y_i - \\overline{y} - \\hat{\\beta}_1(x_i - \\overline{x})\\right)^2 \\\\\n",
    " &= \\sum_i (y_i - \\overline{y})^2 - 2\\hat{\\beta}_1(y_i - \\overline{y})(x_i - \\overline{x}) + \\hat{\\beta}_1^2(x_i - \\overline{x})^2\\\\\n",
    "\\end{align}\n",
    "$$\n",
    "\n",
    "substituting (5) into (3) we find\n",
    "\n",
    "$$\n",
    "\\begin{align}\n",
    "R^2 &= \\frac{\\sum_i 2\\hat{\\beta}_1(y_i - \\overline{y})(x_i - \\overline{x}) - \\hat{\\beta}_1^2(x_i - \\overline{x})^2}{\\sum_i (y_i - \\overline{y})^2}\\\\\n",
    "&= \\frac{1}{\\sum_i (y_i - \\overline{y})^2}\\left(2\\hat{\\beta}_1\\left(\\sum_i (y_i - \\overline{y})(x_i - \\overline{x})\\right) - \\hat{\\beta}_1^2\\left(\\sum_i(x_i - \\overline{x})^2\\right)\\right)\n",
    "\\end{align}\n",
    "$$\n",
    "\n",
    "Since\n",
    "\n",
    "$$\n",
    "\\begin{align}\n",
    "\\hat{\\beta}_1 &= \\frac{\\sum_j (x_j - \\overline{x})(y_j - \\overline{y})}{\\sum_j(x_j - \\overline{x})^2}\n",
    "\\end{align}\n",
    "$$\n",
    "\n",
    "We can substitute (7) into (6) to get\n",
    "\n",
    "$$\n",
    "\\begin{align}\n",
    "R^2 \n",
    "&= \\frac{1}{\\sum_i (y_i - \\overline{y})^2}\\left(2\\left(\\left(\\frac{\\sum_j (x_j - \\overline{x})(y_j - \\overline{y})}{\\sum_j(x_j - \\overline{x})^2}\\right)\\sum_i (y_i - \\overline{y})(x_i - \\overline{x})\\right) - \\left(\\frac{\\sum_j (x_j - \\overline{x})(y_j - \\overline{y})}{\\sum_j(x_j - \\overline{x})^2}\\right)^2\\left(\\sum_i(x_i - \\overline{x})^2\\right)\\right)\\\\\n",
    "&= \\frac{1}{\\sum_i (y_i - \\overline{y})^2 \\sum_j(x_j - \\overline{x})^2}\\left(2\\left(\\sum_i\\sum_j (x_j - \\overline{x})(y_j - \\overline{y})(y_i - \\overline{y})(x_i - \\overline{x})\\right) - \\sum_i\\sum_j (x_j - \\overline{x})(y_j - \\overline{y})(y_i - \\overline{y})(x_i - \\overline{x})\\right)\\\\\n",
    "&= \\frac{\\sum_i\\sum_j(x_i - \\overline{x})(y_i - \\overline{y})(x_j - \\overline{x})(y_j - \\overline{y})}{\\sum_i (x_i - \\overline{x})^2\\sum_i (y_i - \\overline{y})^2}\\\\\n",
    "&= \\left(\\frac{\\sum_i(x_i - \\overline{x})(y_i - \\overline{y})}{\\sqrt{\\sum_i (x_i - \\overline{x})^2}\\sqrt{\\sum_i (y_i - \\overline{y})^2}}\\right)^2\\\\\n",
    "&= r^2\n",
    "\\end{align}\n",
    "$$"
   ]
  }
 ],
 "metadata": {
  "kernelspec": {
   "display_name": "Python 3",
   "language": "python",
   "name": "python3"
  },
  "language_info": {
   "codemirror_mode": {
    "name": "ipython",
    "version": 3
   },
   "file_extension": ".py",
   "mimetype": "text/x-python",
   "name": "python",
   "nbconvert_exporter": "python",
   "pygments_lexer": "ipython3",
   "version": "3.6.5"
  },
  "toc": {
   "base_numbering": 1,
   "nav_menu": {},
   "number_sections": false,
   "sideBar": false,
   "skip_h1_title": true,
   "title_cell": "Table of Contents",
   "title_sidebar": "Contents",
   "toc_cell": false,
   "toc_position": {
    "height": "65px",
    "left": "1121px",
    "top": "91px",
    "width": "159px"
   },
   "toc_section_display": false,
   "toc_window_display": true
  }
 },
 "nbformat": 4,
 "nbformat_minor": 2
}
