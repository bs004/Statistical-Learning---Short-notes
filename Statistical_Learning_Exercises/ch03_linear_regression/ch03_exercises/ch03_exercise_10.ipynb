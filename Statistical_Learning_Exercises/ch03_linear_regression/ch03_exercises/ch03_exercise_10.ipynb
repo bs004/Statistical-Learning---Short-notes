{
 "cells": [
  {
   "cell_type": "markdown",
   "metadata": {},
   "source": [
    "# Multiple regression of `Sales` on `Price`, `Urban`, and `US ` features in `Carseats` dataset"
   ]
  },
  {
   "cell_type": "markdown",
   "metadata": {},
   "source": [
    "## Preparing the dataset"
   ]
  },
  {
   "cell_type": "markdown",
   "metadata": {},
   "source": [
    "The `Carseats` dataset is part of the `ISLR` R package. We'll use [`rpy2` to import `ISLR` into python](https://rpy2.readthedocs.io/en/version_2.8.x/introduction.html)"
   ]
  },
  {
   "cell_type": "code",
   "execution_count": 1,
   "metadata": {},
   "outputs": [],
   "source": [
    "import numpy as np\n",
    "import pandas as pd\n",
    "\n",
    "carseats = pd.read_csv('../../datasets/Carseats.csv')"
   ]
  },
  {
   "cell_type": "markdown",
   "metadata": {},
   "source": [
    "We'll check for null entries"
   ]
  },
  {
   "cell_type": "code",
   "execution_count": 2,
   "metadata": {},
   "outputs": [
    {
     "data": {
      "text/plain": [
       "0"
      ]
     },
     "execution_count": 2,
     "metadata": {},
     "output_type": "execute_result"
    }
   ],
   "source": [
    "carseats.isna().sum().sum()"
   ]
  },
  {
   "cell_type": "markdown",
   "metadata": {},
   "source": [
    "## (a) Fitting the model"
   ]
  },
  {
   "cell_type": "markdown",
   "metadata": {},
   "source": [
    "Both `Urban` and `US` are binary class variables, so we can represent both by indicator variables (see [section 3.3.1](../../Notes.ipynb#qualpred)).\n",
    "\n",
    "To encode the qualitative variables `Urban` and `US`, we'll use a `LabelEncoder` from `sklearn`"
   ]
  },
  {
   "cell_type": "code",
   "execution_count": 3,
   "metadata": {},
   "outputs": [
    {
     "data": {
      "text/plain": [
       "LabelEncoder()"
      ]
     },
     "execution_count": 3,
     "metadata": {},
     "output_type": "execute_result"
    }
   ],
   "source": [
    "from sklearn.preprocessing import LabelEncoder\n",
    "\n",
    "# instantiate and encode labels\n",
    "urban_le, us_le = LabelEncoder(), LabelEncoder()\n",
    "urban_le.fit(carseats.Urban.unique())\n",
    "us_le.fit(carseats.US.unique())"
   ]
  },
  {
   "cell_type": "code",
   "execution_count": 4,
   "metadata": {},
   "outputs": [
    {
     "data": {
      "text/plain": [
       "array(['No', 'Yes'], dtype=object)"
      ]
     },
     "execution_count": 4,
     "metadata": {},
     "output_type": "execute_result"
    }
   ],
   "source": [
    "urban_le.classes_"
   ]
  },
  {
   "cell_type": "markdown",
   "metadata": {},
   "source": [
    "Now we'll create a dataframe with the qualitative variables numerically encoded"
   ]
  },
  {
   "cell_type": "code",
   "execution_count": 5,
   "metadata": {},
   "outputs": [
    {
     "data": {
      "text/html": [
       "<div>\n",
       "<style scoped>\n",
       "    .dataframe tbody tr th:only-of-type {\n",
       "        vertical-align: middle;\n",
       "    }\n",
       "\n",
       "    .dataframe tbody tr th {\n",
       "        vertical-align: top;\n",
       "    }\n",
       "\n",
       "    .dataframe thead th {\n",
       "        text-align: right;\n",
       "    }\n",
       "</style>\n",
       "<table border=\"1\" class=\"dataframe\">\n",
       "  <thead>\n",
       "    <tr style=\"text-align: right;\">\n",
       "      <th></th>\n",
       "      <th>Urban</th>\n",
       "      <th>US</th>\n",
       "    </tr>\n",
       "  </thead>\n",
       "  <tbody>\n",
       "    <tr>\n",
       "      <th>0</th>\n",
       "      <td>1</td>\n",
       "      <td>1</td>\n",
       "    </tr>\n",
       "    <tr>\n",
       "      <th>1</th>\n",
       "      <td>1</td>\n",
       "      <td>1</td>\n",
       "    </tr>\n",
       "    <tr>\n",
       "      <th>2</th>\n",
       "      <td>1</td>\n",
       "      <td>1</td>\n",
       "    </tr>\n",
       "    <tr>\n",
       "      <th>3</th>\n",
       "      <td>1</td>\n",
       "      <td>1</td>\n",
       "    </tr>\n",
       "    <tr>\n",
       "      <th>4</th>\n",
       "      <td>1</td>\n",
       "      <td>0</td>\n",
       "    </tr>\n",
       "  </tbody>\n",
       "</table>\n",
       "</div>"
      ],
      "text/plain": [
       "   Urban  US\n",
       "0      1   1\n",
       "1      1   1\n",
       "2      1   1\n",
       "3      1   1\n",
       "4      1   0"
      ]
     },
     "execution_count": 5,
     "metadata": {},
     "output_type": "execute_result"
    }
   ],
   "source": [
    "# copy\n",
    "carseats_enc = carseats.copy()\n",
    "\n",
    "# transform columns\n",
    "carseats_enc.loc[ :, 'Urban'] = urban_le.transform(carseats['Urban'])\n",
    "carseats_enc.loc[ :, 'US'] = us_le.transform(carseats['US'])\n",
    "\n",
    "carseats_enc[['Urban', 'US']].head()"
   ]
  },
  {
   "cell_type": "markdown",
   "metadata": {},
   "source": [
    "Now we can fit the model"
   ]
  },
  {
   "cell_type": "code",
   "execution_count": 6,
   "metadata": {},
   "outputs": [
    {
     "data": {
      "text/html": [
       "<table class=\"simpletable\">\n",
       "<caption>OLS Regression Results</caption>\n",
       "<tr>\n",
       "  <th>Dep. Variable:</th>          <td>Sales</td>      <th>  R-squared:         </th> <td>   0.239</td>\n",
       "</tr>\n",
       "<tr>\n",
       "  <th>Model:</th>                   <td>OLS</td>       <th>  Adj. R-squared:    </th> <td>   0.234</td>\n",
       "</tr>\n",
       "<tr>\n",
       "  <th>Method:</th>             <td>Least Squares</td>  <th>  F-statistic:       </th> <td>   41.52</td>\n",
       "</tr>\n",
       "<tr>\n",
       "  <th>Date:</th>             <td>Sun, 11 Nov 2018</td> <th>  Prob (F-statistic):</th> <td>2.39e-23</td>\n",
       "</tr>\n",
       "<tr>\n",
       "  <th>Time:</th>                 <td>15:41:28</td>     <th>  Log-Likelihood:    </th> <td> -927.66</td>\n",
       "</tr>\n",
       "<tr>\n",
       "  <th>No. Observations:</th>      <td>   400</td>      <th>  AIC:               </th> <td>   1863.</td>\n",
       "</tr>\n",
       "<tr>\n",
       "  <th>Df Residuals:</th>          <td>   396</td>      <th>  BIC:               </th> <td>   1879.</td>\n",
       "</tr>\n",
       "<tr>\n",
       "  <th>Df Model:</th>              <td>     3</td>      <th>                     </th>     <td> </td>   \n",
       "</tr>\n",
       "<tr>\n",
       "  <th>Covariance Type:</th>      <td>nonrobust</td>    <th>                     </th>     <td> </td>   \n",
       "</tr>\n",
       "</table>\n",
       "<table class=\"simpletable\">\n",
       "<tr>\n",
       "      <td></td>         <th>coef</th>     <th>std err</th>      <th>t</th>      <th>P>|t|</th>  <th>[0.025</th>    <th>0.975]</th>  \n",
       "</tr>\n",
       "<tr>\n",
       "  <th>Intercept</th> <td>   13.0435</td> <td>    0.651</td> <td>   20.036</td> <td> 0.000</td> <td>   11.764</td> <td>   14.323</td>\n",
       "</tr>\n",
       "<tr>\n",
       "  <th>Urban</th>     <td>   -0.0219</td> <td>    0.272</td> <td>   -0.081</td> <td> 0.936</td> <td>   -0.556</td> <td>    0.512</td>\n",
       "</tr>\n",
       "<tr>\n",
       "  <th>US</th>        <td>    1.2006</td> <td>    0.259</td> <td>    4.635</td> <td> 0.000</td> <td>    0.691</td> <td>    1.710</td>\n",
       "</tr>\n",
       "<tr>\n",
       "  <th>Price</th>     <td>   -0.0545</td> <td>    0.005</td> <td>  -10.389</td> <td> 0.000</td> <td>   -0.065</td> <td>   -0.044</td>\n",
       "</tr>\n",
       "</table>\n",
       "<table class=\"simpletable\">\n",
       "<tr>\n",
       "  <th>Omnibus:</th>       <td> 0.676</td> <th>  Durbin-Watson:     </th> <td>   1.912</td>\n",
       "</tr>\n",
       "<tr>\n",
       "  <th>Prob(Omnibus):</th> <td> 0.713</td> <th>  Jarque-Bera (JB):  </th> <td>   0.758</td>\n",
       "</tr>\n",
       "<tr>\n",
       "  <th>Skew:</th>          <td> 0.093</td> <th>  Prob(JB):          </th> <td>   0.684</td>\n",
       "</tr>\n",
       "<tr>\n",
       "  <th>Kurtosis:</th>      <td> 2.897</td> <th>  Cond. No.          </th> <td>    628.</td>\n",
       "</tr>\n",
       "</table><br/><br/>Warnings:<br/>[1] Standard Errors assume that the covariance matrix of the errors is correctly specified."
      ],
      "text/plain": [
       "<class 'statsmodels.iolib.summary.Summary'>\n",
       "\"\"\"\n",
       "                            OLS Regression Results                            \n",
       "==============================================================================\n",
       "Dep. Variable:                  Sales   R-squared:                       0.239\n",
       "Model:                            OLS   Adj. R-squared:                  0.234\n",
       "Method:                 Least Squares   F-statistic:                     41.52\n",
       "Date:                Sun, 11 Nov 2018   Prob (F-statistic):           2.39e-23\n",
       "Time:                        15:41:28   Log-Likelihood:                -927.66\n",
       "No. Observations:                 400   AIC:                             1863.\n",
       "Df Residuals:                     396   BIC:                             1879.\n",
       "Df Model:                           3                                         \n",
       "Covariance Type:            nonrobust                                         \n",
       "==============================================================================\n",
       "                 coef    std err          t      P>|t|      [0.025      0.975]\n",
       "------------------------------------------------------------------------------\n",
       "Intercept     13.0435      0.651     20.036      0.000      11.764      14.323\n",
       "Urban         -0.0219      0.272     -0.081      0.936      -0.556       0.512\n",
       "US             1.2006      0.259      4.635      0.000       0.691       1.710\n",
       "Price         -0.0545      0.005    -10.389      0.000      -0.065      -0.044\n",
       "==============================================================================\n",
       "Omnibus:                        0.676   Durbin-Watson:                   1.912\n",
       "Prob(Omnibus):                  0.713   Jarque-Bera (JB):                0.758\n",
       "Skew:                           0.093   Prob(JB):                        0.684\n",
       "Kurtosis:                       2.897   Cond. No.                         628.\n",
       "==============================================================================\n",
       "\n",
       "Warnings:\n",
       "[1] Standard Errors assume that the covariance matrix of the errors is correctly specified.\n",
       "\"\"\""
      ]
     },
     "execution_count": 6,
     "metadata": {},
     "output_type": "execute_result"
    }
   ],
   "source": [
    "import statsmodels.formula.api as smf\n",
    "\n",
    "model = smf.ols('Sales ~ Urban + US + Price', data=carseats_enc).fit()\n",
    "model.summary()"
   ]
  },
  {
   "cell_type": "markdown",
   "metadata": {},
   "source": [
    "## (b) Interpreting the coefficients"
   ]
  },
  {
   "cell_type": "code",
   "execution_count": 7,
   "metadata": {},
   "outputs": [
    {
     "data": {
      "text/plain": [
       "Intercept    13.043469\n",
       "Urban        -0.021916\n",
       "US            1.200573\n",
       "Price        -0.054459\n",
       "dtype: float64"
      ]
     },
     "execution_count": 7,
     "metadata": {},
     "output_type": "execute_result"
    }
   ],
   "source": [
    "model.params"
   ]
  },
  {
   "cell_type": "markdown",
   "metadata": {},
   "source": [
    "`Carseats` has carseat sales data for 400 stores <sup><a href='#foot0' id='ref0'>0</a></sup>\n",
    "\n",
    "can interpret these coefficients as follows\n",
    "\n",
    "1. The intercept $\\hat{\\beta}_0 = 13.04$ is the (estimated/predicted) average sales for carseats sold for free (`Price=0`) outside the US (`US='No'`) and outside a city (`Urban='No'`). \n",
    "\n",
    "2. $\\hat{\\beta}_0 + \\hat{\\beta}_1 = 13.02$ is the estimated average sales for carseats sold in cities outside the US\n",
    "\n",
    "3. $\\hat{\\beta}_0 + \\hat{\\beta}_2 = 14.24$ is the estimated average sales for carseats sold outside cities in the US\n",
    "\n",
    "4. $\\hat{\\beta}_0 + \\hat{\\beta}_1 + \\hat{\\beta}_2 = 14.22$ is the estimated average sales for carseats sold in cities in the US\n",
    "\n",
    "5. $\\hat{\\beta}_3 = -0.05$ so a $1 increase in price is estimated to decrease sales by "
   ]
  },
  {
   "cell_type": "markdown",
   "metadata": {},
   "source": [
    "## (c) The formal model"
   ]
  },
  {
   "cell_type": "markdown",
   "metadata": {},
   "source": [
    "Here we write the model in equation form. Let $X_1$ be `Urban`, $X_2$ be `US`, $X_3$ be `Price`. Then the model is\n",
    "\n",
    "$$\n",
    "Y = \\beta_0 + \\beta_1 X_1 + \\beta_2 X_2 + \\beta_3 X_3\n",
    "$$\n",
    "\n",
    "For the $i$-th observation, we have\n",
    "$$ \n",
    "\\begin{align*}\n",
    "y_i &= \\beta_0 + \\beta_1 x_{i1} + \\beta_2 x_{i2} + \\beta_3 x_{i3}\\\\\n",
    "&= \\begin{cases} \\beta_0 + \\beta_3 x_{i3} & \\text{i-th carseat was sold outside a city, and outside the US}\\\\\n",
    "\\beta_0 + \\beta_1 + \\beta_3 x_{i3} & \\text{i-th carseat was sold in a city outside the US}\\\\\n",
    "\\beta_0 + \\beta_2 + \\beta_3 x_{i3} & \\text{i-th carseat was sold outside a city in the US}\\\\\n",
    "\\beta_0 + \\beta_1 + \\beta_2 + \\beta_3 x_{i3} & \\text{i-th carseat was sold in a US city}\\\\\n",
    "\\end{cases}\n",
    "\\end{align*}\n",
    "$$"
   ]
  },
  {
   "cell_type": "markdown",
   "metadata": {},
   "source": [
    "## (d) Significant Variables"
   ]
  },
  {
   "cell_type": "code",
   "execution_count": 8,
   "metadata": {},
   "outputs": [
    {
     "data": {
      "text/plain": [
       "Intercept    3.626602e-62\n",
       "US           4.860245e-06\n",
       "Price        1.609917e-22\n",
       "dtype: float64"
      ]
     },
     "execution_count": 8,
     "metadata": {},
     "output_type": "execute_result"
    }
   ],
   "source": [
    "is_stat_sig = model.pvalues < 0.05\n",
    "model.pvalues[is_stat_sig]"
   ]
  },
  {
   "cell_type": "markdown",
   "metadata": {},
   "source": [
    "So we reject the null hypothesis $H_0: \\beta_i = 0$ for $i=2, 3$, that is for the variables `US` and `price`."
   ]
  },
  {
   "cell_type": "code",
   "execution_count": 9,
   "metadata": {},
   "outputs": [
    {
     "data": {
      "text/plain": [
       "Urban    0.935739\n",
       "dtype: float64"
      ]
     },
     "execution_count": 9,
     "metadata": {},
     "output_type": "execute_result"
    }
   ],
   "source": [
    "model.pvalues[~ is_stat_sig]"
   ]
  },
  {
   "cell_type": "markdown",
   "metadata": {},
   "source": [
    " We fail to reject the null hypothesis for $i=1$, that is for the variables `Urban`"
   ]
  },
  {
   "cell_type": "markdown",
   "metadata": {},
   "source": [
    "## (e) Fitting a second model with `price`, `US` features"
   ]
  },
  {
   "cell_type": "markdown",
   "metadata": {},
   "source": [
    "On the basis of (d), we fit a new model with only the `price` and `US` variables"
   ]
  },
  {
   "cell_type": "code",
   "execution_count": 10,
   "metadata": {},
   "outputs": [
    {
     "data": {
      "text/html": [
       "<table class=\"simpletable\">\n",
       "<caption>OLS Regression Results</caption>\n",
       "<tr>\n",
       "  <th>Dep. Variable:</th>          <td>Sales</td>      <th>  R-squared:         </th> <td>   0.239</td>\n",
       "</tr>\n",
       "<tr>\n",
       "  <th>Model:</th>                   <td>OLS</td>       <th>  Adj. R-squared:    </th> <td>   0.235</td>\n",
       "</tr>\n",
       "<tr>\n",
       "  <th>Method:</th>             <td>Least Squares</td>  <th>  F-statistic:       </th> <td>   62.43</td>\n",
       "</tr>\n",
       "<tr>\n",
       "  <th>Date:</th>             <td>Sun, 11 Nov 2018</td> <th>  Prob (F-statistic):</th> <td>2.66e-24</td>\n",
       "</tr>\n",
       "<tr>\n",
       "  <th>Time:</th>                 <td>15:41:28</td>     <th>  Log-Likelihood:    </th> <td> -927.66</td>\n",
       "</tr>\n",
       "<tr>\n",
       "  <th>No. Observations:</th>      <td>   400</td>      <th>  AIC:               </th> <td>   1861.</td>\n",
       "</tr>\n",
       "<tr>\n",
       "  <th>Df Residuals:</th>          <td>   397</td>      <th>  BIC:               </th> <td>   1873.</td>\n",
       "</tr>\n",
       "<tr>\n",
       "  <th>Df Model:</th>              <td>     2</td>      <th>                     </th>     <td> </td>   \n",
       "</tr>\n",
       "<tr>\n",
       "  <th>Covariance Type:</th>      <td>nonrobust</td>    <th>                     </th>     <td> </td>   \n",
       "</tr>\n",
       "</table>\n",
       "<table class=\"simpletable\">\n",
       "<tr>\n",
       "      <td></td>         <th>coef</th>     <th>std err</th>      <th>t</th>      <th>P>|t|</th>  <th>[0.025</th>    <th>0.975]</th>  \n",
       "</tr>\n",
       "<tr>\n",
       "  <th>Intercept</th> <td>   13.0308</td> <td>    0.631</td> <td>   20.652</td> <td> 0.000</td> <td>   11.790</td> <td>   14.271</td>\n",
       "</tr>\n",
       "<tr>\n",
       "  <th>US</th>        <td>    1.1996</td> <td>    0.258</td> <td>    4.641</td> <td> 0.000</td> <td>    0.692</td> <td>    1.708</td>\n",
       "</tr>\n",
       "<tr>\n",
       "  <th>Price</th>     <td>   -0.0545</td> <td>    0.005</td> <td>  -10.416</td> <td> 0.000</td> <td>   -0.065</td> <td>   -0.044</td>\n",
       "</tr>\n",
       "</table>\n",
       "<table class=\"simpletable\">\n",
       "<tr>\n",
       "  <th>Omnibus:</th>       <td> 0.666</td> <th>  Durbin-Watson:     </th> <td>   1.912</td>\n",
       "</tr>\n",
       "<tr>\n",
       "  <th>Prob(Omnibus):</th> <td> 0.717</td> <th>  Jarque-Bera (JB):  </th> <td>   0.749</td>\n",
       "</tr>\n",
       "<tr>\n",
       "  <th>Skew:</th>          <td> 0.092</td> <th>  Prob(JB):          </th> <td>   0.688</td>\n",
       "</tr>\n",
       "<tr>\n",
       "  <th>Kurtosis:</th>      <td> 2.895</td> <th>  Cond. No.          </th> <td>    607.</td>\n",
       "</tr>\n",
       "</table><br/><br/>Warnings:<br/>[1] Standard Errors assume that the covariance matrix of the errors is correctly specified."
      ],
      "text/plain": [
       "<class 'statsmodels.iolib.summary.Summary'>\n",
       "\"\"\"\n",
       "                            OLS Regression Results                            \n",
       "==============================================================================\n",
       "Dep. Variable:                  Sales   R-squared:                       0.239\n",
       "Model:                            OLS   Adj. R-squared:                  0.235\n",
       "Method:                 Least Squares   F-statistic:                     62.43\n",
       "Date:                Sun, 11 Nov 2018   Prob (F-statistic):           2.66e-24\n",
       "Time:                        15:41:28   Log-Likelihood:                -927.66\n",
       "No. Observations:                 400   AIC:                             1861.\n",
       "Df Residuals:                     397   BIC:                             1873.\n",
       "Df Model:                           2                                         \n",
       "Covariance Type:            nonrobust                                         \n",
       "==============================================================================\n",
       "                 coef    std err          t      P>|t|      [0.025      0.975]\n",
       "------------------------------------------------------------------------------\n",
       "Intercept     13.0308      0.631     20.652      0.000      11.790      14.271\n",
       "US             1.1996      0.258      4.641      0.000       0.692       1.708\n",
       "Price         -0.0545      0.005    -10.416      0.000      -0.065      -0.044\n",
       "==============================================================================\n",
       "Omnibus:                        0.666   Durbin-Watson:                   1.912\n",
       "Prob(Omnibus):                  0.717   Jarque-Bera (JB):                0.749\n",
       "Skew:                           0.092   Prob(JB):                        0.688\n",
       "Kurtosis:                       2.895   Cond. No.                         607.\n",
       "==============================================================================\n",
       "\n",
       "Warnings:\n",
       "[1] Standard Errors assume that the covariance matrix of the errors is correctly specified.\n",
       "\"\"\""
      ]
     },
     "execution_count": 10,
     "metadata": {},
     "output_type": "execute_result"
    }
   ],
   "source": [
    "model_2 = smf.ols('Sales ~ US + Price', data=carseats_enc).fit()\n",
    "model_2.summary()"
   ]
  },
  {
   "cell_type": "markdown",
   "metadata": {},
   "source": [
    "## (f) Goodness-of-fit for the two models"
   ]
  },
  {
   "cell_type": "markdown",
   "metadata": {},
   "source": [
    "One way of determining how well the models fit the data is the $R^2$ values"
   ]
  },
  {
   "cell_type": "code",
   "execution_count": 11,
   "metadata": {},
   "outputs": [
    {
     "name": "stdout",
     "output_type": "stream",
     "text": [
      "The first model has R^2 = 0.239\n",
      "The second model has R^2 = 0.239\n"
     ]
    }
   ],
   "source": [
    "print(\"The first model has R^2 = {}\".format(round(model.rsquared, 3)))\n",
    "print(\"The second model has R^2 = {}\".format(round(model_2.rsquared, 3)))"
   ]
  },
  {
   "cell_type": "markdown",
   "metadata": {},
   "source": [
    "So as far as the $R^2$ value is concerned, the models are equivalent. To choose one over the other, we might look at prediction accuracy, comparing mean squared errors, for example"
   ]
  },
  {
   "cell_type": "code",
   "execution_count": 12,
   "metadata": {},
   "outputs": [
    {
     "name": "stdout",
     "output_type": "stream",
     "text": [
      "The first model has model mean squared error 253.813\n",
      "The first model has residual mean squared error 6.113\n",
      "The first model has total mean squared error 7.976\n"
     ]
    }
   ],
   "source": [
    "print(\"The first model has model mean squared error {}\".format(round(model.mse_model, 3)))\n",
    "print(\"The first model has residual mean squared error {}\".format(round(model.mse_resid, 3)))\n",
    "print(\"The first model has total mean squared error {}\".format(round(model.mse_total, 3)))"
   ]
  },
  {
   "cell_type": "code",
   "execution_count": 13,
   "metadata": {},
   "outputs": [
    {
     "name": "stdout",
     "output_type": "stream",
     "text": [
      "The second model has model mean squared error 380.7\n",
      "The second model has residual mean squared error 6.098\n",
      "The second model has total mean squared error 7.976\n"
     ]
    }
   ],
   "source": [
    "print(\"The second model has model mean squared error {}\".format(round(model_2.mse_model, 3)))\n",
    "print(\"The second model has residual mean squared error {}\".format(round(model_2.mse_resid, 3)))\n",
    "print(\"The second model has total mean squared error {}\".format(round(model_2.mse_total, 3)))"
   ]
  },
  {
   "cell_type": "code",
   "execution_count": 14,
   "metadata": {},
   "outputs": [
    {
     "name": "stdout",
     "output_type": "stream",
     "text": [
      "The second model's model mse is 49.992% of the first\n",
      "The second model's residual mse is -0.25% of the first\n",
      "The second model's total mse is 0.0% of the first\n"
     ]
    }
   ],
   "source": [
    "print(\"The second model's model mse is {}% of the first\".format(\n",
    "      round(((model_2.mse_model - model.mse_model) * 100) / model.mse_model, 3)))\n",
    "print(\"The second model's residual mse is {}% of the first\".format(\n",
    "      round(((model_2.mse_resid - model.mse_resid) * 100) / model.mse_resid, 3)))\n",
    "print(\"The second model's total mse is {}% of the first\".format(\n",
    "      round(((model_2.mse_total - model.mse_total) * 100) / model.mse_total, 3)))"
   ]
  },
  {
   "cell_type": "markdown",
   "metadata": {},
   "source": [
    "The `statsmodel` documentation has [descriptions of these mean squared errors]<sup><a href='#foot1' id='ref1'>1</a></sup>(https://www.statsmodels.org/dev/generated/statsmodels.regression.linear_model.RegressionResults.html). \n",
    "\n",
    "- The model mean squared error is \"the explained sum of squares divided by the model degrees of freedom\" \n",
    "- The residual mean squared error is \"the sum of squared residuals divided by the residual degrees of freedom\" \n",
    "- The total mean squared error is \"the uncentered total sum of squares divided by n the number of observations\"\n",
    "\n",
    "In OLS multiple regression with $n$ observations and $p$ predictors, the number of model degrees of freedom are $p$, the number of residual degrees of freedom are $n - p - 1$, so we have\n",
    "\n",
    "$$\\mathbf{mse}_{model} = \\frac{1}{p}\\left(\\sum_{i = 1}^n (\\hat{y}_i - \\overline{y})^2\\right)$$\n",
    "$$\\mathbf{mse}_{resid} = \\frac{1}{n - p - 1}\\left(\\sum_{i = 1}^n (\\hat{y}_i - y_i)^2\\right)$$\n",
    "$$\\mathbf{mse}_{total} = \\frac{1}{n}\\left(\\sum_{i = 1}^n (y_i - \\overline{y})^2\\right)$$\n",
    "\n",
    "From this we can draw some conclusions\n",
    "\n",
    "- It's clear why $\\mathbf{mse}_{total}$ for the two models in this problem\n",
    "- The error $\\mathbf{mse}_{resid}$ is slightly smaller ($0.25\\%$) for the second model, so it's slightly at predicting the response.\n",
    "- The error $\\mathbf{mse}_{resid}$ is much larger ($50\\%$) for the second model, so for this model the response predictions have a much greater deviation from average\n",
    "\n",
    "From this perspective, the first model seems preferable, but it's difficult to say. The tiebreaker should come from their performance on test data."
   ]
  },
  {
   "cell_type": "markdown",
   "metadata": {},
   "source": [
    "## (g) Confidence intervals for coefficients in the second model"
   ]
  },
  {
   "cell_type": "code",
   "execution_count": 15,
   "metadata": {},
   "outputs": [
    {
     "data": {
      "text/html": [
       "<div>\n",
       "<style scoped>\n",
       "    .dataframe tbody tr th:only-of-type {\n",
       "        vertical-align: middle;\n",
       "    }\n",
       "\n",
       "    .dataframe tbody tr th {\n",
       "        vertical-align: top;\n",
       "    }\n",
       "\n",
       "    .dataframe thead th {\n",
       "        text-align: right;\n",
       "    }\n",
       "</style>\n",
       "<table border=\"1\" class=\"dataframe\">\n",
       "  <thead>\n",
       "    <tr style=\"text-align: right;\">\n",
       "      <th></th>\n",
       "      <th>0</th>\n",
       "      <th>1</th>\n",
       "    </tr>\n",
       "  </thead>\n",
       "  <tbody>\n",
       "    <tr>\n",
       "      <th>Intercept</th>\n",
       "      <td>11.79032</td>\n",
       "      <td>14.271265</td>\n",
       "    </tr>\n",
       "    <tr>\n",
       "      <th>US</th>\n",
       "      <td>0.69152</td>\n",
       "      <td>1.707766</td>\n",
       "    </tr>\n",
       "    <tr>\n",
       "      <th>Price</th>\n",
       "      <td>-0.06476</td>\n",
       "      <td>-0.044195</td>\n",
       "    </tr>\n",
       "  </tbody>\n",
       "</table>\n",
       "</div>"
      ],
      "text/plain": [
       "                  0          1\n",
       "Intercept  11.79032  14.271265\n",
       "US          0.69152   1.707766\n",
       "Price      -0.06476  -0.044195"
      ]
     },
     "execution_count": 15,
     "metadata": {},
     "output_type": "execute_result"
    }
   ],
   "source": [
    "model_2.conf_int()"
   ]
  },
  {
   "cell_type": "markdown",
   "metadata": {},
   "source": [
    "## (h) Outliers and high leverage points in the second model"
   ]
  },
  {
   "cell_type": "markdown",
   "metadata": {},
   "source": [
    "To check for outliers we look at a standardized residuals vs fitted values plot"
   ]
  },
  {
   "cell_type": "code",
   "execution_count": 16,
   "metadata": {},
   "outputs": [
    {
     "data": {
      "text/plain": [
       "Text(0,0.5,'studentized resid')"
      ]
     },
     "execution_count": 16,
     "metadata": {},
     "output_type": "execute_result"
    },
    {
     "data": {
      "image/png": "[encoded data removed]",
      "text/plain": [
       "<Figure size 432x288 with 1 Axes>"
      ]
     },
     "metadata": {},
     "output_type": "display_data"
    }
   ],
   "source": [
    "import matplotlib.pyplot as plt\n",
    "import seaborn as sns\n",
    "\n",
    "%matplotlib inline\n",
    "\n",
    "sns.regplot(model_2.get_prediction().summary_frame()['mean'], model_2.resid/model_2.resid.std(),\n",
    "            lowess=True,\n",
    "            line_kws={'color':'r', 'lw':1},\n",
    "            scatter_kws={'facecolors':'grey', 'edgecolors':'grey', 'alpha':0.4})\n",
    "plt.xlabel('fitted values')\n",
    "plt.ylabel('studentized resid')"
   ]
  },
  {
   "cell_type": "markdown",
   "metadata": {},
   "source": [
    "No outliers -- all the studentized residual values are in the interval"
   ]
  },
  {
   "cell_type": "code",
   "execution_count": 17,
   "metadata": {},
   "outputs": [
    {
     "data": {
      "text/plain": [
       "(-2.812135116227541, 2.8627420897506766)"
      ]
     },
     "execution_count": 17,
     "metadata": {},
     "output_type": "execute_result"
    }
   ],
   "source": [
    "((model_2.resid/model_2.resid.std()).min(), (model_2.resid/model_2.resid.std()).max())"
   ]
  },
  {
   "cell_type": "markdown",
   "metadata": {},
   "source": [
    "To check for high influence points we do an influence plot"
   ]
  },
  {
   "cell_type": "code",
   "execution_count": 18,
   "metadata": {},
   "outputs": [
    {
     "data": {
      "text/plain": [
       "[<matplotlib.lines.Line2D at 0x1a181ff6a0>]"
      ]
     },
     "execution_count": 18,
     "metadata": {},
     "output_type": "execute_result"
    },
    {
     "data": {
      "image/png": "[encoded data removed]",
      "text/plain": [
       "<Figure size 432x288 with 1 Axes>"
      ]
     },
     "metadata": {},
     "output_type": "display_data"
    }
   ],
   "source": [
    "# scatterplot of leverage vs studentized residuals\n",
    "axes = sns.regplot(model_2.get_influence().hat_matrix_diag, model_2.resid/model_2.resid.std(), \n",
    "            lowess=True, \n",
    "            line_kws={'color':'r', 'lw':1},\n",
    "            scatter_kws={'facecolors':'grey', 'edgecolors':'grey', 'alpha':0.4})\n",
    "plt.xlabel('leverage')\n",
    "plt.ylabel('studentized resid')\n",
    "\n",
    "# plot Cook's distance contours for D = 0.5, D = 1\n",
    "x = np.linspace(axes.get_xlim()[0], axes.get_xlim()[1], 50)\n",
    "plt.plot(x, np.sqrt(0.5*(1 - x)/x), color='red', linestyle='dashed')\n",
    "plt.plot(x, np.sqrt((1 - x)/x), color='red', linestyle='dashed')"
   ]
  },
  {
   "cell_type": "markdown",
   "metadata": {},
   "source": [
    "No high influence points. There is one rather high leverage point, but it has a low residual."
   ]
  },
  {
   "cell_type": "markdown",
   "metadata": {},
   "source": [
    "___\n",
    "## Footnotes\n",
    "\n",
    "<p>\n",
    "</p>\n",
    "\n",
    "<div id=\"foot0\"> 0. For the authors's exploration of this dataset, see section 3.6.6 in the text \n",
    "<a href=\"#ref0\">↩</a>\n",
    "</div>\n",
    "\n",
    "<p>\n",
    "</p>\n",
    "\n",
    "<div id=\"foot0\"> 1. Related quantities in the book are ESS, RSS and TSS, respectively. The three are related by $TSS = ESS + RSS$. The book doesn't mention ESS explicitly, but $ESS = TSS - RSS$\n",
    "<a href=\"#ref0\">↩</a>\n",
    "</div>"
   ]
  }
 ],
 "metadata": {
  "kernelspec": {
   "display_name": "Python 3",
   "language": "python",
   "name": "python3"
  },
  "language_info": {
   "codemirror_mode": {
    "name": "ipython",
    "version": 3
   },
   "file_extension": ".py",
   "mimetype": "text/x-python",
   "name": "python",
   "nbconvert_exporter": "python",
   "pygments_lexer": "ipython3",
   "version": "3.6.5"
  },
  "toc": {
   "base_numbering": 1,
   "nav_menu": {},
   "number_sections": false,
   "sideBar": false,
   "skip_h1_title": true,
   "title_cell": "Table of Contents",
   "title_sidebar": "Contents",
   "toc_cell": false,
   "toc_position": {
    "height": "65px",
    "left": "1059px",
    "top": "148px",
    "width": "159px"
   },
   "toc_section_display": false,
   "toc_window_display": true
  }
 },
 "nbformat": 4,
 "nbformat_minor": 2
}
