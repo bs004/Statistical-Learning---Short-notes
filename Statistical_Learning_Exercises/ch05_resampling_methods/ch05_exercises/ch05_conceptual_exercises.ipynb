{
 "cells": [
  {
   "cell_type": "markdown",
   "metadata": {},
   "source": [
    "## Exercise 1: Minimize the weighted sum of two random variables"
   ]
  },
  {
   "cell_type": "markdown",
   "metadata": {},
   "source": [
    "*Using basic statistical properties of the variance, as well as single- variable calculus, derive (5.6). In other words, prove that α given by (5.6) does indeed minimize Var$(\\alpha X + (1 − \\alpha)Y)$*"
   ]
  },
  {
   "cell_type": "markdown",
   "metadata": {},
   "source": [
    "Using properties of variance we have\n",
    "\n",
    "$$\\text{Var}(\\alpha X + (1 - \\alpha) Y) = \\alpha^2\\sigma^2_X + (1 - \\alpha)^2\\sigma^2_Y + 2\\alpha(1-\\alpha)\\sigma_{XY}$$\n",
    "\n",
    "Taking the derivative with respect to $\\alpha$, set to zero \n",
    "\n",
    "$$2\\alpha\\sigma^2_X - 2(1 - \\alpha)\\sigma^2_Y + 2(1-2\\alpha)\\sigma_{XY} = 0$$\n",
    "\n",
    "solve for $\\alpha$ to find\n",
    "\n",
    "$$\\alpha = \\frac{\\sigma^2_Y - \\sigma_{XY}}{\\sigma^2_X + \\sigma^2_Y - 2\\sigma_{XY}}$$\n",
    "\n"
   ]
  },
  {
   "cell_type": "markdown",
   "metadata": {},
   "source": [
    "## Exercise 2: Derive the probability an observation appears in a bootstrap sample"
   ]
  },
  {
   "cell_type": "markdown",
   "metadata": {},
   "source": [
    "### (a)"
   ]
  },
  {
   "cell_type": "markdown",
   "metadata": {},
   "source": [
    "*What is the probability that the first bootstrap observation is not the jth observation from the original sample? Justify your answer.*"
   ]
  },
  {
   "cell_type": "markdown",
   "metadata": {},
   "source": [
    "$$\n",
    "\\begin{align*}\n",
    "P(\\text{first bootstrap observation is not}\\ j-\\text{th observation}) &= \\\\\n",
    "&= 1 - P(\\text{first bootstrap observation is}\\ j-\\text{th observation})\\\\\n",
    "&= 1 - \\frac{1}{n}\n",
    "\\end{align*}\n",
    "$$\n",
    "\n",
    "Since the boostrap observations are chosen uniformly at random"
   ]
  },
  {
   "cell_type": "markdown",
   "metadata": {},
   "source": [
    "### (b)"
   ]
  },
  {
   "cell_type": "markdown",
   "metadata": {},
   "source": [
    "*What is the probability that the second bootstrap observation is not the jth observation from the original sample?*"
   ]
  },
  {
   "cell_type": "markdown",
   "metadata": {},
   "source": [
    "The probability is still $1 - \\frac{1}{n}$ since the bootstrap samples are drawn with replacement"
   ]
  },
  {
   "cell_type": "markdown",
   "metadata": {},
   "source": [
    "### (c)\n",
    "\n",
    "Let \n",
    "\n",
    "$$A = \\text{the}\\ j-\\text{th observation is not in the bootstrap sample}$$\n",
    "$$A_k = \\text{the}\\ k-\\text{th bootstrap observation is not the}\\ j-\\text{th observation}$$\n",
    "\n",
    "Then since the bootstrap observations are drawn uniformly at random the $A_k$ are independent and $P(A_k) = 1- \\frac{1}{n}$ hence\n",
    "\n",
    "$$\n",
    "\\begin{align*}\n",
    "P(A) &= P\\left(\\cap_{k = 1}^n A_k\\right)\\\\\n",
    "&= \\prod_{k = 1}^n P(A_k)\\\\\n",
    "&= \\prod_{k = 1}^n \\left(1 - \\frac{1}{n}\\right)\\\\\n",
    "&= \\left(1 - \\frac{1}{n}\\right)^n\n",
    "\\end{align*}\n",
    "$$"
   ]
  },
  {
   "cell_type": "markdown",
   "metadata": {},
   "source": [
    "### (d)"
   ]
  },
  {
   "cell_type": "markdown",
   "metadata": {},
   "source": [
    "We have\n",
    "\n",
    "$$A^c = \\text{the}\\ j-\\text{th observation is in the bootstrap sample}$$\n",
    "\n",
    "So \n",
    "\n",
    "$$P(A^c) = 1 - P(A) = 1 - (1 - \\frac{1}{n})^n$$\n",
    "\n",
    "When $n=5$, $P(A^c) =$"
   ]
  },
  {
   "cell_type": "code",
   "execution_count": 4,
   "metadata": {},
   "outputs": [
    {
     "data": {
      "text/plain": [
       "0.6723199999999999"
      ]
     },
     "execution_count": 4,
     "metadata": {},
     "output_type": "execute_result"
    }
   ],
   "source": [
    "1 - (1 - 1/5)**5"
   ]
  },
  {
   "cell_type": "markdown",
   "metadata": {},
   "source": [
    "### (e)"
   ]
  },
  {
   "cell_type": "markdown",
   "metadata": {},
   "source": [
    "When $n=100, P(A)$ is"
   ]
  },
  {
   "cell_type": "code",
   "execution_count": 5,
   "metadata": {},
   "outputs": [
    {
     "data": {
      "text/plain": [
       "0.6339676587267709"
      ]
     },
     "execution_count": 5,
     "metadata": {},
     "output_type": "execute_result"
    }
   ],
   "source": [
    "1 - (1 - 1/100)**100"
   ]
  },
  {
   "cell_type": "markdown",
   "metadata": {},
   "source": [
    "### (f)"
   ]
  },
  {
   "cell_type": "markdown",
   "metadata": {},
   "source": [
    "When $n=10^4, P(A)$ is"
   ]
  },
  {
   "cell_type": "code",
   "execution_count": 7,
   "metadata": {},
   "outputs": [
    {
     "data": {
      "text/plain": [
       "0.6321223982317534"
      ]
     },
     "execution_count": 7,
     "metadata": {},
     "output_type": "execute_result"
    }
   ],
   "source": [
    "1 - (1 - 1/10e4)**10e4"
   ]
  },
  {
   "cell_type": "markdown",
   "metadata": {},
   "source": [
    "### (g)"
   ]
  },
  {
   "cell_type": "code",
   "execution_count": 10,
   "metadata": {},
   "outputs": [],
   "source": [
    "import numpy as np\n",
    "import matplotlib.pyplot as plt\n",
    "\n",
    "%matplotlib inline\n",
    "plt.style.use('seaborn-white')"
   ]
  },
  {
   "cell_type": "code",
   "execution_count": 23,
   "metadata": {},
   "outputs": [
    {
     "data": {
      "text/plain": [
       "[<matplotlib.lines.Line2D at 0x11d180860>]"
      ]
     },
     "execution_count": 23,
     "metadata": {},
     "output_type": "execute_result"
    },
    {
     "data": {
      "image/png": "[encoded data removed]",
      "text/plain": [
       "<Figure size 432x288 with 1 Axes>"
      ]
     },
     "metadata": {},
     "output_type": "display_data"
    }
   ],
   "source": [
    "x = np.arange(1, 100000, 1)\n",
    "y = 1 - (1 - 1/x)**x\n",
    "\n",
    "plt.plot(x, y, color='r')"
   ]
  },
  {
   "cell_type": "markdown",
   "metadata": {},
   "source": [
    "The probability rapidly drops to around $\\frac{2}{3}$"
   ]
  },
  {
   "cell_type": "code",
   "execution_count": 26,
   "metadata": {},
   "outputs": [
    {
     "data": {
      "text/plain": [
       "[<matplotlib.lines.Line2D at 0x121806ac8>]"
      ]
     },
     "execution_count": 26,
     "metadata": {},
     "output_type": "execute_result"
    },
    {
     "data": {
      "image/png": "[encoded data removed]",
      "text/plain": [
       "<Figure size 432x288 with 1 Axes>"
      ]
     },
     "metadata": {},
     "output_type": "display_data"
    }
   ],
   "source": [
    "x = np.arange(1, 10, 1)\n",
    "y = 1 - (1 - 1/x)**x\n",
    "\n",
    "plt.plot(x, y, color='r')"
   ]
  },
  {
   "cell_type": "markdown",
   "metadata": {},
   "source": [
    "then slowly asymptotically approaches [the limit](https://en.wikipedia.org/wiki/Exponential_function#Overview)\n",
    "\n",
    "$$ \\underset{n \\rightarrow \\infty}{\\lim} 1 - (1 - \\frac{1}{n})^n = 1 - e^{-1} \\approx 0.6321$$"
   ]
  },
  {
   "cell_type": "markdown",
   "metadata": {},
   "source": [
    "### (h)"
   ]
  },
  {
   "cell_type": "code",
   "execution_count": 29,
   "metadata": {},
   "outputs": [
    {
     "data": {
      "text/plain": [
       "0.6308"
      ]
     },
     "execution_count": 29,
     "metadata": {},
     "output_type": "execute_result"
    }
   ],
   "source": [
    "data = np.arange(1, 101, 1)\n",
    "\n",
    "sum([4 in np.random.choice(data, size=100, replace=True) for i in range(10000)])/10000"
   ]
  },
  {
   "cell_type": "markdown",
   "metadata": {},
   "source": [
    "Very close to the expected value of "
   ]
  },
  {
   "cell_type": "code",
   "execution_count": 30,
   "metadata": {},
   "outputs": [
    {
     "data": {
      "text/plain": [
       "0.6339676587267709"
      ]
     },
     "execution_count": 30,
     "metadata": {},
     "output_type": "execute_result"
    }
   ],
   "source": [
    "1 - (1 - 1/100)**100"
   ]
  },
  {
   "cell_type": "markdown",
   "metadata": {},
   "source": [
    "### Exercise 3: $k$-fold Cross Validation"
   ]
  },
  {
   "cell_type": "markdown",
   "metadata": {},
   "source": [
    "See section 5.1.3 in the [notes](../../Notes.ipynb)"
   ]
  },
  {
   "cell_type": "markdown",
   "metadata": {},
   "source": [
    "### Exercise 4: Estimate the standard deviation of a predicted reponse"
   ]
  },
  {
   "cell_type": "markdown",
   "metadata": {},
   "source": [
    "Suppose given $(X, Y)$ we predict $\\hat{Y}$. This is an estimator <sup><a href='#foot0' id='ref0'>0</a></sup>. To estimate its standard error using data $(x_1, y_1), \\dots, (x_n, y_n)$ use the \"plug-in\" estimator <sup><a href='#foot1' id='ref1'>1</a></sup>\n",
    "\n",
    "$$\\hat{se}(\\hat{Y}) = \\sqrt{\\frac{1}{n} \\sum_{i = 1}^ n \\left(\\hat{y}_i - \\overline{\\hat{y}}\\right)^2}$$\n",
    "\n",
    "where $\\hat{y}_i$ is the predicted value for $x_i$ and $\\overline{\\hat{y}}$ is the mean predicted value.\n",
    "\n",
    "In other words, use the sample standard deviation of the predicted values."
   ]
  },
  {
   "cell_type": "markdown",
   "metadata": {},
   "source": [
    "## Footnotes"
   ]
  },
  {
   "cell_type": "markdown",
   "metadata": {},
   "source": [
    "<p>\n",
    "</p>\n",
    "\n",
    "<div id=\"foot0\"> 0. I.e. a random variable corresponding to the statistical learning method we use and dependent on the observed data\n",
    "<a href=\"#ref0\">↩</a>\n",
    "</div>\n",
    "\n",
    "<p>\n",
    "</p>\n",
    "\n",
    "<div id=\"foot1\"> 1. I.e. a random variable corresponding to the statistical learning method we use and dependent on the observed data\n",
    "<a href=\"#ref1\">↩</a>\n",
    "</div>"
   ]
  }
 ],
 "metadata": {
  "kernelspec": {
   "display_name": "Python 3",
   "language": "python",
   "name": "python3"
  },
  "language_info": {
   "codemirror_mode": {
    "name": "ipython",
    "version": 3
   },
   "file_extension": ".py",
   "mimetype": "text/x-python",
   "name": "python",
   "nbconvert_exporter": "python",
   "pygments_lexer": "ipython3",
   "version": "3.6.5"
  },
  "toc": {
   "base_numbering": 1,
   "nav_menu": {},
   "number_sections": false,
   "sideBar": false,
   "skip_h1_title": true,
   "title_cell": "Table of Contents",
   "title_sidebar": "Contents",
   "toc_cell": false,
   "toc_position": {
    "height": "48px",
    "left": "961.997px",
    "top": "134px",
    "width": "159px"
   },
   "toc_section_display": false,
   "toc_window_display": true
  }
 },
 "nbformat": 4,
 "nbformat_minor": 2
}
