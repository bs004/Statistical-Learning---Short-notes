{
 "cells": [
  {
   "cell_type": "markdown",
   "metadata": {},
   "source": [
    "# Cross-validation on simulated data"
   ]
  },
  {
   "cell_type": "markdown",
   "metadata": {},
   "source": [
    "## (a) Generate data"
   ]
  },
  {
   "cell_type": "code",
   "execution_count": 59,
   "metadata": {},
   "outputs": [],
   "source": [
    "import numpy as np\n",
    "\n",
    "np.random.seed(0)\n",
    "\n",
    "X = np.random.normal(size=100)\n",
    "Y = -2*X**2 + X + np.random.normal(size=100)"
   ]
  },
  {
   "cell_type": "markdown",
   "metadata": {},
   "source": [
    "The model here is \n",
    "\n",
    "$$Y = -2 X^2 + X + \\epsilon$$\n",
    "\n",
    "Where $X, \\epsilon \\sim \\text{Normal}(0, 1)$. \n",
    "\n",
    "The sample size is $n=100$. Since we don't know polynomial regression yet, we have $p=2$, i.e. $X_1 = X, X_2 = X^2$. "
   ]
  },
  {
   "cell_type": "markdown",
   "metadata": {},
   "source": [
    "## (b) Scatter plot"
   ]
  },
  {
   "cell_type": "code",
   "execution_count": 60,
   "metadata": {},
   "outputs": [
    {
     "data": {
      "text/plain": [
       "<matplotlib.axes._subplots.AxesSubplot at 0x1a1f70d4e0>"
      ]
     },
     "execution_count": 60,
     "metadata": {},
     "output_type": "execute_result"
    },
    {
     "data": {
      "image/png": "[encoded data removed]",
      "text/plain": [
       "<Figure size 432x288 with 1 Axes>"
      ]
     },
     "metadata": {},
     "output_type": "display_data"
    }
   ],
   "source": [
    "import seaborn as sns\n",
    "%matplotlib inline\n",
    "\n",
    "sns.scatterplot(X, Y)"
   ]
  },
  {
   "cell_type": "markdown",
   "metadata": {},
   "source": [
    "## (c) LOOCV errors for various models"
   ]
  },
  {
   "cell_type": "markdown",
   "metadata": {},
   "source": [
    "### Dataframe"
   ]
  },
  {
   "cell_type": "code",
   "execution_count": 68,
   "metadata": {},
   "outputs": [
    {
     "data": {
      "text/html": [
       "<div>\n",
       "<style scoped>\n",
       "    .dataframe tbody tr th:only-of-type {\n",
       "        vertical-align: middle;\n",
       "    }\n",
       "\n",
       "    .dataframe tbody tr th {\n",
       "        vertical-align: top;\n",
       "    }\n",
       "\n",
       "    .dataframe thead th {\n",
       "        text-align: right;\n",
       "    }\n",
       "</style>\n",
       "<table border=\"1\" class=\"dataframe\">\n",
       "  <thead>\n",
       "    <tr style=\"text-align: right;\">\n",
       "      <th></th>\n",
       "      <th>const</th>\n",
       "      <th>X</th>\n",
       "      <th>Y</th>\n",
       "      <th>X_2</th>\n",
       "      <th>X_3</th>\n",
       "      <th>X_4</th>\n",
       "    </tr>\n",
       "  </thead>\n",
       "  <tbody>\n",
       "    <tr>\n",
       "      <th>0</th>\n",
       "      <td>1</td>\n",
       "      <td>1.764052</td>\n",
       "      <td>-2.576558</td>\n",
       "      <td>3.111881</td>\n",
       "      <td>5.489520</td>\n",
       "      <td>9.683801</td>\n",
       "    </tr>\n",
       "    <tr>\n",
       "      <th>1</th>\n",
       "      <td>1</td>\n",
       "      <td>0.400157</td>\n",
       "      <td>-1.267853</td>\n",
       "      <td>0.160126</td>\n",
       "      <td>0.064075</td>\n",
       "      <td>0.025640</td>\n",
       "    </tr>\n",
       "    <tr>\n",
       "      <th>2</th>\n",
       "      <td>1</td>\n",
       "      <td>0.978738</td>\n",
       "      <td>-2.207603</td>\n",
       "      <td>0.957928</td>\n",
       "      <td>0.937561</td>\n",
       "      <td>0.917626</td>\n",
       "    </tr>\n",
       "    <tr>\n",
       "      <th>3</th>\n",
       "      <td>1</td>\n",
       "      <td>2.240893</td>\n",
       "      <td>-6.832915</td>\n",
       "      <td>5.021602</td>\n",
       "      <td>11.252875</td>\n",
       "      <td>25.216490</td>\n",
       "    </tr>\n",
       "    <tr>\n",
       "      <th>4</th>\n",
       "      <td>1</td>\n",
       "      <td>1.867558</td>\n",
       "      <td>-6.281111</td>\n",
       "      <td>3.487773</td>\n",
       "      <td>6.513618</td>\n",
       "      <td>12.164559</td>\n",
       "    </tr>\n",
       "  </tbody>\n",
       "</table>\n",
       "</div>"
      ],
      "text/plain": [
       "   const         X         Y       X_2        X_3        X_4\n",
       "0      1  1.764052 -2.576558  3.111881   5.489520   9.683801\n",
       "1      1  0.400157 -1.267853  0.160126   0.064075   0.025640\n",
       "2      1  0.978738 -2.207603  0.957928   0.937561   0.917626\n",
       "3      1  2.240893 -6.832915  5.021602  11.252875  25.216490\n",
       "4      1  1.867558 -6.281111  3.487773   6.513618  12.164559"
      ]
     },
     "execution_count": 68,
     "metadata": {},
     "output_type": "execute_result"
    }
   ],
   "source": [
    "import pandas as pd\n",
    "\n",
    "data = pd.DataFrame({'const': len(X)*[1], 'X': X, 'Y': Y})\n",
    "for i in range(2,5):\n",
    "    data['X_' + str(i)] = X**i\n",
    "\n",
    "data.head()"
   ]
  },
  {
   "cell_type": "markdown",
   "metadata": {},
   "source": [
    "### Models"
   ]
  },
  {
   "cell_type": "code",
   "execution_count": 73,
   "metadata": {},
   "outputs": [],
   "source": [
    "from sklearn.linear_model import LinearRegression\n",
    "\n",
    "models = {}\n",
    "models['deg1'] = LinearRegression(data[['const', 'X']], data['Y'])\n",
    "models['deg2'] = LinearRegression(data[['const', 'X', 'X_2']], data['Y'])\n",
    "models['deg3'] = LinearRegression(data[['const', 'X', 'X_2', 'X_3']], data['Y'])\n",
    "models['deg4'] = LinearRegression(data[['const', 'X', 'X_2', 'X_3', 'X_4']], data['Y'])"
   ]
  },
  {
   "cell_type": "markdown",
   "metadata": {},
   "source": [
    "### LOOCV errors"
   ]
  },
  {
   "cell_type": "code",
   "execution_count": 75,
   "metadata": {},
   "outputs": [],
   "source": [
    "from sklearn.model_selection import LeaveOneOut\n",
    "\n",
    "loocv = LeaveOneOut()\n",
    "\n",
    "errors = []\n",
    "\n",
    "### Degree 1 model\n",
    "X = data[['const', 'X']].values\n",
    "y = data['Y'].values\n",
    "y_pred = np.array([])\n",
    "\n",
    "for train_index, test_index in loocv.split(X):\n",
    "    X_train, X_test, y_train, y_test = X[train_index], X[test_index], y[train_index], y[test_index]\n",
    "    y_pred = np.append(y_pred, LinearRegression().fit(X_train, y_train).predict(X_test))\n",
    "\n",
    "errors += [abs(y-y_pred).mean()]\n",
    "\n",
    "### Degree 2 model\n",
    "X = data[['const', 'X', 'X_2']].values\n",
    "y = data['Y'].values\n",
    "y_pred = np.array([])\n",
    "\n",
    "for train_index, test_index in loocv.split(X):\n",
    "    X_train, X_test, y_train, y_test = X[train_index], X[test_index], y[train_index], y[test_index]\n",
    "    y_pred = np.append(y_pred, LinearRegression().fit(X_train, y_train).predict(X_test))\n",
    "\n",
    "errors += [abs(y-y_pred).mean()]\n",
    "\n",
    "### Degree 3 model\n",
    "X = data[['const', 'X', 'X_2', 'X_3']].values\n",
    "y = data['Y'].values\n",
    "y_pred = np.array([])\n",
    "\n",
    "for train_index, test_index in loocv.split(X):\n",
    "    X_train, X_test, y_train, y_test = X[train_index], X[test_index], y[train_index], y[test_index]\n",
    "    y_pred = np.append(y_pred, LinearRegression().fit(X_train, y_train).predict(X_test))\n",
    "\n",
    "errors += [abs(y-y_pred).mean()]\n",
    "\n",
    "### Degree 4 model\n",
    "X = data[['const', 'X', 'X_2', 'X_3', 'X_4']].values\n",
    "y = data['Y'].values\n",
    "y_pred = np.array([])\n",
    "\n",
    "for train_index, test_index in loocv.split(X):\n",
    "    X_train, X_test, y_train, y_test = X[train_index], X[test_index], y[train_index], y[test_index]\n",
    "    y_pred = np.append(y_pred, LinearRegression().fit(X_train, y_train).predict(X_test))\n",
    "\n",
    "errors += [abs(y-y_pred).mean()]"
   ]
  },
  {
   "cell_type": "code",
   "execution_count": 76,
   "metadata": {},
   "outputs": [
    {
     "data": {
      "text/html": [
       "<div>\n",
       "<style scoped>\n",
       "    .dataframe tbody tr th:only-of-type {\n",
       "        vertical-align: middle;\n",
       "    }\n",
       "\n",
       "    .dataframe tbody tr th {\n",
       "        vertical-align: top;\n",
       "    }\n",
       "\n",
       "    .dataframe thead th {\n",
       "        text-align: right;\n",
       "    }\n",
       "</style>\n",
       "<table border=\"1\" class=\"dataframe\">\n",
       "  <thead>\n",
       "    <tr style=\"text-align: right;\">\n",
       "      <th></th>\n",
       "      <th>model</th>\n",
       "      <th>est_LOOCV_err</th>\n",
       "    </tr>\n",
       "  </thead>\n",
       "  <tbody>\n",
       "    <tr>\n",
       "      <th>0</th>\n",
       "      <td>deg1</td>\n",
       "      <td>2.239087</td>\n",
       "    </tr>\n",
       "    <tr>\n",
       "      <th>1</th>\n",
       "      <td>deg2</td>\n",
       "      <td>0.904460</td>\n",
       "    </tr>\n",
       "    <tr>\n",
       "      <th>2</th>\n",
       "      <td>deg3</td>\n",
       "      <td>0.917489</td>\n",
       "    </tr>\n",
       "    <tr>\n",
       "      <th>3</th>\n",
       "      <td>deg4</td>\n",
       "      <td>0.925485</td>\n",
       "    </tr>\n",
       "  </tbody>\n",
       "</table>\n",
       "</div>"
      ],
      "text/plain": [
       "  model  est_LOOCV_err\n",
       "0  deg1       2.239087\n",
       "1  deg2       0.904460\n",
       "2  deg3       0.917489\n",
       "3  deg4       0.925485"
      ]
     },
     "execution_count": 76,
     "metadata": {},
     "output_type": "execute_result"
    }
   ],
   "source": [
    "model_names = ['deg' + str(i) for i in range(1,5)]\n",
    "errors_df = pd.DataFrame({'model': model_names, 'est_LOOCV_err': errors})\n",
    "errors_df"
   ]
  },
  {
   "cell_type": "markdown",
   "metadata": {},
   "source": [
    "## (d) Repeat (c)"
   ]
  },
  {
   "cell_type": "markdown",
   "metadata": {},
   "source": [
    "If we repeat (c) we don't get any difference, since LOOCV is deterministic."
   ]
  },
  {
   "cell_type": "markdown",
   "metadata": {},
   "source": [
    "### (e) Which model had the smallest error?"
   ]
  },
  {
   "cell_type": "markdown",
   "metadata": {},
   "source": [
    "The degree 2 model had the smallest error. This is to be expected. Since the original data was generated by a degree 2, we expect a degree 2 model to have lower test error, and the LOOCV is an estimate of the test error"
   ]
  },
  {
   "cell_type": "markdown",
   "metadata": {},
   "source": [
    "### (f) Hypothesis testing the coefficients"
   ]
  },
  {
   "cell_type": "code",
   "execution_count": 77,
   "metadata": {},
   "outputs": [
    {
     "data": {
      "text/html": [
       "<table class=\"simpletable\">\n",
       "<tr>\n",
       "      <td></td>         <th>coef</th>     <th>std err</th>      <th>t</th>      <th>P>|t|</th>  <th>[0.025</th>    <th>0.975]</th>  \n",
       "</tr>\n",
       "<tr>\n",
       "  <th>Intercept</th> <td>   -1.9487</td> <td>    0.290</td> <td>   -6.726</td> <td> 0.000</td> <td>   -2.524</td> <td>   -1.374</td>\n",
       "</tr>\n",
       "<tr>\n",
       "  <th>X</th>         <td>    0.8650</td> <td>    0.287</td> <td>    3.015</td> <td> 0.003</td> <td>    0.296</td> <td>    1.434</td>\n",
       "</tr>\n",
       "</table>"
      ],
      "text/plain": [
       "<class 'statsmodels.iolib.table.SimpleTable'>"
      ]
     },
     "execution_count": 77,
     "metadata": {},
     "output_type": "execute_result"
    }
   ],
   "source": [
    "import statsmodels.formula.api as smf\n",
    "\n",
    "smf.ols('Y ~ X', data=data).fit().summary().tables[1]"
   ]
  },
  {
   "cell_type": "code",
   "execution_count": 78,
   "metadata": {},
   "outputs": [
    {
     "data": {
      "text/html": [
       "<table class=\"simpletable\">\n",
       "<tr>\n",
       "      <td></td>         <th>coef</th>     <th>std err</th>      <th>t</th>      <th>P>|t|</th>  <th>[0.025</th>    <th>0.975]</th>  \n",
       "</tr>\n",
       "<tr>\n",
       "  <th>Intercept</th> <td>    0.1427</td> <td>    0.132</td> <td>    1.079</td> <td> 0.283</td> <td>   -0.120</td> <td>    0.405</td>\n",
       "</tr>\n",
       "<tr>\n",
       "  <th>X</th>         <td>    1.1230</td> <td>    0.104</td> <td>   10.829</td> <td> 0.000</td> <td>    0.917</td> <td>    1.329</td>\n",
       "</tr>\n",
       "<tr>\n",
       "  <th>X_2</th>       <td>   -2.0668</td> <td>    0.080</td> <td>  -25.700</td> <td> 0.000</td> <td>   -2.226</td> <td>   -1.907</td>\n",
       "</tr>\n",
       "</table>"
      ],
      "text/plain": [
       "<class 'statsmodels.iolib.table.SimpleTable'>"
      ]
     },
     "execution_count": 78,
     "metadata": {},
     "output_type": "execute_result"
    }
   ],
   "source": [
    "smf.ols('Y ~ X + X_2', data=data).fit().summary().tables[1]"
   ]
  },
  {
   "cell_type": "code",
   "execution_count": 79,
   "metadata": {},
   "outputs": [
    {
     "data": {
      "text/html": [
       "<table class=\"simpletable\">\n",
       "<tr>\n",
       "      <td></td>         <th>coef</th>     <th>std err</th>      <th>t</th>      <th>P>|t|</th>  <th>[0.025</th>    <th>0.975]</th>  \n",
       "</tr>\n",
       "<tr>\n",
       "  <th>Intercept</th> <td>    0.1432</td> <td>    0.133</td> <td>    1.077</td> <td> 0.284</td> <td>   -0.121</td> <td>    0.407</td>\n",
       "</tr>\n",
       "<tr>\n",
       "  <th>X</th>         <td>    1.1626</td> <td>    0.195</td> <td>    5.975</td> <td> 0.000</td> <td>    0.776</td> <td>    1.549</td>\n",
       "</tr>\n",
       "<tr>\n",
       "  <th>X_2</th>       <td>   -2.0668</td> <td>    0.081</td> <td>  -25.575</td> <td> 0.000</td> <td>   -2.227</td> <td>   -1.906</td>\n",
       "</tr>\n",
       "<tr>\n",
       "  <th>X_3</th>       <td>   -0.0148</td> <td>    0.061</td> <td>   -0.240</td> <td> 0.810</td> <td>   -0.137</td> <td>    0.107</td>\n",
       "</tr>\n",
       "</table>"
      ],
      "text/plain": [
       "<class 'statsmodels.iolib.table.SimpleTable'>"
      ]
     },
     "execution_count": 79,
     "metadata": {},
     "output_type": "execute_result"
    }
   ],
   "source": [
    "smf.ols('Y ~ X + X_2 + X_3', data=data).fit().summary().tables[1]"
   ]
  },
  {
   "cell_type": "code",
   "execution_count": 80,
   "metadata": {},
   "outputs": [
    {
     "data": {
      "text/html": [
       "<table class=\"simpletable\">\n",
       "<tr>\n",
       "      <td></td>         <th>coef</th>     <th>std err</th>      <th>t</th>      <th>P>|t|</th>  <th>[0.025</th>    <th>0.975]</th>  \n",
       "</tr>\n",
       "<tr>\n",
       "  <th>Intercept</th> <td>    0.2399</td> <td>    0.153</td> <td>    1.563</td> <td> 0.121</td> <td>   -0.065</td> <td>    0.545</td>\n",
       "</tr>\n",
       "<tr>\n",
       "  <th>X</th>         <td>    1.1207</td> <td>    0.197</td> <td>    5.691</td> <td> 0.000</td> <td>    0.730</td> <td>    1.512</td>\n",
       "</tr>\n",
       "<tr>\n",
       "  <th>X_2</th>       <td>   -2.3116</td> <td>    0.212</td> <td>  -10.903</td> <td> 0.000</td> <td>   -2.732</td> <td>   -1.891</td>\n",
       "</tr>\n",
       "<tr>\n",
       "  <th>X_3</th>       <td>    0.0049</td> <td>    0.063</td> <td>    0.078</td> <td> 0.938</td> <td>   -0.121</td> <td>    0.130</td>\n",
       "</tr>\n",
       "<tr>\n",
       "  <th>X_4</th>       <td>    0.0556</td> <td>    0.045</td> <td>    1.248</td> <td> 0.215</td> <td>   -0.033</td> <td>    0.144</td>\n",
       "</tr>\n",
       "</table>"
      ],
      "text/plain": [
       "<class 'statsmodels.iolib.table.SimpleTable'>"
      ]
     },
     "execution_count": 80,
     "metadata": {},
     "output_type": "execute_result"
    }
   ],
   "source": [
    "smf.ols('Y ~ X + X_2 + X_3 + X_4', data=data).fit().summary().tables[1]"
   ]
  },
  {
   "cell_type": "markdown",
   "metadata": {},
   "source": [
    "Observations:\n",
    "\n",
    "- The degree 1 model fit a constant coeffient with high significance while the higher degree models didn't.\n",
    "- The higher degree models all fit $X$ and $X^2$ coefficients with high significance but constant and higher degree coefficients with very low significance.\n",
    "\n",
    "These results are consistent with the LOOCV error results, which suggested a second degree model was best. If we decide which predictors to reject based on these hypothesis tests, we would end up with a model\n",
    "\n",
    "$$Y = \\beta_1X + \\beta_2X^2 + \\epsilon $$\n",
    "\n",
    "which is the form of the true model"
   ]
  }
 ],
 "metadata": {
  "kernelspec": {
   "display_name": "Python 3",
   "language": "python",
   "name": "python3"
  },
  "language_info": {
   "codemirror_mode": {
    "name": "ipython",
    "version": 3
   },
   "file_extension": ".py",
   "mimetype": "text/x-python",
   "name": "python",
   "nbconvert_exporter": "python",
   "pygments_lexer": "ipython3",
   "version": "3.6.5"
  },
  "toc": {
   "base_numbering": 1,
   "nav_menu": {},
   "number_sections": false,
   "sideBar": false,
   "skip_h1_title": true,
   "title_cell": "Table of Contents",
   "title_sidebar": "Contents",
   "toc_cell": false,
   "toc_position": {
    "height": "811px",
    "left": "892px",
    "top": "141px",
    "width": "232px"
   },
   "toc_section_display": false,
   "toc_window_display": true
  }
 },
 "nbformat": 4,
 "nbformat_minor": 2
}
